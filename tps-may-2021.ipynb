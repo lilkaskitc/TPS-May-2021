{
 "cells": [
  {
   "cell_type": "markdown",
   "id": "endless-divorce",
   "metadata": {
    "papermill": {
     "duration": 0.095041,
     "end_time": "2021-05-31T15:19:34.198664",
     "exception": false,
     "start_time": "2021-05-31T15:19:34.103623",
     "status": "completed"
    },
    "tags": []
   },
   "source": [
    "# Ground up solution"
   ]
  },
  {
   "cell_type": "markdown",
   "id": "representative-parent",
   "metadata": {
    "papermill": {
     "duration": 0.093139,
     "end_time": "2021-05-31T15:19:34.386724",
     "exception": false,
     "start_time": "2021-05-31T15:19:34.293585",
     "status": "completed"
    },
    "tags": []
   },
   "source": [
    "First of all, this solution is built on the idea to practise the complete workflow of machine learning prediction. Even though auto ML and blending other people's results are frequently used and legit in Kaggle, I think building a ground up solution is beneficial for gaining really solid understanding of the ML techniques.\n",
    "\n",
    "Since my computer is not powerful enough to handle the size of data here (100K times 50) with ease, I will strive for simple and efficient way to build the classification model on Kaggle hosting server. Again, the modelling process here is for learning the ML process rather than doing the fancy stuff or building specific solutions that are not ready for generalisation to other problems.\n",
    "\n",
    "Based on the background above, you will see a solution in favour of simple ML workflow and low computation cost, ready to be deployed for different problems. The presentation may be raw, but I will keep it to show how the result is improved gradually.\n",
    "\n",
    "Workflow:\n",
    "1. Data Exploration\n",
    "2. Data Preprocessing\n",
    "3. Feature Engineering\n",
    "4. Feature Selection\n",
    "5. Model Validation And Selection\n",
    "6. Hyperparameter Tuning\n"
   ]
  },
  {
   "cell_type": "markdown",
   "id": "thorough-vertex",
   "metadata": {
    "execution": {
     "iopub.execute_input": "2021-05-23T06:58:55.275347Z",
     "iopub.status.busy": "2021-05-23T06:58:55.274806Z",
     "iopub.status.idle": "2021-05-23T06:58:55.281032Z",
     "shell.execute_reply": "2021-05-23T06:58:55.279899Z",
     "shell.execute_reply.started": "2021-05-23T06:58:55.275243Z"
    },
    "papermill": {
     "duration": 0.092602,
     "end_time": "2021-05-31T15:19:34.572054",
     "exception": false,
     "start_time": "2021-05-31T15:19:34.479452",
     "status": "completed"
    },
    "tags": []
   },
   "source": [
    "# Preparation"
   ]
  },
  {
   "cell_type": "markdown",
   "id": "powered-clerk",
   "metadata": {
    "papermill": {
     "duration": 0.091578,
     "end_time": "2021-05-31T15:19:34.755611",
     "exception": false,
     "start_time": "2021-05-31T15:19:34.664033",
     "status": "completed"
    },
    "tags": []
   },
   "source": [
    "## Imports"
   ]
  },
  {
   "cell_type": "code",
   "execution_count": 1,
   "id": "naval-singapore",
   "metadata": {
    "_cell_guid": "b1076dfc-b9ad-4769-8c92-a6c4dae69d19",
    "_uuid": "8f2839f25d086af736a60e9eeb907d3b93b6e0e5",
    "execution": {
     "iopub.execute_input": "2021-05-31T15:19:34.947316Z",
     "iopub.status.busy": "2021-05-31T15:19:34.946171Z",
     "iopub.status.idle": "2021-05-31T15:19:37.681992Z",
     "shell.execute_reply": "2021-05-31T15:19:37.682493Z",
     "shell.execute_reply.started": "2021-05-31T01:57:03.410284Z"
    },
    "papermill": {
     "duration": 2.832901,
     "end_time": "2021-05-31T15:19:37.682780",
     "exception": false,
     "start_time": "2021-05-31T15:19:34.849879",
     "status": "completed"
    },
    "tags": []
   },
   "outputs": [
    {
     "data": {
      "text/html": [
       "<style type='text/css'>\n",
       ".datatable table.frame { margin-bottom: 0; }\n",
       ".datatable table.frame thead { border-bottom: none; }\n",
       ".datatable table.frame tr.coltypes td {  color: #FFFFFF;  line-height: 6px;  padding: 0 0.5em;}\n",
       ".datatable .bool    { background: #DDDD99; }\n",
       ".datatable .object  { background: #565656; }\n",
       ".datatable .int     { background: #5D9E5D; }\n",
       ".datatable .float   { background: #4040CC; }\n",
       ".datatable .str     { background: #CC4040; }\n",
       ".datatable .row_index {  background: var(--jp-border-color3);  border-right: 1px solid var(--jp-border-color0);  color: var(--jp-ui-font-color3);  font-size: 9px;}\n",
       ".datatable .frame tr.coltypes .row_index {  background: var(--jp-border-color0);}\n",
       ".datatable th:nth-child(2) { padding-left: 12px; }\n",
       ".datatable .hellipsis {  color: var(--jp-cell-editor-border-color);}\n",
       ".datatable .vellipsis {  background: var(--jp-layout-color0);  color: var(--jp-cell-editor-border-color);}\n",
       ".datatable .na {  color: var(--jp-cell-editor-border-color);  font-size: 80%;}\n",
       ".datatable .footer { font-size: 9px; }\n",
       ".datatable .frame_dimensions {  background: var(--jp-border-color3);  border-top: 1px solid var(--jp-border-color0);  color: var(--jp-ui-font-color3);  display: inline-block;  opacity: 0.6;  padding: 1px 10px 1px 5px;}\n",
       "</style>\n"
      ],
      "text/plain": [
       "<IPython.core.display.HTML object>"
      ]
     },
     "metadata": {},
     "output_type": "display_data"
    },
    {
     "data": {
      "text/plain": [
       "['tps-may-2021', 'tabular-playground-series-may-2021']"
      ]
     },
     "execution_count": 1,
     "metadata": {},
     "output_type": "execute_result"
    }
   ],
   "source": [
    "# Essentials\n",
    "import numpy as np\n",
    "import pandas as pd\n",
    "import datetime\n",
    "import random\n",
    "\n",
    "# Plots\n",
    "import seaborn as sns\n",
    "import matplotlib.pyplot as plt\n",
    "\n",
    "# Models\n",
    "from sklearn.ensemble import RandomForestClassifier, GradientBoostingRegressor, AdaBoostRegressor, BaggingRegressor, ExtraTreesClassifier, StackingClassifier\n",
    "from sklearn.kernel_ridge import KernelRidge\n",
    "from sklearn.linear_model import RidgeClassifier, RidgeCV\n",
    "from sklearn.linear_model import ElasticNet, ElasticNetCV, LogisticRegressionCV\n",
    "from sklearn.svm import SVC\n",
    "from sklearn.neighbors import KNeighborsClassifier\n",
    "from mlxtend.classifier import StackingCVClassifier\n",
    "import lightgbm as lgb\n",
    "from lightgbm import LGBMClassifier\n",
    "from xgboost import XGBClassifier\n",
    "from catboost import Pool, CatBoostClassifier\n",
    "\n",
    "# Stats\n",
    "from scipy.stats import skew, norm\n",
    "from scipy.special import boxcox1p\n",
    "from scipy.stats import boxcox_normmax\n",
    "\n",
    "# Misc\n",
    "from sklearn.model_selection import GridSearchCV, RandomizedSearchCV\n",
    "from sklearn.model_selection import StratifiedKFold, cross_val_score, validation_curve\n",
    "from sklearn.metrics import log_loss, confusion_matrix\n",
    "from sklearn.preprocessing import OneHotEncoder\n",
    "from sklearn.preprocessing import LabelEncoder\n",
    "from sklearn.pipeline import make_pipeline\n",
    "from sklearn.preprocessing import scale\n",
    "from sklearn.preprocessing import StandardScaler\n",
    "from sklearn.preprocessing import RobustScaler\n",
    "from sklearn.decomposition import PCA\n",
    "from sklearn.feature_selection import mutual_info_classif\n",
    "\n",
    "pd.set_option('display.max_columns', None)\n",
    "\n",
    "# Ignore useless warnings\n",
    "import warnings\n",
    "warnings.filterwarnings(action=\"ignore\")\n",
    "pd.options.display.max_seq_items = 8000\n",
    "pd.options.display.max_rows = 8000\n",
    "\n",
    "import os\n",
    "os.listdir(\"../input/\")"
   ]
  },
  {
   "cell_type": "markdown",
   "id": "understanding-cherry",
   "metadata": {
    "papermill": {
     "duration": 0.093975,
     "end_time": "2021-05-31T15:19:37.870793",
     "exception": false,
     "start_time": "2021-05-31T15:19:37.776818",
     "status": "completed"
    },
    "tags": []
   },
   "source": [
    "## Read data"
   ]
  },
  {
   "cell_type": "code",
   "execution_count": 2,
   "id": "purple-holmes",
   "metadata": {
    "execution": {
     "iopub.execute_input": "2021-05-31T15:19:38.062568Z",
     "iopub.status.busy": "2021-05-31T15:19:38.061710Z",
     "iopub.status.idle": "2021-05-31T15:19:38.800217Z",
     "shell.execute_reply": "2021-05-31T15:19:38.799614Z",
     "shell.execute_reply.started": "2021-05-31T01:57:05.526192Z"
    },
    "papermill": {
     "duration": 0.835999,
     "end_time": "2021-05-31T15:19:38.800362",
     "exception": false,
     "start_time": "2021-05-31T15:19:37.964363",
     "status": "completed"
    },
    "tags": []
   },
   "outputs": [],
   "source": [
    "# Read in the dataset as a dataframe\n",
    "train = pd.read_csv(\"../input/tabular-playground-series-may-2021/train.csv\")\n",
    "test = pd.read_csv(\"../input/tabular-playground-series-may-2021/test.csv\")\n",
    "submission = pd.read_csv(\"../input/tabular-playground-series-may-2021/sample_submission.csv\")\n",
    "\n",
    "#train.info()\n",
    "#test.info()\n",
    "#submission.info()"
   ]
  },
  {
   "cell_type": "markdown",
   "id": "harmful-shooting",
   "metadata": {
    "papermill": {
     "duration": 0.092883,
     "end_time": "2021-05-31T15:19:38.987749",
     "exception": false,
     "start_time": "2021-05-31T15:19:38.894866",
     "status": "completed"
    },
    "tags": []
   },
   "source": [
    "## Split datasets"
   ]
  },
  {
   "cell_type": "code",
   "execution_count": 3,
   "id": "defined-geometry",
   "metadata": {
    "execution": {
     "iopub.execute_input": "2021-05-31T15:19:39.224541Z",
     "iopub.status.busy": "2021-05-31T15:19:39.183968Z",
     "iopub.status.idle": "2021-05-31T15:19:39.229639Z",
     "shell.execute_reply": "2021-05-31T15:19:39.230100Z",
     "shell.execute_reply.started": "2021-05-31T02:13:43.31722Z"
    },
    "papermill": {
     "duration": 0.14762,
     "end_time": "2021-05-31T15:19:39.230270",
     "exception": false,
     "start_time": "2021-05-31T15:19:39.082650",
     "status": "completed"
    },
    "tags": []
   },
   "outputs": [
    {
     "data": {
      "text/plain": [
       "0    Class_2\n",
       "1    Class_1\n",
       "2    Class_1\n",
       "3    Class_4\n",
       "4    Class_2\n",
       "Name: target, dtype: object"
      ]
     },
     "execution_count": 3,
     "metadata": {},
     "output_type": "execute_result"
    }
   ],
   "source": [
    "# Split features and labels\n",
    "train_labels = train['target'].reset_index(drop=True)\n",
    "train_features = train.drop(['id','target'], axis=1)\n",
    "test_features = test.drop(['id'], axis=1)\n",
    "train_labels.head()"
   ]
  },
  {
   "cell_type": "markdown",
   "id": "elegant-vehicle",
   "metadata": {
    "papermill": {
     "duration": 0.095877,
     "end_time": "2021-05-31T15:19:39.420269",
     "exception": false,
     "start_time": "2021-05-31T15:19:39.324392",
     "status": "completed"
    },
    "tags": []
   },
   "source": [
    "# Data Exploration"
   ]
  },
  {
   "cell_type": "markdown",
   "id": "dated-fiction",
   "metadata": {
    "papermill": {
     "duration": 0.093356,
     "end_time": "2021-05-31T15:19:39.608061",
     "exception": false,
     "start_time": "2021-05-31T15:19:39.514705",
     "status": "completed"
    },
    "tags": []
   },
   "source": [
    "## Target distribution\n",
    "\n",
    "As observed, 57% of the target in the training set is of \"Class 2\", which is moderately imbalanced."
   ]
  },
  {
   "cell_type": "code",
   "execution_count": 4,
   "id": "opening-scanning",
   "metadata": {
    "execution": {
     "iopub.execute_input": "2021-05-31T15:19:39.817839Z",
     "iopub.status.busy": "2021-05-31T15:19:39.816999Z",
     "iopub.status.idle": "2021-05-31T15:19:40.285860Z",
     "shell.execute_reply": "2021-05-31T15:19:40.285271Z",
     "shell.execute_reply.started": "2021-05-31T02:13:58.355896Z"
    },
    "papermill": {
     "duration": 0.584465,
     "end_time": "2021-05-31T15:19:40.285999",
     "exception": false,
     "start_time": "2021-05-31T15:19:39.701534",
     "status": "completed"
    },
    "tags": []
   },
   "outputs": [
    {
     "data": {
      "image/png": "[encoded data removed]",
      "text/plain": [
       "<Figure size 576x504 with 1 Axes>"
      ]
     },
     "metadata": {},
     "output_type": "display_data"
    }
   ],
   "source": [
    "\n",
    "sns.set_style(\"white\")\n",
    "sns.set_color_codes(palette='deep')\n",
    "f, ax = plt.subplots(figsize=(8, 7))\n",
    "#Check the new distribution \n",
    "sns.histplot(train['target'].sort_values(), color=\"b\");\n",
    "ax.xaxis.grid(False)\n",
    "ax.set(ylabel=\"Frequency\")\n",
    "ax.set(xlabel=\"Target\")\n",
    "ax.set(title=\"Target distribution\")\n",
    "sns.despine(trim=True, left=True)\n",
    "plt.show()\n"
   ]
  },
  {
   "cell_type": "code",
   "execution_count": 5,
   "id": "developmental-machine",
   "metadata": {
    "execution": {
     "iopub.execute_input": "2021-05-31T15:19:40.534203Z",
     "iopub.status.busy": "2021-05-31T15:19:40.506320Z",
     "iopub.status.idle": "2021-05-31T15:19:40.539288Z",
     "shell.execute_reply": "2021-05-31T15:19:40.538358Z",
     "shell.execute_reply.started": "2021-05-31T02:14:01.281909Z"
    },
    "papermill": {
     "duration": 0.15958,
     "end_time": "2021-05-31T15:19:40.539461",
     "exception": false,
     "start_time": "2021-05-31T15:19:40.379881",
     "status": "completed"
    },
    "tags": []
   },
   "outputs": [
    {
     "data": {
      "text/plain": [
       "Class_2    0.57497\n",
       "Class_3    0.21420\n",
       "Class_4    0.12593\n",
       "Class_1    0.08490\n",
       "Name: target, dtype: float64"
      ]
     },
     "execution_count": 5,
     "metadata": {},
     "output_type": "execute_result"
    }
   ],
   "source": [
    "train['target'].value_counts().sort_values(ascending=False)/sum(train['target'].value_counts())"
   ]
  },
  {
   "cell_type": "markdown",
   "id": "consistent-uganda",
   "metadata": {
    "papermill": {
     "duration": 0.095202,
     "end_time": "2021-05-31T15:19:40.731876",
     "exception": false,
     "start_time": "2021-05-31T15:19:40.636674",
     "status": "completed"
    },
    "tags": []
   },
   "source": [
    "## Features EDA\n",
    "\n",
    "No specific pattern is observed in this case."
   ]
  },
  {
   "cell_type": "code",
   "execution_count": 6,
   "id": "global-royalty",
   "metadata": {
    "execution": {
     "iopub.execute_input": "2021-05-31T15:19:40.946270Z",
     "iopub.status.busy": "2021-05-31T15:19:40.945222Z",
     "iopub.status.idle": "2021-05-31T15:20:09.947022Z",
     "shell.execute_reply": "2021-05-31T15:20:09.947541Z",
     "shell.execute_reply.started": "2021-05-31T02:14:13.242782Z"
    },
    "papermill": {
     "duration": 29.115873,
     "end_time": "2021-05-31T15:20:09.947719",
     "exception": false,
     "start_time": "2021-05-31T15:19:40.831846",
     "status": "completed"
    },
    "tags": []
   },
   "outputs": [
    {
     "data": {
      "image/png": "[encoded data removed]",
      "text/plain": [
       "<Figure size 864x8640 with 50 Axes>"
      ]
     },
     "metadata": {},
     "output_type": "display_data"
    }
   ],
   "source": [
    "\n",
    "# visualising some more outliers in the data values\n",
    "fig, axs = plt.subplots(ncols=2, nrows=1, figsize=(12, 120))\n",
    "plt.subplots_adjust(right=2)\n",
    "plt.subplots_adjust(top=2)\n",
    "sns.color_palette(\"husl\", 8)\n",
    "for i, feature in enumerate(list(train_features), 1):\n",
    "    plt.subplot(len(list(train_features)), 3, i)\n",
    "    sns.boxplot(x=feature, y=train_labels, hue=train_labels, palette='Blues', data=train_features)\n",
    "        \n",
    "    plt.xlabel('{}'.format(feature), size=15,labelpad=12.5)\n",
    "    plt.ylabel('Target', size=15, labelpad=12.5)\n",
    "    \n",
    "    for j in range(2):\n",
    "        plt.tick_params(axis='x', labelsize=12)\n",
    "        plt.tick_params(axis='y', labelsize=12)\n",
    "    \n",
    "    plt.legend(loc='best', prop={'size': 10})\n",
    "        \n",
    "plt.show()\n"
   ]
  },
  {
   "cell_type": "markdown",
   "id": "approximate-geneva",
   "metadata": {
    "papermill": {
     "duration": 0.111458,
     "end_time": "2021-05-31T15:20:10.166843",
     "exception": false,
     "start_time": "2021-05-31T15:20:10.055385",
     "status": "completed"
    },
    "tags": []
   },
   "source": [
    "## Correlation\n",
    "\n",
    "Filter by RF feature importance first when the number of features is too large.\n",
    "\n",
    "The 50 features show no significant correlation with each other."
   ]
  },
  {
   "cell_type": "code",
   "execution_count": 7,
   "id": "partial-politics",
   "metadata": {
    "execution": {
     "iopub.execute_input": "2021-05-31T15:20:10.392096Z",
     "iopub.status.busy": "2021-05-31T15:20:10.391389Z",
     "iopub.status.idle": "2021-05-31T15:20:39.762550Z",
     "shell.execute_reply": "2021-05-31T15:20:39.763019Z",
     "shell.execute_reply.started": "2021-05-31T02:16:53.810444Z"
    },
    "papermill": {
     "duration": 29.488405,
     "end_time": "2021-05-31T15:20:39.763231",
     "exception": false,
     "start_time": "2021-05-31T15:20:10.274826",
     "status": "completed"
    },
    "tags": []
   },
   "outputs": [
    {
     "data": {
      "text/html": [
       "<div>\n",
       "<style scoped>\n",
       "    .dataframe tbody tr th:only-of-type {\n",
       "        vertical-align: middle;\n",
       "    }\n",
       "\n",
       "    .dataframe tbody tr th {\n",
       "        vertical-align: top;\n",
       "    }\n",
       "\n",
       "    .dataframe thead th {\n",
       "        text-align: right;\n",
       "    }\n",
       "</style>\n",
       "<table border=\"1\" class=\"dataframe\">\n",
       "  <thead>\n",
       "    <tr style=\"text-align: right;\">\n",
       "      <th></th>\n",
       "      <th>feature_38</th>\n",
       "      <th>feature_14</th>\n",
       "      <th>feature_7</th>\n",
       "      <th>feature_31</th>\n",
       "      <th>feature_24</th>\n",
       "      <th>feature_48</th>\n",
       "      <th>feature_34</th>\n",
       "      <th>feature_9</th>\n",
       "      <th>feature_28</th>\n",
       "      <th>feature_19</th>\n",
       "      <th>feature_15</th>\n",
       "      <th>feature_40</th>\n",
       "      <th>feature_17</th>\n",
       "      <th>feature_3</th>\n",
       "      <th>feature_21</th>\n",
       "      <th>feature_8</th>\n",
       "      <th>feature_35</th>\n",
       "      <th>feature_18</th>\n",
       "      <th>feature_49</th>\n",
       "      <th>feature_41</th>\n",
       "    </tr>\n",
       "  </thead>\n",
       "  <tbody>\n",
       "    <tr>\n",
       "      <th>0</th>\n",
       "      <td>0</td>\n",
       "      <td>0</td>\n",
       "      <td>0</td>\n",
       "      <td>0</td>\n",
       "      <td>0</td>\n",
       "      <td>0</td>\n",
       "      <td>1</td>\n",
       "      <td>0</td>\n",
       "      <td>0</td>\n",
       "      <td>0</td>\n",
       "      <td>0</td>\n",
       "      <td>3</td>\n",
       "      <td>6</td>\n",
       "      <td>0</td>\n",
       "      <td>0</td>\n",
       "      <td>0</td>\n",
       "      <td>0</td>\n",
       "      <td>0</td>\n",
       "      <td>0</td>\n",
       "      <td>0</td>\n",
       "    </tr>\n",
       "    <tr>\n",
       "      <th>1</th>\n",
       "      <td>0</td>\n",
       "      <td>0</td>\n",
       "      <td>0</td>\n",
       "      <td>0</td>\n",
       "      <td>0</td>\n",
       "      <td>0</td>\n",
       "      <td>0</td>\n",
       "      <td>0</td>\n",
       "      <td>0</td>\n",
       "      <td>0</td>\n",
       "      <td>3</td>\n",
       "      <td>0</td>\n",
       "      <td>3</td>\n",
       "      <td>0</td>\n",
       "      <td>0</td>\n",
       "      <td>0</td>\n",
       "      <td>0</td>\n",
       "      <td>0</td>\n",
       "      <td>0</td>\n",
       "      <td>0</td>\n",
       "    </tr>\n",
       "    <tr>\n",
       "      <th>2</th>\n",
       "      <td>3</td>\n",
       "      <td>1</td>\n",
       "      <td>0</td>\n",
       "      <td>0</td>\n",
       "      <td>1</td>\n",
       "      <td>2</td>\n",
       "      <td>2</td>\n",
       "      <td>2</td>\n",
       "      <td>2</td>\n",
       "      <td>1</td>\n",
       "      <td>0</td>\n",
       "      <td>0</td>\n",
       "      <td>0</td>\n",
       "      <td>0</td>\n",
       "      <td>5</td>\n",
       "      <td>0</td>\n",
       "      <td>0</td>\n",
       "      <td>0</td>\n",
       "      <td>0</td>\n",
       "      <td>0</td>\n",
       "    </tr>\n",
       "    <tr>\n",
       "      <th>3</th>\n",
       "      <td>4</td>\n",
       "      <td>7</td>\n",
       "      <td>3</td>\n",
       "      <td>0</td>\n",
       "      <td>0</td>\n",
       "      <td>1</td>\n",
       "      <td>1</td>\n",
       "      <td>0</td>\n",
       "      <td>1</td>\n",
       "      <td>1</td>\n",
       "      <td>11</td>\n",
       "      <td>0</td>\n",
       "      <td>0</td>\n",
       "      <td>0</td>\n",
       "      <td>0</td>\n",
       "      <td>0</td>\n",
       "      <td>0</td>\n",
       "      <td>3</td>\n",
       "      <td>0</td>\n",
       "      <td>0</td>\n",
       "    </tr>\n",
       "    <tr>\n",
       "      <th>4</th>\n",
       "      <td>1</td>\n",
       "      <td>2</td>\n",
       "      <td>0</td>\n",
       "      <td>1</td>\n",
       "      <td>0</td>\n",
       "      <td>1</td>\n",
       "      <td>0</td>\n",
       "      <td>0</td>\n",
       "      <td>0</td>\n",
       "      <td>0</td>\n",
       "      <td>0</td>\n",
       "      <td>0</td>\n",
       "      <td>3</td>\n",
       "      <td>0</td>\n",
       "      <td>0</td>\n",
       "      <td>0</td>\n",
       "      <td>0</td>\n",
       "      <td>0</td>\n",
       "      <td>0</td>\n",
       "      <td>0</td>\n",
       "    </tr>\n",
       "    <tr>\n",
       "      <th>...</th>\n",
       "      <td>...</td>\n",
       "      <td>...</td>\n",
       "      <td>...</td>\n",
       "      <td>...</td>\n",
       "      <td>...</td>\n",
       "      <td>...</td>\n",
       "      <td>...</td>\n",
       "      <td>...</td>\n",
       "      <td>...</td>\n",
       "      <td>...</td>\n",
       "      <td>...</td>\n",
       "      <td>...</td>\n",
       "      <td>...</td>\n",
       "      <td>...</td>\n",
       "      <td>...</td>\n",
       "      <td>...</td>\n",
       "      <td>...</td>\n",
       "      <td>...</td>\n",
       "      <td>...</td>\n",
       "      <td>...</td>\n",
       "    </tr>\n",
       "    <tr>\n",
       "      <th>99995</th>\n",
       "      <td>0</td>\n",
       "      <td>0</td>\n",
       "      <td>2</td>\n",
       "      <td>5</td>\n",
       "      <td>0</td>\n",
       "      <td>0</td>\n",
       "      <td>0</td>\n",
       "      <td>0</td>\n",
       "      <td>1</td>\n",
       "      <td>0</td>\n",
       "      <td>1</td>\n",
       "      <td>1</td>\n",
       "      <td>0</td>\n",
       "      <td>1</td>\n",
       "      <td>0</td>\n",
       "      <td>0</td>\n",
       "      <td>0</td>\n",
       "      <td>1</td>\n",
       "      <td>0</td>\n",
       "      <td>0</td>\n",
       "    </tr>\n",
       "    <tr>\n",
       "      <th>99996</th>\n",
       "      <td>7</td>\n",
       "      <td>4</td>\n",
       "      <td>1</td>\n",
       "      <td>2</td>\n",
       "      <td>0</td>\n",
       "      <td>0</td>\n",
       "      <td>1</td>\n",
       "      <td>0</td>\n",
       "      <td>0</td>\n",
       "      <td>0</td>\n",
       "      <td>0</td>\n",
       "      <td>0</td>\n",
       "      <td>0</td>\n",
       "      <td>0</td>\n",
       "      <td>0</td>\n",
       "      <td>2</td>\n",
       "      <td>0</td>\n",
       "      <td>0</td>\n",
       "      <td>0</td>\n",
       "      <td>0</td>\n",
       "    </tr>\n",
       "    <tr>\n",
       "      <th>99997</th>\n",
       "      <td>5</td>\n",
       "      <td>0</td>\n",
       "      <td>0</td>\n",
       "      <td>0</td>\n",
       "      <td>0</td>\n",
       "      <td>2</td>\n",
       "      <td>0</td>\n",
       "      <td>4</td>\n",
       "      <td>4</td>\n",
       "      <td>1</td>\n",
       "      <td>0</td>\n",
       "      <td>0</td>\n",
       "      <td>0</td>\n",
       "      <td>0</td>\n",
       "      <td>0</td>\n",
       "      <td>0</td>\n",
       "      <td>0</td>\n",
       "      <td>0</td>\n",
       "      <td>0</td>\n",
       "      <td>0</td>\n",
       "    </tr>\n",
       "    <tr>\n",
       "      <th>99998</th>\n",
       "      <td>1</td>\n",
       "      <td>2</td>\n",
       "      <td>0</td>\n",
       "      <td>0</td>\n",
       "      <td>2</td>\n",
       "      <td>4</td>\n",
       "      <td>0</td>\n",
       "      <td>5</td>\n",
       "      <td>1</td>\n",
       "      <td>0</td>\n",
       "      <td>0</td>\n",
       "      <td>0</td>\n",
       "      <td>0</td>\n",
       "      <td>0</td>\n",
       "      <td>0</td>\n",
       "      <td>0</td>\n",
       "      <td>0</td>\n",
       "      <td>3</td>\n",
       "      <td>0</td>\n",
       "      <td>0</td>\n",
       "    </tr>\n",
       "    <tr>\n",
       "      <th>99999</th>\n",
       "      <td>7</td>\n",
       "      <td>0</td>\n",
       "      <td>0</td>\n",
       "      <td>1</td>\n",
       "      <td>0</td>\n",
       "      <td>0</td>\n",
       "      <td>0</td>\n",
       "      <td>3</td>\n",
       "      <td>0</td>\n",
       "      <td>0</td>\n",
       "      <td>1</td>\n",
       "      <td>0</td>\n",
       "      <td>0</td>\n",
       "      <td>0</td>\n",
       "      <td>0</td>\n",
       "      <td>0</td>\n",
       "      <td>0</td>\n",
       "      <td>1</td>\n",
       "      <td>8</td>\n",
       "      <td>0</td>\n",
       "    </tr>\n",
       "  </tbody>\n",
       "</table>\n",
       "<p>100000 rows × 20 columns</p>\n",
       "</div>"
      ],
      "text/plain": [
       "       feature_38  feature_14  feature_7  feature_31  feature_24  feature_48  \\\n",
       "0               0           0          0           0           0           0   \n",
       "1               0           0          0           0           0           0   \n",
       "2               3           1          0           0           1           2   \n",
       "3               4           7          3           0           0           1   \n",
       "4               1           2          0           1           0           1   \n",
       "...           ...         ...        ...         ...         ...         ...   \n",
       "99995           0           0          2           5           0           0   \n",
       "99996           7           4          1           2           0           0   \n",
       "99997           5           0          0           0           0           2   \n",
       "99998           1           2          0           0           2           4   \n",
       "99999           7           0          0           1           0           0   \n",
       "\n",
       "       feature_34  feature_9  feature_28  feature_19  feature_15  feature_40  \\\n",
       "0               1          0           0           0           0           3   \n",
       "1               0          0           0           0           3           0   \n",
       "2               2          2           2           1           0           0   \n",
       "3               1          0           1           1          11           0   \n",
       "4               0          0           0           0           0           0   \n",
       "...           ...        ...         ...         ...         ...         ...   \n",
       "99995           0          0           1           0           1           1   \n",
       "99996           1          0           0           0           0           0   \n",
       "99997           0          4           4           1           0           0   \n",
       "99998           0          5           1           0           0           0   \n",
       "99999           0          3           0           0           1           0   \n",
       "\n",
       "       feature_17  feature_3  feature_21  feature_8  feature_35  feature_18  \\\n",
       "0               6          0           0          0           0           0   \n",
       "1               3          0           0          0           0           0   \n",
       "2               0          0           5          0           0           0   \n",
       "3               0          0           0          0           0           3   \n",
       "4               3          0           0          0           0           0   \n",
       "...           ...        ...         ...        ...         ...         ...   \n",
       "99995           0          1           0          0           0           1   \n",
       "99996           0          0           0          2           0           0   \n",
       "99997           0          0           0          0           0           0   \n",
       "99998           0          0           0          0           0           3   \n",
       "99999           0          0           0          0           0           1   \n",
       "\n",
       "       feature_49  feature_41  \n",
       "0               0           0  \n",
       "1               0           0  \n",
       "2               0           0  \n",
       "3               0           0  \n",
       "4               0           0  \n",
       "...           ...         ...  \n",
       "99995           0           0  \n",
       "99996           0           0  \n",
       "99997           0           0  \n",
       "99998           0           0  \n",
       "99999           8           0  \n",
       "\n",
       "[100000 rows x 20 columns]"
      ]
     },
     "execution_count": 7,
     "metadata": {},
     "output_type": "execute_result"
    }
   ],
   "source": [
    "\n",
    "# Random Forest Classifier\n",
    "rf = RandomForestClassifier(n_estimators=100, random_state=42)\n",
    "\n",
    "rf_model = rf.fit(train_features, train_labels)\n",
    "#rf_pred = rf_model.predict_proba(test_features)\n",
    "\n",
    "forest_importances = pd.Series(rf.feature_importances_, index=train_features.columns)\n",
    "top_feat = forest_importances.sort_values(ascending = False).head(20)\n",
    "top_feat\n",
    "\n",
    "train_features[top_feat.index]\n"
   ]
  },
  {
   "cell_type": "code",
   "execution_count": 8,
   "id": "focused-archives",
   "metadata": {
    "execution": {
     "iopub.execute_input": "2021-05-31T15:20:39.994420Z",
     "iopub.status.busy": "2021-05-31T15:20:39.993762Z",
     "iopub.status.idle": "2021-05-31T15:20:43.732672Z",
     "shell.execute_reply": "2021-05-31T15:20:43.731702Z",
     "shell.execute_reply.started": "2021-05-31T02:17:25.503736Z"
    },
    "papermill": {
     "duration": 3.856606,
     "end_time": "2021-05-31T15:20:43.732824",
     "exception": false,
     "start_time": "2021-05-31T15:20:39.876218",
     "status": "completed"
    },
    "tags": []
   },
   "outputs": [
    {
     "data": {
      "text/plain": [
       "<AxesSubplot:>"
      ]
     },
     "execution_count": 8,
     "metadata": {},
     "output_type": "execute_result"
    },
    {
     "data": {
      "image/png": "[encoded data removed]",
      "text/plain": [
       "<Figure size 1080x864 with 2 Axes>"
      ]
     },
     "metadata": {},
     "output_type": "display_data"
    }
   ],
   "source": [
    "\n",
    "#corr = train_features[top_feat.index].corr()\n",
    "#corr\n",
    "corr = train.corr()\n",
    "plt.subplots(figsize=(15,12))\n",
    "sns.heatmap(corr, vmax=0.9, cmap=\"Blues\", square=True)\n"
   ]
  },
  {
   "cell_type": "markdown",
   "id": "comfortable-motel",
   "metadata": {
    "papermill": {
     "duration": 0.115573,
     "end_time": "2021-05-31T15:20:43.961811",
     "exception": false,
     "start_time": "2021-05-31T15:20:43.846238",
     "status": "completed"
    },
    "tags": []
   },
   "source": [
    "### Further exploration for high correlation to target\n",
    "\n",
    "The most important features by RF is feature_38, but visually its standalone correlation with the target is insignificant."
   ]
  },
  {
   "cell_type": "code",
   "execution_count": 9,
   "id": "valid-market",
   "metadata": {
    "execution": {
     "iopub.execute_input": "2021-05-31T15:20:44.199136Z",
     "iopub.status.busy": "2021-05-31T15:20:44.198461Z",
     "iopub.status.idle": "2021-05-31T15:20:44.535767Z",
     "shell.execute_reply": "2021-05-31T15:20:44.535085Z",
     "shell.execute_reply.started": "2021-05-31T02:20:20.233515Z"
    },
    "papermill": {
     "duration": 0.457928,
     "end_time": "2021-05-31T15:20:44.535907",
     "exception": false,
     "start_time": "2021-05-31T15:20:44.077979",
     "status": "completed"
    },
    "tags": []
   },
   "outputs": [
    {
     "data": {
      "image/png": "[encoded data removed]",
      "text/plain": [
       "<Figure size 576x432 with 1 Axes>"
      ]
     },
     "metadata": {},
     "output_type": "display_data"
    }
   ],
   "source": [
    "\n",
    "data = pd.concat([train['feature_38'], train['target']], axis=1)\n",
    "f, ax = plt.subplots(figsize=(8, 6))\n",
    "fig = sns.boxplot(x=train['feature_38'], y=\"target\", data=data)\n",
    "#fig.axis(ymin=0, ymax=800000);\n"
   ]
  },
  {
   "cell_type": "markdown",
   "id": "functioning-bangladesh",
   "metadata": {
    "papermill": {
     "duration": 0.117718,
     "end_time": "2021-05-31T15:20:44.769073",
     "exception": false,
     "start_time": "2021-05-31T15:20:44.651355",
     "status": "completed"
    },
    "tags": []
   },
   "source": [
    "# Data Preprocessing"
   ]
  },
  {
   "cell_type": "markdown",
   "id": "cordless-pilot",
   "metadata": {
    "papermill": {
     "duration": 0.116401,
     "end_time": "2021-05-31T15:20:44.999497",
     "exception": false,
     "start_time": "2021-05-31T15:20:44.883096",
     "status": "completed"
    },
    "tags": []
   },
   "source": [
    "No outliers or missing values observed from EDA."
   ]
  },
  {
   "cell_type": "markdown",
   "id": "sublime-utility",
   "metadata": {
    "papermill": {
     "duration": 0.117209,
     "end_time": "2021-05-31T15:20:45.233465",
     "exception": false,
     "start_time": "2021-05-31T15:20:45.116256",
     "status": "completed"
    },
    "tags": []
   },
   "source": [
    "## Recombine datasets\n",
    "\n",
    "No treatment is needed in this case."
   ]
  },
  {
   "cell_type": "markdown",
   "id": "auburn-equality",
   "metadata": {
    "papermill": {
     "duration": 0.113452,
     "end_time": "2021-05-31T15:20:45.462354",
     "exception": false,
     "start_time": "2021-05-31T15:20:45.348902",
     "status": "completed"
    },
    "tags": []
   },
   "source": [
    "# Feature Engineering\n",
    "\n",
    "Observed that the training set has large amount of zero values in the original 50 features, I have tried to add 50 binary features depending on whether each of the original 50 features is zero or not. The trial does not provide significant improvement in preliminary RF model, so this idea is not adopted. There maybe information loss in grouping all nonzero values together, which leads to worse performance."
   ]
  },
  {
   "cell_type": "code",
   "execution_count": 10,
   "id": "welsh-sympathy",
   "metadata": {
    "execution": {
     "iopub.execute_input": "2021-05-31T15:20:45.694971Z",
     "iopub.status.busy": "2021-05-31T15:20:45.694105Z",
     "iopub.status.idle": "2021-05-31T15:20:45.697969Z",
     "shell.execute_reply": "2021-05-31T15:20:45.698483Z",
     "shell.execute_reply.started": "2021-05-30T01:08:41.120693Z"
    },
    "papermill": {
     "duration": 0.122661,
     "end_time": "2021-05-31T15:20:45.698674",
     "exception": false,
     "start_time": "2021-05-31T15:20:45.576013",
     "status": "completed"
    },
    "tags": []
   },
   "outputs": [
    {
     "data": {
      "text/plain": [
       "\"\\n# feature of zero or nonzero values\\n\\ndef zeroornot(res, ls):\\n    m = res.shape[1]\\n    for l in ls:\\n        res = res.assign(newcol=pd.Series(res[l] == 0).astype(int)) \\n        res.columns.values[m] = l + '_zero'\\n        m += 1\\n    return res\\n\\ntrain_features_zero = zeroornot(train_features, train_features.columns.tolist())\\ntest_features_zero = zeroornot(test_features, test_features.columns.tolist())\\n\""
      ]
     },
     "execution_count": 10,
     "metadata": {},
     "output_type": "execute_result"
    }
   ],
   "source": [
    "'''\n",
    "# feature of zero or nonzero values\n",
    "\n",
    "def zeroornot(res, ls):\n",
    "    m = res.shape[1]\n",
    "    for l in ls:\n",
    "        res = res.assign(newcol=pd.Series(res[l] == 0).astype(int)) \n",
    "        res.columns.values[m] = l + '_zero'\n",
    "        m += 1\n",
    "    return res\n",
    "\n",
    "train_features_zero = zeroornot(train_features, train_features.columns.tolist())\n",
    "test_features_zero = zeroornot(test_features, test_features.columns.tolist())\n",
    "'''"
   ]
  },
  {
   "cell_type": "code",
   "execution_count": 11,
   "id": "flexible-disorder",
   "metadata": {
    "execution": {
     "iopub.execute_input": "2021-05-31T15:20:45.934604Z",
     "iopub.status.busy": "2021-05-31T15:20:45.933918Z",
     "iopub.status.idle": "2021-05-31T15:20:45.937397Z",
     "shell.execute_reply": "2021-05-31T15:20:45.936888Z",
     "shell.execute_reply.started": "2021-05-30T01:08:41.133932Z"
    },
    "papermill": {
     "duration": 0.124292,
     "end_time": "2021-05-31T15:20:45.937547",
     "exception": false,
     "start_time": "2021-05-31T15:20:45.813255",
     "status": "completed"
    },
    "tags": []
   },
   "outputs": [],
   "source": [
    "#train_features_zero = train_features_zero.drop(train_features_zero.iloc[:,0:50], axis=1)\n",
    "#test_features_zero = test_features_zero.drop(test_features_zero.iloc[:,0:50], axis=1)"
   ]
  },
  {
   "cell_type": "markdown",
   "id": "patient-celebrity",
   "metadata": {
    "papermill": {
     "duration": 0.115627,
     "end_time": "2021-05-31T15:20:46.169006",
     "exception": false,
     "start_time": "2021-05-31T15:20:46.053379",
     "status": "completed"
    },
    "tags": []
   },
   "source": [
    "## PCA\n",
    "\n",
    "Since there are 50 features, the dimension reduction technique may help. I have tried PCA, but the result is not satisfactory. This is intuitive given the low features correlation shown in EDA, and the almost identical contributions from all the principal components."
   ]
  },
  {
   "cell_type": "code",
   "execution_count": 12,
   "id": "relative-dublin",
   "metadata": {
    "execution": {
     "iopub.execute_input": "2021-05-31T15:20:46.456957Z",
     "iopub.status.busy": "2021-05-31T15:20:46.456035Z",
     "iopub.status.idle": "2021-05-31T15:20:46.460354Z",
     "shell.execute_reply": "2021-05-31T15:20:46.459724Z",
     "shell.execute_reply.started": "2021-05-31T02:48:36.40447Z"
    },
    "papermill": {
     "duration": 0.123579,
     "end_time": "2021-05-31T15:20:46.460513",
     "exception": false,
     "start_time": "2021-05-31T15:20:46.336934",
     "status": "completed"
    },
    "tags": []
   },
   "outputs": [
    {
     "data": {
      "text/plain": [
       "'\\nX=train_features\\n# Standardize\\nX_scaled = (X - X.mean(axis=0)) / X.std(axis=0)\\n\\n# Create principal components\\npca = PCA()\\nX_pca = pca.fit_transform(X_scaled)\\n\\n# Convert to dataframe\\ncomponent_names = [f\"PC{i+1}\" for i in range(X_pca.shape[1])]\\nX_pca = pd.DataFrame(X_pca, columns=component_names)\\n\\nX_pca.head()\\n'"
      ]
     },
     "execution_count": 12,
     "metadata": {},
     "output_type": "execute_result"
    }
   ],
   "source": [
    "'''\n",
    "X=train_features\n",
    "# Standardize\n",
    "X_scaled = (X - X.mean(axis=0)) / X.std(axis=0)\n",
    "\n",
    "# Create principal components\n",
    "pca = PCA()\n",
    "X_pca = pca.fit_transform(X_scaled)\n",
    "\n",
    "# Convert to dataframe\n",
    "component_names = [f\"PC{i+1}\" for i in range(X_pca.shape[1])]\n",
    "X_pca = pd.DataFrame(X_pca, columns=component_names)\n",
    "\n",
    "X_pca.head()\n",
    "'''"
   ]
  },
  {
   "cell_type": "code",
   "execution_count": 13,
   "id": "affecting-russian",
   "metadata": {
    "execution": {
     "iopub.execute_input": "2021-05-31T15:20:46.694953Z",
     "iopub.status.busy": "2021-05-31T15:20:46.693982Z",
     "iopub.status.idle": "2021-05-31T15:20:46.698187Z",
     "shell.execute_reply": "2021-05-31T15:20:46.697644Z",
     "shell.execute_reply.started": "2021-05-31T02:48:42.130724Z"
    },
    "papermill": {
     "duration": 0.12207,
     "end_time": "2021-05-31T15:20:46.698318",
     "exception": false,
     "start_time": "2021-05-31T15:20:46.576248",
     "status": "completed"
    },
    "tags": []
   },
   "outputs": [
    {
     "data": {
      "text/plain": [
       "'\\nloadings = pd.DataFrame(\\n    pca.components_.T,  # transpose the matrix of loadings\\n    columns=component_names,  # so the columns are the principal components\\n    index=X.columns,  # and the rows are the original features\\n)\\nloadings\\n'"
      ]
     },
     "execution_count": 13,
     "metadata": {},
     "output_type": "execute_result"
    }
   ],
   "source": [
    "'''\n",
    "loadings = pd.DataFrame(\n",
    "    pca.components_.T,  # transpose the matrix of loadings\n",
    "    columns=component_names,  # so the columns are the principal components\n",
    "    index=X.columns,  # and the rows are the original features\n",
    ")\n",
    "loadings\n",
    "'''"
   ]
  },
  {
   "cell_type": "code",
   "execution_count": 14,
   "id": "czech-grave",
   "metadata": {
    "execution": {
     "iopub.execute_input": "2021-05-31T15:20:46.940282Z",
     "iopub.status.busy": "2021-05-31T15:20:46.939261Z",
     "iopub.status.idle": "2021-05-31T15:20:46.945315Z",
     "shell.execute_reply": "2021-05-31T15:20:46.945868Z",
     "shell.execute_reply.started": "2021-05-31T02:49:43.268752Z"
    },
    "papermill": {
     "duration": 0.130412,
     "end_time": "2021-05-31T15:20:46.946036",
     "exception": false,
     "start_time": "2021-05-31T15:20:46.815624",
     "status": "completed"
    },
    "tags": []
   },
   "outputs": [
    {
     "data": {
      "text/plain": [
       "'\\ndef plot_variance(pca, width=8, dpi=100):\\n    # Create figure\\n    fig, axs = plt.subplots(1, 2)\\n    n = pca.n_components_\\n    grid = np.arange(1, n + 1)\\n    # Explained variance\\n    evr = pca.explained_variance_ratio_\\n    axs[0].bar(grid, evr)\\n    axs[0].set(\\n        xlabel=\"Component\", title=\"% Explained Variance\", ylim=(0.0, 0.05)\\n    )\\n    # Cumulative Variance\\n    cv = np.cumsum(evr)\\n    axs[1].plot(np.r_[0, grid], np.r_[0, cv], \"o-\")\\n    axs[1].set(\\n        xlabel=\"Component\", title=\"% Cumulative Variance\", ylim=(0.0, 1.0)\\n    )\\n    # Set up figure\\n    fig.set(figwidth=8, dpi=100)\\n    return axs\\n\\n# Look at explained variance\\nplot_variance(pca);\\n'"
      ]
     },
     "execution_count": 14,
     "metadata": {},
     "output_type": "execute_result"
    }
   ],
   "source": [
    "'''\n",
    "def plot_variance(pca, width=8, dpi=100):\n",
    "    # Create figure\n",
    "    fig, axs = plt.subplots(1, 2)\n",
    "    n = pca.n_components_\n",
    "    grid = np.arange(1, n + 1)\n",
    "    # Explained variance\n",
    "    evr = pca.explained_variance_ratio_\n",
    "    axs[0].bar(grid, evr)\n",
    "    axs[0].set(\n",
    "        xlabel=\"Component\", title=\"% Explained Variance\", ylim=(0.0, 0.05)\n",
    "    )\n",
    "    # Cumulative Variance\n",
    "    cv = np.cumsum(evr)\n",
    "    axs[1].plot(np.r_[0, grid], np.r_[0, cv], \"o-\")\n",
    "    axs[1].set(\n",
    "        xlabel=\"Component\", title=\"% Cumulative Variance\", ylim=(0.0, 1.0)\n",
    "    )\n",
    "    # Set up figure\n",
    "    fig.set(figwidth=8, dpi=100)\n",
    "    return axs\n",
    "\n",
    "# Look at explained variance\n",
    "plot_variance(pca);\n",
    "'''"
   ]
  },
  {
   "cell_type": "code",
   "execution_count": 15,
   "id": "partial-logic",
   "metadata": {
    "execution": {
     "iopub.execute_input": "2021-05-31T15:20:47.180804Z",
     "iopub.status.busy": "2021-05-31T15:20:47.179818Z",
     "iopub.status.idle": "2021-05-31T15:20:47.185146Z",
     "shell.execute_reply": "2021-05-31T15:20:47.185742Z",
     "shell.execute_reply.started": "2021-05-31T02:52:48.397453Z"
    },
    "papermill": {
     "duration": 0.123271,
     "end_time": "2021-05-31T15:20:47.185909",
     "exception": false,
     "start_time": "2021-05-31T15:20:47.062638",
     "status": "completed"
    },
    "tags": []
   },
   "outputs": [
    {
     "data": {
      "text/plain": [
       "'\\ndef make_mi_scores(X, y, discrete_features):\\n    mi_scores = mutual_info_classif(X, y, discrete_features=discrete_features)\\n    mi_scores = pd.Series(mi_scores, name=\"MI Scores\", index=X.columns)\\n    mi_scores = mi_scores.sort_values(ascending=False)\\n    return mi_scores\\n\\nmi_scores = make_mi_scores(X_pca, train_labels, discrete_features=False)\\nmi_scores\\n'"
      ]
     },
     "execution_count": 15,
     "metadata": {},
     "output_type": "execute_result"
    }
   ],
   "source": [
    "'''\n",
    "def make_mi_scores(X, y, discrete_features):\n",
    "    mi_scores = mutual_info_classif(X, y, discrete_features=discrete_features)\n",
    "    mi_scores = pd.Series(mi_scores, name=\"MI Scores\", index=X.columns)\n",
    "    mi_scores = mi_scores.sort_values(ascending=False)\n",
    "    return mi_scores\n",
    "\n",
    "mi_scores = make_mi_scores(X_pca, train_labels, discrete_features=False)\n",
    "mi_scores\n",
    "'''"
   ]
  },
  {
   "cell_type": "code",
   "execution_count": 16,
   "id": "protective-appeal",
   "metadata": {
    "execution": {
     "iopub.execute_input": "2021-05-31T15:20:47.422452Z",
     "iopub.status.busy": "2021-05-31T15:20:47.421485Z",
     "iopub.status.idle": "2021-05-31T15:20:47.427112Z",
     "shell.execute_reply": "2021-05-31T15:20:47.426636Z",
     "shell.execute_reply.started": "2021-05-31T02:53:58.886623Z"
    },
    "papermill": {
     "duration": 0.126103,
     "end_time": "2021-05-31T15:20:47.427249",
     "exception": false,
     "start_time": "2021-05-31T15:20:47.301146",
     "status": "completed"
    },
    "tags": []
   },
   "outputs": [
    {
     "data": {
      "text/plain": [
       "'\\nmiindex = mi_scores.index[mi_scores.values>0]\\nmiload = loadings[miindex]\\n'"
      ]
     },
     "execution_count": 16,
     "metadata": {},
     "output_type": "execute_result"
    }
   ],
   "source": [
    "'''\n",
    "miindex = mi_scores.index[mi_scores.values>0]\n",
    "miload = loadings[miindex]\n",
    "'''"
   ]
  },
  {
   "cell_type": "code",
   "execution_count": 17,
   "id": "pressing-myrtle",
   "metadata": {
    "execution": {
     "iopub.execute_input": "2021-05-31T15:20:47.670503Z",
     "iopub.status.busy": "2021-05-31T15:20:47.669666Z",
     "iopub.status.idle": "2021-05-31T15:20:47.672941Z",
     "shell.execute_reply": "2021-05-31T15:20:47.673560Z",
     "shell.execute_reply.started": "2021-05-31T02:54:03.622481Z"
    },
    "papermill": {
     "duration": 0.124481,
     "end_time": "2021-05-31T15:20:47.673740",
     "exception": false,
     "start_time": "2021-05-31T15:20:47.549259",
     "status": "completed"
    },
    "tags": []
   },
   "outputs": [
    {
     "data": {
      "text/plain": [
       "'\\ntrain_features_pca = pd.DataFrame(data = np.matmul(train_features,miload))\\ntrain_features_pca.columns=miindex\\n'"
      ]
     },
     "execution_count": 17,
     "metadata": {},
     "output_type": "execute_result"
    }
   ],
   "source": [
    "'''\n",
    "train_features_pca = pd.DataFrame(data = np.matmul(train_features,miload))\n",
    "train_features_pca.columns=miindex\n",
    "'''"
   ]
  },
  {
   "cell_type": "code",
   "execution_count": 18,
   "id": "handmade-identification",
   "metadata": {
    "execution": {
     "iopub.execute_input": "2021-05-31T15:20:47.911773Z",
     "iopub.status.busy": "2021-05-31T15:20:47.910799Z",
     "iopub.status.idle": "2021-05-31T15:20:47.915556Z",
     "shell.execute_reply": "2021-05-31T15:20:47.916043Z",
     "shell.execute_reply.started": "2021-05-30T01:08:41.205697Z"
    },
    "papermill": {
     "duration": 0.127161,
     "end_time": "2021-05-31T15:20:47.916211",
     "exception": false,
     "start_time": "2021-05-31T15:20:47.789050",
     "status": "completed"
    },
    "tags": []
   },
   "outputs": [
    {
     "data": {
      "text/plain": [
       "'\\ntest_features_pca = pd.DataFrame(data = np.matmul(test_features,miload))\\ntest_features_pca.columns=miindex\\n'"
      ]
     },
     "execution_count": 18,
     "metadata": {},
     "output_type": "execute_result"
    }
   ],
   "source": [
    "'''\n",
    "test_features_pca = pd.DataFrame(data = np.matmul(test_features,miload))\n",
    "test_features_pca.columns=miindex\n",
    "'''"
   ]
  },
  {
   "cell_type": "markdown",
   "id": "important-scheme",
   "metadata": {
    "papermill": {
     "duration": 0.11958,
     "end_time": "2021-05-31T15:20:48.155117",
     "exception": false,
     "start_time": "2021-05-31T15:20:48.035537",
     "status": "completed"
    },
    "tags": []
   },
   "source": [
    "## Recreate training and test sets\n",
    "\n",
    "No treatment is needed in this case."
   ]
  },
  {
   "cell_type": "markdown",
   "id": "refined-rocket",
   "metadata": {
    "papermill": {
     "duration": 0.118422,
     "end_time": "2021-05-31T15:20:48.389903",
     "exception": false,
     "start_time": "2021-05-31T15:20:48.271481",
     "status": "completed"
    },
    "tags": []
   },
   "source": [
    "# Feature Selection"
   ]
  },
  {
   "cell_type": "markdown",
   "id": "thorough-nitrogen",
   "metadata": {
    "papermill": {
     "duration": 0.115829,
     "end_time": "2021-05-31T15:20:48.621897",
     "exception": false,
     "start_time": "2021-05-31T15:20:48.506068",
     "status": "completed"
    },
    "tags": []
   },
   "source": [
    "# Model Validation and Selection"
   ]
  },
  {
   "cell_type": "markdown",
   "id": "gentle-nursery",
   "metadata": {
    "papermill": {
     "duration": 0.116351,
     "end_time": "2021-05-31T15:20:48.855396",
     "exception": false,
     "start_time": "2021-05-31T15:20:48.739045",
     "status": "completed"
    },
    "tags": []
   },
   "source": [
    "## Set up CV"
   ]
  },
  {
   "cell_type": "code",
   "execution_count": 19,
   "id": "several-breathing",
   "metadata": {
    "execution": {
     "iopub.execute_input": "2021-05-31T15:20:49.099962Z",
     "iopub.status.busy": "2021-05-31T15:20:49.099282Z",
     "iopub.status.idle": "2021-05-31T15:20:49.105802Z",
     "shell.execute_reply": "2021-05-31T15:20:49.105139Z",
     "shell.execute_reply.started": "2021-05-30T01:08:41.226848Z"
    },
    "papermill": {
     "duration": 0.133079,
     "end_time": "2021-05-31T15:20:49.105937",
     "exception": false,
     "start_time": "2021-05-31T15:20:48.972858",
     "status": "completed"
    },
    "tags": []
   },
   "outputs": [],
   "source": [
    "# Set up cross validation folds\n",
    "kf = StratifiedKFold(n_splits=5, random_state=42, shuffle=True)\n",
    "\n",
    "# Define error metrics\n",
    "def loss(y, y_pred):\n",
    "    return np.sqrt(log_loss(y, y_pred))\n",
    "\n",
    "def cv_loss(model, X = train_features):\n",
    "    loss = np.sqrt(-cross_val_score(model, X, train_labels, scoring=\"neg_log_loss\", cv=kf, n_jobs=-1))\n",
    "    return (loss)"
   ]
  },
  {
   "cell_type": "markdown",
   "id": "processed-people",
   "metadata": {
    "papermill": {
     "duration": 0.119432,
     "end_time": "2021-05-31T15:20:49.341631",
     "exception": false,
     "start_time": "2021-05-31T15:20:49.222199",
     "status": "completed"
    },
    "tags": []
   },
   "source": [
    "## Base Models"
   ]
  },
  {
   "cell_type": "markdown",
   "id": "charged-symbol",
   "metadata": {
    "papermill": {
     "duration": 0.118465,
     "end_time": "2021-05-31T15:20:49.577614",
     "exception": false,
     "start_time": "2021-05-31T15:20:49.459149",
     "status": "completed"
    },
    "tags": []
   },
   "source": [
    "### XGBoost"
   ]
  },
  {
   "cell_type": "code",
   "execution_count": 20,
   "id": "macro-frequency",
   "metadata": {
    "execution": {
     "iopub.execute_input": "2021-05-31T15:20:49.816273Z",
     "iopub.status.busy": "2021-05-31T15:20:49.815387Z",
     "iopub.status.idle": "2021-05-31T15:20:49.821227Z",
     "shell.execute_reply": "2021-05-31T15:20:49.820560Z",
     "shell.execute_reply.started": "2021-05-30T01:08:41.24742Z"
    },
    "papermill": {
     "duration": 0.127239,
     "end_time": "2021-05-31T15:20:49.821369",
     "exception": false,
     "start_time": "2021-05-31T15:20:49.694130",
     "status": "completed"
    },
    "tags": []
   },
   "outputs": [],
   "source": [
    "\n",
    "# XGBoost Classifier\n",
    "xgb =  XGBClassifier(learning_rate = 0.1,\n",
    "                        colsample_bytree = 0.5,\n",
    "                        max_depth = 10,\n",
    "                        min_child_weight=5,\n",
    "                       gamma=0.001,\n",
    "                       subsample=0.9,\n",
    "                       objective='multi:softprob',\n",
    "                       nthread=-1,\n",
    "                       scale_pos_weight=1,\n",
    "                       reg_alpha=0.00006,\n",
    "                       random_state=42)\n",
    "\n",
    "#xgb_model = xgb.fit(train_features, train_labels)\n",
    "#xgb_pred = xgb_model.predict_proba(test_features)\n"
   ]
  },
  {
   "cell_type": "code",
   "execution_count": 21,
   "id": "temporal-threat",
   "metadata": {
    "execution": {
     "iopub.execute_input": "2021-05-31T15:20:50.164174Z",
     "iopub.status.busy": "2021-05-31T15:20:50.163282Z",
     "iopub.status.idle": "2021-05-31T15:20:50.169570Z",
     "shell.execute_reply": "2021-05-31T15:20:50.168935Z",
     "shell.execute_reply.started": "2021-05-30T01:08:41.25898Z"
    },
    "papermill": {
     "duration": 0.228949,
     "end_time": "2021-05-31T15:20:50.169714",
     "exception": false,
     "start_time": "2021-05-31T15:20:49.940765",
     "status": "completed"
    },
    "tags": []
   },
   "outputs": [],
   "source": [
    "\n",
    "# XGBoost Classifier2\n",
    "xgb2 = XGBClassifier(n_estimators=110,\n",
    "                        learning_rate = 0.5,\n",
    "                        colsample_bytree = 0.13,\n",
    "                       max_depth = 2,\n",
    "                        min_child_weight=5,\n",
    "                       gamma=0.001,\n",
    "                       subsample=0.7,\n",
    "                       objective='multi:softprob',\n",
    "                       nthread=-1,\n",
    "                       scale_pos_weight=1,\n",
    "                       reg_alpha=0.00006,\n",
    "                       random_state=42)\n",
    "\n",
    "#xgb2_model = xgb2.fit(train_features, train_labels)\n",
    "#xgb2_pred = xgb2_model.predict_proba(test_features)"
   ]
  },
  {
   "cell_type": "code",
   "execution_count": 22,
   "id": "dimensional-operation",
   "metadata": {
    "execution": {
     "iopub.execute_input": "2021-05-31T15:20:50.419110Z",
     "iopub.status.busy": "2021-05-31T15:20:50.418130Z",
     "iopub.status.idle": "2021-05-31T15:20:50.420699Z",
     "shell.execute_reply": "2021-05-31T15:20:50.421154Z",
     "shell.execute_reply.started": "2021-05-30T01:08:41.269438Z"
    },
    "papermill": {
     "duration": 0.127315,
     "end_time": "2021-05-31T15:20:50.421324",
     "exception": false,
     "start_time": "2021-05-31T15:20:50.294009",
     "status": "completed"
    },
    "tags": []
   },
   "outputs": [],
   "source": [
    "\n",
    "# XGBoost Classifier3\n",
    "xgb3 =XGBClassifier(n_estimators=250,\n",
    "                        learning_rate = 0.06,\n",
    "                        colsample_bytree = 0.4,\n",
    "                       max_depth = 6,\n",
    "                        min_child_weight=5,\n",
    "                       subsample=0.75,\n",
    "                       objective='multi:softprob',\n",
    "                       nthread=-1,\n",
    "                       random_state=42)\n",
    "                       \n",
    "\n",
    "#xgb3_model = xgb3.fit(train_features, train_labels)\n",
    "#xgb3_pred = xgb3_model.predict_proba(test_features)"
   ]
  },
  {
   "cell_type": "code",
   "execution_count": 23,
   "id": "bottom-vehicle",
   "metadata": {
    "execution": {
     "iopub.execute_input": "2021-05-31T15:20:50.669120Z",
     "iopub.status.busy": "2021-05-31T15:20:50.668145Z",
     "iopub.status.idle": "2021-05-31T15:20:50.671165Z",
     "shell.execute_reply": "2021-05-31T15:20:50.670683Z",
     "shell.execute_reply.started": "2021-05-30T01:08:41.281356Z"
    },
    "papermill": {
     "duration": 0.129356,
     "end_time": "2021-05-31T15:20:50.671309",
     "exception": false,
     "start_time": "2021-05-31T15:20:50.541953",
     "status": "completed"
    },
    "tags": []
   },
   "outputs": [],
   "source": [
    "# XGBoost Classifier4\n",
    "xgb4 = XGBClassifier(n_estimators=130, \n",
    "                        learning_rate = 0.5,\n",
    "                        colsample_bytree = 0.13,\n",
    "                        max_depth = 2,\n",
    "                        min_child_weight=7, \n",
    "                       gamma=0.001,\n",
    "                       subsample=0.7,\n",
    "                       objective='multi:softprob',\n",
    "                       nthread=-1,\n",
    "                       reg_alpha=0.00006,\n",
    "                       random_state=42)\n",
    "                       \n",
    "\n",
    "#xgb4_model = xgb4.fit(train_features, train_labels)\n",
    "#xgb4_pred = xgb4_model.predict_proba(test_features)"
   ]
  },
  {
   "cell_type": "code",
   "execution_count": 24,
   "id": "constitutional-third",
   "metadata": {
    "execution": {
     "iopub.execute_input": "2021-05-31T15:20:50.918897Z",
     "iopub.status.busy": "2021-05-31T15:20:50.918111Z",
     "iopub.status.idle": "2021-05-31T15:20:50.921453Z",
     "shell.execute_reply": "2021-05-31T15:20:50.920884Z",
     "shell.execute_reply.started": "2021-05-30T01:08:41.290224Z"
    },
    "papermill": {
     "duration": 0.130457,
     "end_time": "2021-05-31T15:20:50.921600",
     "exception": false,
     "start_time": "2021-05-31T15:20:50.791143",
     "status": "completed"
    },
    "tags": []
   },
   "outputs": [],
   "source": [
    "# XGBoost Classifier5\n",
    "xgb5 = XGBClassifier( n_estimators=200,\n",
    "                        learning_rate = 0.5,\n",
    "                       colsample_bytree = 0.1,\n",
    "                       max_depth = 2,\n",
    "                        min_child_weight=5,\n",
    "                      gamma=0.005,\n",
    "                       subsample=0.7,\n",
    "                       objective='multi:softprob',\n",
    "                       nthread=-1,\n",
    "                       scale_pos_weight=1,\n",
    "                       reg_alpha=5,\n",
    "                         reg_lambda = 0.3,\n",
    "                         eval_metric = 'mlogloss',\n",
    "                       random_state=42)\n",
    "                       \n",
    "\n",
    "#xgb5_model = xgb5.fit(train_features, train_labels)\n",
    "#xgb5_pred = xgb5_model.predict_proba(test_features)"
   ]
  },
  {
   "cell_type": "markdown",
   "id": "southwest-disorder",
   "metadata": {
    "papermill": {
     "duration": 0.120361,
     "end_time": "2021-05-31T15:20:51.162652",
     "exception": false,
     "start_time": "2021-05-31T15:20:51.042291",
     "status": "completed"
    },
    "tags": []
   },
   "source": [
    "### Random Forest"
   ]
  },
  {
   "cell_type": "code",
   "execution_count": 25,
   "id": "tracked-movement",
   "metadata": {
    "execution": {
     "iopub.execute_input": "2021-05-31T15:20:51.409146Z",
     "iopub.status.busy": "2021-05-31T15:20:51.408315Z",
     "iopub.status.idle": "2021-05-31T15:20:51.411571Z",
     "shell.execute_reply": "2021-05-31T15:20:51.412010Z",
     "shell.execute_reply.started": "2021-05-30T01:08:41.311645Z"
    },
    "papermill": {
     "duration": 0.129218,
     "end_time": "2021-05-31T15:20:51.412180",
     "exception": false,
     "start_time": "2021-05-31T15:20:51.282962",
     "status": "completed"
    },
    "tags": []
   },
   "outputs": [
    {
     "data": {
      "text/plain": [
       "'\\nrf_model = rf.fit(train_features, train_labels)\\nrf_pred = rf_model.predict_proba(test_features)\\n'"
      ]
     },
     "execution_count": 25,
     "metadata": {},
     "output_type": "execute_result"
    }
   ],
   "source": [
    "\n",
    "# Random Forest Classifier\n",
    "rf = RandomForestClassifier(min_samples_split = 5,\n",
    "                            min_samples_leaf = 5,\n",
    "                            max_depth = None,\n",
    "                            bootstrap = True,\n",
    "                            n_jobs=-1,\n",
    "                            criterion = \"entropy\",\n",
    "                            n_estimators=500,\n",
    "                            max_features = 12,\n",
    "                            random_state = 42)\n",
    "'''\n",
    "rf_model = rf.fit(train_features, train_labels)\n",
    "rf_pred = rf_model.predict_proba(test_features)\n",
    "'''"
   ]
  },
  {
   "cell_type": "markdown",
   "id": "sorted-progressive",
   "metadata": {
    "papermill": {
     "duration": 0.123659,
     "end_time": "2021-05-31T15:20:51.653826",
     "exception": false,
     "start_time": "2021-05-31T15:20:51.530167",
     "status": "completed"
    },
    "tags": []
   },
   "source": [
    "### Light GBM"
   ]
  },
  {
   "cell_type": "code",
   "execution_count": 26,
   "id": "living-chambers",
   "metadata": {
    "execution": {
     "iopub.execute_input": "2021-05-31T15:20:51.901343Z",
     "iopub.status.busy": "2021-05-31T15:20:51.900563Z",
     "iopub.status.idle": "2021-05-31T15:20:57.733009Z",
     "shell.execute_reply": "2021-05-31T15:20:57.733624Z",
     "shell.execute_reply.started": "2021-05-31T03:37:17.835612Z"
    },
    "papermill": {
     "duration": 5.958268,
     "end_time": "2021-05-31T15:20:57.733825",
     "exception": false,
     "start_time": "2021-05-31T15:20:51.775557",
     "status": "completed"
    },
    "tags": []
   },
   "outputs": [
    {
     "name": "stdout",
     "output_type": "stream",
     "text": [
      "[LightGBM] [Warning] bagging_fraction is set=0.8, subsample=1.0 will be ignored. Current value: bagging_fraction=0.8\n",
      "[LightGBM] [Warning] feature_fraction is set=0.7, colsample_bytree=1.0 will be ignored. Current value: feature_fraction=0.7\n",
      "[LightGBM] [Warning] bagging_freq is set=4, subsample_freq=0 will be ignored. Current value: bagging_freq=4\n"
     ]
    }
   ],
   "source": [
    "\n",
    "# Light Gradient Boosting Regressor\n",
    "lgb =  LGBMClassifier(objective='multiclass', \n",
    "                       num_leaves=6,\n",
    "                    max_depth=6,\n",
    "                       learning_rate=0.1, \n",
    "                       n_estimators=220,\n",
    "                       max_bin=200, \n",
    "                       bagging_fraction=0.8,\n",
    "                       bagging_freq=4, \n",
    "                       bagging_seed=8,\n",
    "                       feature_fraction=0.7,\n",
    "                       feature_fraction_seed=8,\n",
    "                            verbose=-1,\n",
    "                       random_state=17,\n",
    "                   n_jobs=-1)\n",
    "\n",
    "lgb_model = lgb.fit(train_features, train_labels)\n",
    "lgb_pred = lgb_model.predict_proba(test_features)\n"
   ]
  },
  {
   "cell_type": "code",
   "execution_count": 27,
   "id": "mounted-seeker",
   "metadata": {
    "execution": {
     "iopub.execute_input": "2021-05-31T15:20:57.984337Z",
     "iopub.status.busy": "2021-05-31T15:20:57.983353Z",
     "iopub.status.idle": "2021-05-31T15:20:57.986377Z",
     "shell.execute_reply": "2021-05-31T15:20:57.985912Z",
     "shell.execute_reply.started": "2021-05-30T01:08:41.329791Z"
    },
    "papermill": {
     "duration": 0.127827,
     "end_time": "2021-05-31T15:20:57.986560",
     "exception": false,
     "start_time": "2021-05-31T15:20:57.858733",
     "status": "completed"
    },
    "tags": []
   },
   "outputs": [],
   "source": [
    "\n",
    "# Light Gradient Boosting Regressor\n",
    "lgb2 =  LGBMClassifier(objective='multiclass', \n",
    "                       num_leaves=2,\n",
    "                    max_depth=1,\n",
    "                       learning_rate=0.5, \n",
    "                       n_estimators=550,\n",
    "                      max_bin=25, \n",
    "                       bagging_fraction=0.6,\n",
    "                       bagging_freq=8, \n",
    "                       bagging_seed=8,\n",
    "                      feature_fraction=0.3,\n",
    "                       feature_fraction_seed=8,\n",
    "                            verbose=-1,\n",
    "                       random_state=17,\n",
    "                   n_jobs=-1)\n",
    "\n",
    "#lgb2_model = lgb2.fit(train_features, train_labels)\n",
    "#lgb2_pred = lgb2_model.predict_proba(test_features)"
   ]
  },
  {
   "cell_type": "code",
   "execution_count": 28,
   "id": "quick-canyon",
   "metadata": {
    "execution": {
     "iopub.execute_input": "2021-05-31T15:20:58.231013Z",
     "iopub.status.busy": "2021-05-31T15:20:58.230302Z",
     "iopub.status.idle": "2021-05-31T15:20:58.233646Z",
     "shell.execute_reply": "2021-05-31T15:20:58.232999Z",
     "shell.execute_reply.started": "2021-05-30T01:08:41.341938Z"
    },
    "papermill": {
     "duration": 0.126769,
     "end_time": "2021-05-31T15:20:58.233787",
     "exception": false,
     "start_time": "2021-05-31T15:20:58.107018",
     "status": "completed"
    },
    "tags": []
   },
   "outputs": [],
   "source": [
    "\n",
    "# Light Gradient Boosting Regressor\n",
    "lgb3 = LGBMClassifier(objective='multiclass', \n",
    "                      min_data_in_leaf=7, \n",
    "                    max_depth=4,\n",
    "                       learning_rate=0.066, \n",
    "                       n_estimators=200,\n",
    "                       bagging_fraction=0.75,\n",
    "                       bagging_freq=4, \n",
    "                       bagging_seed=8,\n",
    "                       feature_fraction=0.3,\n",
    "                       feature_fraction_seed=8,\n",
    "                            verbose=-1,\n",
    "                       random_state=17,\n",
    "                   n_jobs=-1)\n",
    "\n",
    "#lgb3_model = lgb3.fit(train_features, train_labels)\n",
    "#lgb3_pred = lgb3_model.predict_proba(test_features)"
   ]
  },
  {
   "cell_type": "code",
   "execution_count": 29,
   "id": "ignored-billy",
   "metadata": {
    "execution": {
     "iopub.execute_input": "2021-05-31T15:20:58.487628Z",
     "iopub.status.busy": "2021-05-31T15:20:58.486559Z",
     "iopub.status.idle": "2021-05-31T15:20:58.489851Z",
     "shell.execute_reply": "2021-05-31T15:20:58.489311Z",
     "shell.execute_reply.started": "2021-05-30T01:08:41.351799Z"
    },
    "papermill": {
     "duration": 0.133072,
     "end_time": "2021-05-31T15:20:58.489993",
     "exception": false,
     "start_time": "2021-05-31T15:20:58.356921",
     "status": "completed"
    },
    "tags": []
   },
   "outputs": [],
   "source": [
    "\n",
    "# Light Gradient Boosting Regressor\n",
    "lgb4 = LGBMClassifier(objective='multiclass', \n",
    "                       num_leaves=6,\n",
    "                    max_depth=6,\n",
    "                       learning_rate=0.1, \n",
    "                       n_estimators=250, \n",
    "                       max_bin=200, \n",
    "                       bagging_fraction=0.8,\n",
    "                       bagging_freq=4, \n",
    "                       bagging_seed=8,\n",
    "                       feature_fraction=0.5,\n",
    "                       feature_fraction_seed=8,\n",
    "                            verbose=-1,\n",
    "                       random_state=17,\n",
    "                   n_jobs=-1)\n",
    "\n",
    "#lgb4_model = lgb4.fit(train_features, train_labels)\n",
    "#lgb4_pred = lgb4_model.predict_proba(test_features)"
   ]
  },
  {
   "cell_type": "code",
   "execution_count": 30,
   "id": "steady-guess",
   "metadata": {
    "execution": {
     "iopub.execute_input": "2021-05-31T15:20:58.734407Z",
     "iopub.status.busy": "2021-05-31T15:20:58.733746Z",
     "iopub.status.idle": "2021-05-31T15:20:58.735894Z",
     "shell.execute_reply": "2021-05-31T15:20:58.736382Z",
     "shell.execute_reply.started": "2021-05-30T01:08:41.364035Z"
    },
    "papermill": {
     "duration": 0.127914,
     "end_time": "2021-05-31T15:20:58.736594",
     "exception": false,
     "start_time": "2021-05-31T15:20:58.608680",
     "status": "completed"
    },
    "tags": []
   },
   "outputs": [],
   "source": [
    "\n",
    "# Light Gradient Boosting Regressor\n",
    "lgb5 = LGBMClassifier(objective='multiclass', \n",
    "                       num_leaves=6,\n",
    "                    min_data_in_leaf=19, \n",
    "                    max_depth=6,\n",
    "                       learning_rate=0.1, \n",
    "                      n_estimators=310, \n",
    "                       max_bin=80, \n",
    "                      bagging_fraction=0.8,\n",
    "                       bagging_freq=4, \n",
    "                       bagging_seed=8,\n",
    "                       feature_fraction=0.1, \n",
    "                       feature_fraction_seed=8,\n",
    "                            verbose=-1,\n",
    "                       random_state=17,\n",
    "                   n_jobs=-1)\n",
    "\n",
    "#lgb5_model = lgb5.fit(train_features, train_labels)\n",
    "#lgb5_pred = lgb5_model.predict_proba(test_features)"
   ]
  },
  {
   "cell_type": "code",
   "execution_count": 31,
   "id": "ready-aging",
   "metadata": {
    "execution": {
     "iopub.execute_input": "2021-05-31T15:20:58.989015Z",
     "iopub.status.busy": "2021-05-31T15:20:58.988271Z",
     "iopub.status.idle": "2021-05-31T15:20:58.993708Z",
     "shell.execute_reply": "2021-05-31T15:20:58.994187Z",
     "shell.execute_reply.started": "2021-05-30T01:08:41.373697Z"
    },
    "papermill": {
     "duration": 0.130731,
     "end_time": "2021-05-31T15:20:58.994366",
     "exception": false,
     "start_time": "2021-05-31T15:20:58.863635",
     "status": "completed"
    },
    "tags": []
   },
   "outputs": [],
   "source": [
    "\n",
    "# Light Gradient Boosting Regressor\n",
    "lgb6 = LGBMClassifier(objective='multiclass', \n",
    "                       num_leaves=6,\n",
    "                    min_data_in_leaf=19, \n",
    "                    max_depth=5,\n",
    "                      learning_rate=0.1, \n",
    "                      n_estimators=310, \n",
    "                       max_bin=20, \n",
    "                      bagging_fraction=0.8,\n",
    "                       bagging_freq=4, \n",
    "                       bagging_seed=8,\n",
    "                      feature_fraction=0.1, \n",
    "                       feature_fraction_seed=8,\n",
    "                           lambda_l2 = 0.003,\n",
    "                           min_gain_to_split = 0.0001,\n",
    "                           metric = 'multi_logloss',\n",
    "                            verbose=-1,\n",
    "                       random_state=17,\n",
    "                   n_jobs=-1)\n",
    "\n",
    "#lgb6_model = lgb6.fit(train_features, train_labels)\n",
    "#lgb6_pred = lgb6_model.predict_proba(test_features)"
   ]
  },
  {
   "cell_type": "code",
   "execution_count": 32,
   "id": "separate-thanks",
   "metadata": {
    "execution": {
     "iopub.execute_input": "2021-05-31T15:20:59.245066Z",
     "iopub.status.busy": "2021-05-31T15:20:59.244388Z",
     "iopub.status.idle": "2021-05-31T15:20:59.250006Z",
     "shell.execute_reply": "2021-05-31T15:20:59.250495Z",
     "shell.execute_reply.started": "2021-05-30T01:08:41.384983Z"
    },
    "papermill": {
     "duration": 0.131908,
     "end_time": "2021-05-31T15:20:59.250687",
     "exception": false,
     "start_time": "2021-05-31T15:20:59.118779",
     "status": "completed"
    },
    "tags": []
   },
   "outputs": [],
   "source": [
    "\n",
    "# Light Gradient Boosting Regressor\n",
    "lgb7 = LGBMClassifier(objective='multiclass', \n",
    "                       num_leaves=6,\n",
    "                    min_data_in_leaf=19, \n",
    "                    max_depth=5,\n",
    "                      learning_rate=0.1, \n",
    "                     n_estimators=500, \n",
    "                       max_bin=20, \n",
    "                      bagging_fraction=0.8,\n",
    "                       bagging_freq=4, \n",
    "                       bagging_seed=8,\n",
    "                      feature_fraction=0.1, \n",
    "                       feature_fraction_seed=8,\n",
    "                          lambda_l1 = 9,\n",
    "                           lambda_l2 = 0.003,\n",
    "                           min_gain_to_split = 0.0001,\n",
    "                           metric = 'multi_logloss',\n",
    "                            verbose=-1,\n",
    "                       random_state=17,\n",
    "                   n_jobs=-1)\n",
    "\n",
    "#lgb7_model = lgb7.fit(train_features, train_labels)\n",
    "#lgb7_pred = lgb7_model.predict_proba(test_features)"
   ]
  },
  {
   "cell_type": "markdown",
   "id": "homeless-paint",
   "metadata": {
    "papermill": {
     "duration": 0.122208,
     "end_time": "2021-05-31T15:20:59.492015",
     "exception": false,
     "start_time": "2021-05-31T15:20:59.369807",
     "status": "completed"
    },
    "tags": []
   },
   "source": [
    "### Extra Trees"
   ]
  },
  {
   "cell_type": "code",
   "execution_count": 33,
   "id": "difficult-edinburgh",
   "metadata": {
    "execution": {
     "iopub.execute_input": "2021-05-31T15:20:59.739654Z",
     "iopub.status.busy": "2021-05-31T15:20:59.738808Z",
     "iopub.status.idle": "2021-05-31T15:20:59.745535Z",
     "shell.execute_reply": "2021-05-31T15:20:59.744916Z",
     "shell.execute_reply.started": "2021-05-30T01:08:41.393764Z"
    },
    "papermill": {
     "duration": 0.130033,
     "end_time": "2021-05-31T15:20:59.745669",
     "exception": false,
     "start_time": "2021-05-31T15:20:59.615636",
     "status": "completed"
    },
    "tags": []
   },
   "outputs": [
    {
     "data": {
      "text/plain": [
       "'\\next_model = ext.fit(train_features, train_labels)\\next_pred = ext_model.predict_proba(test_features)\\n'"
      ]
     },
     "execution_count": 33,
     "metadata": {},
     "output_type": "execute_result"
    }
   ],
   "source": [
    "\n",
    "# Extra Trees Classifier\n",
    "ext =ExtraTreesClassifier(  min_samples_split = 5,\n",
    "                            min_samples_leaf = 5,\n",
    "                            max_depth = 15,\n",
    "                            bootstrap = True,\n",
    "                            n_jobs=-1,\n",
    "                            n_estimators=10,\n",
    "                            max_features = 20,\n",
    "                            random_state = 42,\n",
    "                            criterion = 'entropy')\n",
    "'''\n",
    "ext_model = ext.fit(train_features, train_labels)\n",
    "ext_pred = ext_model.predict_proba(test_features)\n",
    "'''"
   ]
  },
  {
   "cell_type": "markdown",
   "id": "sized-wallpaper",
   "metadata": {
    "papermill": {
     "duration": 0.118354,
     "end_time": "2021-05-31T15:20:59.982323",
     "exception": false,
     "start_time": "2021-05-31T15:20:59.863969",
     "status": "completed"
    },
    "tags": []
   },
   "source": [
    "### CatBoost"
   ]
  },
  {
   "cell_type": "code",
   "execution_count": 34,
   "id": "veterinary-football",
   "metadata": {
    "execution": {
     "iopub.execute_input": "2021-05-31T15:21:00.227656Z",
     "iopub.status.busy": "2021-05-31T15:21:00.226969Z",
     "iopub.status.idle": "2021-05-31T15:21:03.266895Z",
     "shell.execute_reply": "2021-05-31T15:21:03.267450Z",
     "shell.execute_reply.started": "2021-05-30T01:08:41.407882Z"
    },
    "papermill": {
     "duration": 3.164969,
     "end_time": "2021-05-31T15:21:03.267634",
     "exception": false,
     "start_time": "2021-05-31T15:21:00.102665",
     "status": "completed"
    },
    "tags": []
   },
   "outputs": [],
   "source": [
    "\n",
    "#CatBoost\n",
    "cat_features = train_features.columns.values.tolist()\n",
    "\n",
    "train_dataset = Pool(data=train_features,\n",
    "                     label=train_labels,\n",
    "                     cat_features=cat_features)\n",
    "\n",
    "eval_dataset = Pool(data=test_features,\n",
    "                    cat_features=cat_features)\n",
    "\n",
    "# Initialize CatBoostClassifier\n",
    "cat =  CatBoostClassifier(n_estimators=500,\n",
    "                           learning_rate=0.3,\n",
    "                           max_depth=2,\n",
    "                           loss_function='MultiClass',\n",
    "                          random_state=17,\n",
    "                          thread_count=-1,\n",
    "                            colsample_bylevel=0.5,\n",
    "                            min_data_in_leaf=5,\n",
    "                            verbose=0)\n",
    "# Fit model\n",
    "#cat.fit(train_dataset)\n",
    "# Get predicted probabilities for each class\n",
    "#cat_pred = cat.predict_proba(eval_dataset)\n"
   ]
  },
  {
   "cell_type": "code",
   "execution_count": 35,
   "id": "southeast-catalyst",
   "metadata": {
    "execution": {
     "iopub.execute_input": "2021-05-31T15:21:03.550492Z",
     "iopub.status.busy": "2021-05-31T15:21:03.549751Z",
     "iopub.status.idle": "2021-05-31T15:21:03.552881Z",
     "shell.execute_reply": "2021-05-31T15:21:03.552367Z",
     "shell.execute_reply.started": "2021-05-30T01:08:44.271973Z"
    },
    "papermill": {
     "duration": 0.163473,
     "end_time": "2021-05-31T15:21:03.553015",
     "exception": false,
     "start_time": "2021-05-31T15:21:03.389542",
     "status": "completed"
    },
    "tags": []
   },
   "outputs": [],
   "source": [
    "\n",
    "#CatBoost2\n",
    "\n",
    "\n",
    "# Initialize CatBoostClassifier\n",
    "cat2 = CatBoostClassifier(n_estimators=550,\n",
    "                           learning_rate=0.5,\n",
    "                           max_depth=1,\n",
    "                           loss_function='MultiClass',\n",
    "                          random_state=17,\n",
    "                          thread_count=-1,\n",
    "                            colsample_bylevel=0.4,\n",
    "                            min_data_in_leaf=5,\n",
    "                            verbose=0)\n",
    "# Fit model\n",
    "#cat2.fit(train_dataset)\n",
    "# Get predicted probabilities for each class\n",
    "#cat2_pred = cat2.predict_proba(eval_dataset)"
   ]
  },
  {
   "cell_type": "code",
   "execution_count": 36,
   "id": "skilled-mauritius",
   "metadata": {
    "execution": {
     "iopub.execute_input": "2021-05-31T15:21:03.797231Z",
     "iopub.status.busy": "2021-05-31T15:21:03.796613Z",
     "iopub.status.idle": "2021-05-31T15:21:03.799144Z",
     "shell.execute_reply": "2021-05-31T15:21:03.799637Z",
     "shell.execute_reply.started": "2021-05-30T01:08:44.278805Z"
    },
    "papermill": {
     "duration": 0.128555,
     "end_time": "2021-05-31T15:21:03.799801",
     "exception": false,
     "start_time": "2021-05-31T15:21:03.671246",
     "status": "completed"
    },
    "tags": []
   },
   "outputs": [],
   "source": [
    "\n",
    "#CatBoost3\n",
    "\n",
    "\n",
    "# Initialize CatBoostClassifier\n",
    "cat3 = CatBoostClassifier(n_estimators=250,\n",
    "                           learning_rate=0.1,\n",
    "                           max_depth=6,\n",
    "                           loss_function='MultiClass',\n",
    "                          random_state=17,\n",
    "                          thread_count=-1,\n",
    "                            colsample_bylevel=0.4,\n",
    "                            min_data_in_leaf=3,\n",
    "                            verbose=0)\n",
    "\n",
    "# Fit model\n",
    "#cat3.fit(train_dataset)\n",
    "# Get predicted probabilities for each class\n",
    "#cat3_pred = cat3.predict_proba(eval_dataset)"
   ]
  },
  {
   "cell_type": "code",
   "execution_count": 37,
   "id": "dietary-south",
   "metadata": {
    "execution": {
     "iopub.execute_input": "2021-05-31T15:21:04.041031Z",
     "iopub.status.busy": "2021-05-31T15:21:04.040329Z",
     "iopub.status.idle": "2021-05-31T15:21:04.043798Z",
     "shell.execute_reply": "2021-05-31T15:21:04.043212Z",
     "shell.execute_reply.started": "2021-05-30T01:08:44.288417Z"
    },
    "papermill": {
     "duration": 0.127893,
     "end_time": "2021-05-31T15:21:04.043940",
     "exception": false,
     "start_time": "2021-05-31T15:21:03.916047",
     "status": "completed"
    },
    "tags": []
   },
   "outputs": [],
   "source": [
    "#CatBoost4\n",
    "\n",
    "# Initialize CatBoostClassifier\n",
    "\n",
    "cat4 = CatBoostClassifier(n_estimators=600,\n",
    "                           learning_rate=0.6,\n",
    "                           max_depth=1,\n",
    "                           loss_function='MultiClass',\n",
    "                          random_state=17,\n",
    "                          thread_count=-1,\n",
    "                            colsample_bylevel=0.4,\n",
    "                            min_data_in_leaf=5,\n",
    "                            verbose=0)\n",
    "\n",
    "\n",
    "# Fit model\n",
    "#cat4.fit(train_dataset)\n",
    "# Get predicted probabilities for each class\n",
    "#cat4_pred = cat4.predict_proba(eval_dataset)"
   ]
  },
  {
   "cell_type": "code",
   "execution_count": 38,
   "id": "former-courtesy",
   "metadata": {
    "execution": {
     "iopub.execute_input": "2021-05-31T15:21:04.284226Z",
     "iopub.status.busy": "2021-05-31T15:21:04.283560Z",
     "iopub.status.idle": "2021-05-31T15:21:04.286676Z",
     "shell.execute_reply": "2021-05-31T15:21:04.286038Z",
     "shell.execute_reply.started": "2021-05-30T01:08:44.2974Z"
    },
    "papermill": {
     "duration": 0.126288,
     "end_time": "2021-05-31T15:21:04.286814",
     "exception": false,
     "start_time": "2021-05-31T15:21:04.160526",
     "status": "completed"
    },
    "tags": []
   },
   "outputs": [],
   "source": [
    "#CatBoost5\n",
    "\n",
    "# Initialize CatBoostClassifier\n",
    "\n",
    "cat5 = CatBoostClassifier(n_estimators=600,\n",
    "                           learning_rate=0.6,\n",
    "                           max_depth=1,\n",
    "                           loss_function='MultiClass',\n",
    "                          random_state=17,\n",
    "                          thread_count=-1,\n",
    "                            colsample_bylevel=0.4,\n",
    "                            min_data_in_leaf=5,\n",
    "                               bagging_temperature = 0.2,\n",
    "                             sampling_frequency = 'PerTreeLevel',\n",
    "                               reg_lambda = 3,\n",
    "                            verbose=0)\n",
    "\n",
    "# Fit model\n",
    "#cat5.fit(train_dataset)\n",
    "# Get predicted probabilities for each class\n",
    "#cat5_pred = cat5.predict_proba(eval_dataset)"
   ]
  },
  {
   "cell_type": "markdown",
   "id": "existing-folks",
   "metadata": {
    "papermill": {
     "duration": 0.13215,
     "end_time": "2021-05-31T15:21:04.539362",
     "exception": false,
     "start_time": "2021-05-31T15:21:04.407212",
     "status": "completed"
    },
    "tags": []
   },
   "source": [
    "## Stacking\n",
    "\n",
    "Only one level of meta model is trained on the base model predictions and the original features. The type of meta models would still be chosen from the available types in the base models. "
   ]
  },
  {
   "cell_type": "code",
   "execution_count": 39,
   "id": "mobile-hundred",
   "metadata": {
    "execution": {
     "iopub.execute_input": "2021-05-31T15:21:04.800695Z",
     "iopub.status.busy": "2021-05-31T15:21:04.799749Z",
     "iopub.status.idle": "2021-05-31T15:21:04.804249Z",
     "shell.execute_reply": "2021-05-31T15:21:04.804946Z",
     "shell.execute_reply.started": "2021-05-30T01:08:44.311508Z"
    },
    "papermill": {
     "duration": 0.133402,
     "end_time": "2021-05-31T15:21:04.805174",
     "exception": false,
     "start_time": "2021-05-31T15:21:04.671772",
     "status": "completed"
    },
    "tags": []
   },
   "outputs": [
    {
     "name": "stdout",
     "output_type": "stream",
     "text": [
      "CPU times: user 23 µs, sys: 0 ns, total: 23 µs\n",
      "Wall time: 26.7 µs\n"
     ]
    }
   ],
   "source": [
    "%%time\n",
    "# Stack up all the models above, optimized using lgb\n",
    "stack_gen = StackingCVClassifier(classifiers = (rf, lgb, xgb, ext),\n",
    "                                meta_classifier = lgb,\n",
    "                                 use_probas= True,\n",
    "                                use_features_in_secondary=True, \n",
    "                                 verbose=2,\n",
    "                                 n_jobs=-1,\n",
    "                                random_state=17)\n",
    "\n",
    "#stack_gen_model = stack_gen.fit(np.array(train_features), np.array(train_labels))\n",
    "#stack_pred = stack_gen_model.predict_proba(np.array(test_features))\n"
   ]
  },
  {
   "cell_type": "code",
   "execution_count": 40,
   "id": "loving-worse",
   "metadata": {
    "execution": {
     "iopub.execute_input": "2021-05-31T15:21:05.049875Z",
     "iopub.status.busy": "2021-05-31T15:21:05.048963Z",
     "iopub.status.idle": "2021-05-31T15:21:05.053385Z",
     "shell.execute_reply": "2021-05-31T15:21:05.052683Z",
     "shell.execute_reply.started": "2021-05-30T01:08:44.321963Z"
    },
    "papermill": {
     "duration": 0.127839,
     "end_time": "2021-05-31T15:21:05.053542",
     "exception": false,
     "start_time": "2021-05-31T15:21:04.925703",
     "status": "completed"
    },
    "tags": []
   },
   "outputs": [
    {
     "name": "stdout",
     "output_type": "stream",
     "text": [
      "CPU times: user 17 µs, sys: 1 µs, total: 18 µs\n",
      "Wall time: 21 µs\n"
     ]
    }
   ],
   "source": [
    "\n",
    "%%time\n",
    "# Stack2\n",
    "# Stack up all the models above, optimized using cat\n",
    "stack_gen2 = StackingCVClassifier(classifiers = (xgb2, lgb, cat),\n",
    "                                meta_classifier = cat,\n",
    "                                 use_probas= True,\n",
    "                                use_features_in_secondary=True, \n",
    "                                 verbose=2,\n",
    "                                 n_jobs=-1,\n",
    "                                random_state=17)\n",
    "\n",
    "#stack_gen2_model = stack_gen2.fit(np.array(train_features), np.array(train_labels))\n",
    "#stack2_pred = stack_gen2_model.predict_proba(np.array(test_features))\n"
   ]
  },
  {
   "cell_type": "code",
   "execution_count": 41,
   "id": "addressed-wagon",
   "metadata": {
    "execution": {
     "iopub.execute_input": "2021-05-31T15:21:05.297002Z",
     "iopub.status.busy": "2021-05-31T15:21:05.296220Z",
     "iopub.status.idle": "2021-05-31T15:21:05.300885Z",
     "shell.execute_reply": "2021-05-31T15:21:05.300027Z",
     "shell.execute_reply.started": "2021-05-30T01:08:44.331366Z"
    },
    "papermill": {
     "duration": 0.127717,
     "end_time": "2021-05-31T15:21:05.301087",
     "exception": false,
     "start_time": "2021-05-31T15:21:05.173370",
     "status": "completed"
    },
    "tags": []
   },
   "outputs": [
    {
     "name": "stdout",
     "output_type": "stream",
     "text": [
      "CPU times: user 19 µs, sys: 0 ns, total: 19 µs\n",
      "Wall time: 22.6 µs\n"
     ]
    }
   ],
   "source": [
    "%%time\n",
    "# Stack4\n",
    "# Stack up all the models above, optimized using cat2\n",
    "stack_gen4 = StackingCVClassifier(classifiers = (xgb2,lgb, cat2),\n",
    "                                meta_classifier = cat,\n",
    "                                 use_probas= True,\n",
    "                                use_features_in_secondary=True, \n",
    "                                 verbose=2,\n",
    "                                 n_jobs=-1,\n",
    "                                random_state=17\n",
    "                                )\n",
    "\n",
    "#stack_gen4_model = stack_gen4.fit(np.array(train_features), np.array(train_labels))\n",
    "#stack4_pred = stack_gen4_model.predict_proba(np.array(test_features))"
   ]
  },
  {
   "cell_type": "code",
   "execution_count": 42,
   "id": "unusual-proportion",
   "metadata": {
    "execution": {
     "iopub.execute_input": "2021-05-31T15:21:05.543603Z",
     "iopub.status.busy": "2021-05-31T15:21:05.542935Z",
     "iopub.status.idle": "2021-05-31T15:21:05.546518Z",
     "shell.execute_reply": "2021-05-31T15:21:05.545682Z",
     "shell.execute_reply.started": "2021-05-30T01:08:44.344246Z"
    },
    "papermill": {
     "duration": 0.127373,
     "end_time": "2021-05-31T15:21:05.546692",
     "exception": false,
     "start_time": "2021-05-31T15:21:05.419319",
     "status": "completed"
    },
    "tags": []
   },
   "outputs": [
    {
     "name": "stdout",
     "output_type": "stream",
     "text": [
      "CPU times: user 77 µs, sys: 2 µs, total: 79 µs\n",
      "Wall time: 83.7 µs\n"
     ]
    }
   ],
   "source": [
    "%%time\n",
    "# Stack5\n",
    "# Stack up all the models above, optimized using cats5\n",
    "\n",
    "cats5 = CatBoostClassifier(n_estimators=450, \n",
    "                           learning_rate=0.1, \n",
    "                           max_depth=1,\n",
    "                           loss_function='MultiClass',\n",
    "                          random_state=17,\n",
    "                          thread_count=-1,\n",
    "                            colsample_bylevel=0.5,\n",
    "                            min_data_in_leaf=5,\n",
    "                            verbose=0)\n",
    "                            \n",
    "\n",
    "stack_gen5 = StackingCVClassifier(classifiers = (xgb2,lgb, cat2),\n",
    "                                meta_classifier = cats5,\n",
    "                                 use_probas= True,\n",
    "                                use_features_in_secondary=True, \n",
    "                                 verbose=2,\n",
    "                                 n_jobs=-1,\n",
    "                                random_state=17,\n",
    "                                   stratify = True)\n",
    "\n",
    "\n",
    "#stack_gen5_model = stack_gen5.fit(np.array(train_features), np.array(train_labels))\n",
    "#stack5_pred = stack_gen5_model.predict_proba(np.array(test_features))"
   ]
  },
  {
   "cell_type": "code",
   "execution_count": 43,
   "id": "surgical-appraisal",
   "metadata": {
    "execution": {
     "iopub.execute_input": "2021-05-31T15:21:05.796384Z",
     "iopub.status.busy": "2021-05-31T15:21:05.795412Z",
     "iopub.status.idle": "2021-05-31T15:21:05.799626Z",
     "shell.execute_reply": "2021-05-31T15:21:05.800309Z",
     "shell.execute_reply.started": "2021-05-30T01:08:44.35491Z"
    },
    "papermill": {
     "duration": 0.132596,
     "end_time": "2021-05-31T15:21:05.800545",
     "exception": false,
     "start_time": "2021-05-31T15:21:05.667949",
     "status": "completed"
    },
    "tags": []
   },
   "outputs": [
    {
     "name": "stdout",
     "output_type": "stream",
     "text": [
      "CPU times: user 48 µs, sys: 1 µs, total: 49 µs\n",
      "Wall time: 54.1 µs\n"
     ]
    }
   ],
   "source": [
    "%%time\n",
    "# Stack6\n",
    "# Stack up all the models above, optimized using lgbs6\n",
    "\n",
    "lgbs6 = LGBMClassifier(objective='multiclass', \n",
    "                       num_leaves=6,\n",
    "                    max_depth=6,\n",
    "                       learning_rate=0.03, \n",
    "                       n_estimators=160, \n",
    "                       max_bin=200, \n",
    "                       bagging_fraction=0.8,\n",
    "                       bagging_freq=4, \n",
    "                       bagging_seed=8,\n",
    "                       feature_fraction=0.7,\n",
    "                       feature_fraction_seed=8,\n",
    "                            verbose=-1,\n",
    "                       random_state=17,\n",
    "                   n_jobs=-1)\n",
    "                            \n",
    "\n",
    "stack_gen6 = StackingCVClassifier(classifiers = (lgb, xgb, cat),\n",
    "                                meta_classifier = lgbs6,\n",
    "                                 use_probas= True,\n",
    "                                use_features_in_secondary=True, \n",
    "                                 verbose=2,\n",
    "                                 n_jobs=-1,\n",
    "                                random_state=17,\n",
    "                                   stratify = True)\n",
    "\n",
    "\n",
    "#stack_gen6_model = stack_gen6.fit(np.array(train_features), np.array(train_labels))\n",
    "#stack6_pred = stack_gen6_model.predict_proba(np.array(test_features))"
   ]
  },
  {
   "cell_type": "code",
   "execution_count": 44,
   "id": "relative-tradition",
   "metadata": {
    "execution": {
     "iopub.execute_input": "2021-05-31T15:21:06.046582Z",
     "iopub.status.busy": "2021-05-31T15:21:06.045701Z",
     "iopub.status.idle": "2021-05-31T15:21:06.049905Z",
     "shell.execute_reply": "2021-05-31T15:21:06.049420Z",
     "shell.execute_reply.started": "2021-05-30T01:08:44.370346Z"
    },
    "papermill": {
     "duration": 0.130334,
     "end_time": "2021-05-31T15:21:06.050035",
     "exception": false,
     "start_time": "2021-05-31T15:21:05.919701",
     "status": "completed"
    },
    "tags": []
   },
   "outputs": [
    {
     "name": "stdout",
     "output_type": "stream",
     "text": [
      "CPU times: user 47 µs, sys: 1 µs, total: 48 µs\n",
      "Wall time: 51.7 µs\n"
     ]
    }
   ],
   "source": [
    "%%time\n",
    "# Stack7\n",
    "# Stack up all the models above, optimized using lgbs7\n",
    "\n",
    "\n",
    "lgbs7 = LGBMClassifier(objective='multiclass', \n",
    "                      min_data_in_leaf=7, \n",
    "                    max_depth=4,\n",
    "                       learning_rate=0.05, \n",
    "                       n_estimators=100,\n",
    "                       bagging_fraction=1,\n",
    "                       bagging_freq=4, \n",
    "                       bagging_seed=8,\n",
    "                       feature_fraction=0.3,\n",
    "                       feature_fraction_seed=8,\n",
    "                            verbose=-1,\n",
    "                       random_state=17,\n",
    "                   n_jobs=-1)\n",
    "\n",
    "stack_gen7 =  StackingCVClassifier(classifiers = (lgb3, xgb3, cat),\n",
    "                                meta_classifier = lgbs7,\n",
    "                                 use_probas= True,\n",
    "                                use_features_in_secondary=True, \n",
    "                                 verbose=2,\n",
    "                                 n_jobs=-1,\n",
    "                                random_state=17,\n",
    "                                   stratify = True)\n",
    "\n",
    "\n",
    "#stack_gen7_model = stack_gen7.fit(np.array(train_features), np.array(train_labels))\n",
    "#stack7_pred = stack_gen7_model.predict_proba(np.array(test_features))"
   ]
  },
  {
   "cell_type": "code",
   "execution_count": 45,
   "id": "fifteen-aruba",
   "metadata": {
    "execution": {
     "iopub.execute_input": "2021-05-31T15:21:06.295135Z",
     "iopub.status.busy": "2021-05-31T15:21:06.294455Z",
     "iopub.status.idle": "2021-05-31T15:21:06.300317Z",
     "shell.execute_reply": "2021-05-31T15:21:06.299299Z",
     "shell.execute_reply.started": "2021-05-30T01:08:44.384453Z"
    },
    "papermill": {
     "duration": 0.131024,
     "end_time": "2021-05-31T15:21:06.300582",
     "exception": false,
     "start_time": "2021-05-31T15:21:06.169558",
     "status": "completed"
    },
    "tags": []
   },
   "outputs": [
    {
     "name": "stdout",
     "output_type": "stream",
     "text": [
      "CPU times: user 47 µs, sys: 1e+03 ns, total: 48 µs\n",
      "Wall time: 52.2 µs\n"
     ]
    }
   ],
   "source": [
    "%%time\n",
    "# Stack8\n",
    "# Stack up all the models above, optimized using lgbs8\n",
    "\n",
    "\n",
    "lgbs8 = LGBMClassifier(objective='multiclass', \n",
    "                     min_data_in_leaf=3, \n",
    "                    max_depth=4,\n",
    "                       learning_rate=0.05, \n",
    "                       n_estimators=100,\n",
    "                       bagging_fraction=0.75,\n",
    "                       bagging_freq=4, \n",
    "                       bagging_seed=8,\n",
    "                       feature_fraction=0.3,\n",
    "                       feature_fraction_seed=8,\n",
    "                            verbose=-1,\n",
    "                       random_state=17,\n",
    "                   n_jobs=-1)\n",
    "\n",
    "stack_gen8 = StackingCVClassifier(classifiers = (xgb2, lgb, cat2),\n",
    "                                meta_classifier = lgbs8,\n",
    "                                 use_probas= True,\n",
    "                                use_features_in_secondary=True, \n",
    "                                 verbose=2,\n",
    "                                 n_jobs=-1,\n",
    "                                random_state=17,\n",
    "                                   stratify = True)\n",
    "\n",
    "#stack_gen8_model = stack_gen8.fit(np.array(train_features), np.array(train_labels))\n",
    "#stack8_pred = stack_gen8_model.predict_proba(np.array(test_features))"
   ]
  },
  {
   "cell_type": "code",
   "execution_count": 46,
   "id": "impressed-representative",
   "metadata": {
    "execution": {
     "iopub.execute_input": "2021-05-31T15:21:06.546017Z",
     "iopub.status.busy": "2021-05-31T15:21:06.545370Z",
     "iopub.status.idle": "2021-05-31T15:21:06.549542Z",
     "shell.execute_reply": "2021-05-31T15:21:06.550009Z",
     "shell.execute_reply.started": "2021-05-30T01:08:44.398221Z"
    },
    "papermill": {
     "duration": 0.129898,
     "end_time": "2021-05-31T15:21:06.550179",
     "exception": false,
     "start_time": "2021-05-31T15:21:06.420281",
     "status": "completed"
    },
    "tags": []
   },
   "outputs": [
    {
     "name": "stdout",
     "output_type": "stream",
     "text": [
      "CPU times: user 50 µs, sys: 1 µs, total: 51 µs\n",
      "Wall time: 55.3 µs\n"
     ]
    }
   ],
   "source": [
    "%%time\n",
    "# Stack9\n",
    "# Stack up all the models above, optimized using lgbs9\n",
    "\n",
    "\n",
    "lgbs9 = LGBMClassifier(objective='multiclass', \n",
    "                       num_leaves=6,\n",
    "                   min_data_in_leaf=23, \n",
    "                    max_depth=3,\n",
    "                       learning_rate=0.05, \n",
    "                    n_estimators=270, \n",
    "                      max_bin=60, \n",
    "                    bagging_fraction=0.7, \n",
    "                       bagging_freq=4, \n",
    "                       bagging_seed=8,\n",
    "                       feature_fraction=0.1, \n",
    "                       feature_fraction_seed=8,\n",
    "                            verbose=-1,\n",
    "                       random_state=17,\n",
    "                   n_jobs=-1)\n",
    "\n",
    "stack_gen9 = StackingCVClassifier(classifiers = (xgb4, lgb5, cat4),\n",
    "                                meta_classifier = lgbs9,\n",
    "                                 use_probas= True,\n",
    "                                use_features_in_secondary=True, \n",
    "                                 verbose=2,\n",
    "                                 n_jobs=-1,\n",
    "                                random_state=17,\n",
    "                                   stratify = True)\n",
    "\n",
    "#stack_gen9_model = stack_gen9.fit(np.array(train_features), np.array(train_labels))\n",
    "#stack9_pred = stack_gen9_model.predict_proba(np.array(test_features))"
   ]
  },
  {
   "cell_type": "code",
   "execution_count": 47,
   "id": "civil-still",
   "metadata": {
    "execution": {
     "iopub.execute_input": "2021-05-31T15:21:06.795723Z",
     "iopub.status.busy": "2021-05-31T15:21:06.795018Z",
     "iopub.status.idle": "2021-05-31T15:21:06.797793Z",
     "shell.execute_reply": "2021-05-31T15:21:06.798480Z",
     "shell.execute_reply.started": "2021-05-30T01:08:44.412061Z"
    },
    "papermill": {
     "duration": 0.129889,
     "end_time": "2021-05-31T15:21:06.798703",
     "exception": false,
     "start_time": "2021-05-31T15:21:06.668814",
     "status": "completed"
    },
    "tags": []
   },
   "outputs": [
    {
     "name": "stdout",
     "output_type": "stream",
     "text": [
      "CPU times: user 47 µs, sys: 2 µs, total: 49 µs\n",
      "Wall time: 52.2 µs\n"
     ]
    }
   ],
   "source": [
    "%%time\n",
    "# Stack10\n",
    "# Stack up all the models above, optimized using lgbs10\n",
    "\n",
    "\n",
    "lgbs10 = LGBMClassifier(objective='multiclass', \n",
    "                       num_leaves=4,\n",
    "                  min_data_in_leaf=400, \n",
    "                    max_depth=1, \n",
    "                     learning_rate=0.05, \n",
    "                   n_estimators=270, \n",
    "                      max_bin=60, \n",
    "                    bagging_fraction=0.5, \n",
    "                       bagging_freq=4, \n",
    "                       bagging_seed=8,\n",
    "                       feature_fraction=0.15, \n",
    "                       feature_fraction_seed=8,\n",
    "                            verbose=-1,\n",
    "                       random_state=17,\n",
    "                   n_jobs=-1)\n",
    "\n",
    "                            \n",
    "\n",
    "stack_gen10 = StackingCVClassifier(classifiers = (xgb4, lgb5, cat4),\n",
    "                                meta_classifier = lgbs10,\n",
    "                                 use_probas= True,\n",
    "                                use_features_in_secondary= False, \n",
    "                                 verbose=2,\n",
    "                                 n_jobs=-1,\n",
    "                                random_state=17,\n",
    "                                   stratify = True)\n",
    "\n",
    "\n",
    "#stack_gen10_model = stack_gen10.fit(np.array(train_features), np.array(train_labels))\n",
    "#stack10_pred = stack_gen10_model.predict_proba(np.array(test_features))"
   ]
  },
  {
   "cell_type": "code",
   "execution_count": 48,
   "id": "specific-prevention",
   "metadata": {
    "execution": {
     "iopub.execute_input": "2021-05-31T15:21:07.051701Z",
     "iopub.status.busy": "2021-05-31T15:21:07.050980Z",
     "iopub.status.idle": "2021-05-31T15:24:12.932909Z",
     "shell.execute_reply": "2021-05-31T15:24:12.933414Z",
     "shell.execute_reply.started": "2021-05-30T07:24:27.367557Z"
    },
    "papermill": {
     "duration": 186.011577,
     "end_time": "2021-05-31T15:24:12.933611",
     "exception": false,
     "start_time": "2021-05-31T15:21:06.922034",
     "status": "completed"
    },
    "tags": []
   },
   "outputs": [
    {
     "name": "stdout",
     "output_type": "stream",
     "text": [
      "Fitting 3 classifiers...\n",
      "Fitting classifier1: xgbclassifier (1/3)\n",
      "XGBClassifier(base_score=None, booster=None, colsample_bylevel=None,\n",
      "              colsample_bynode=None, colsample_bytree=0.1,\n",
      "              eval_metric='mlogloss', gamma=0.005, gpu_id=None,\n",
      "              importance_type='gain', interaction_constraints=None,\n",
      "              learning_rate=0.5, max_delta_step=None, max_depth=2,\n",
      "              min_child_weight=5, missing=nan, monotone_constraints=None,\n",
      "              n_estimators=200, n_jobs=None, nthread=-1, num_parallel_tree=None,\n",
      "              objective='multi:softprob', random_state=42, reg_alpha=5,\n",
      "              reg_lambda=0.3, scale_pos_weight=1, subsample=0.7,\n",
      "              tree_method=None, validate_parameters=None, verbosity=None)\n"
     ]
    },
    {
     "name": "stderr",
     "output_type": "stream",
     "text": [
      "[Parallel(n_jobs=-1)]: Using backend LokyBackend with 4 concurrent workers.\n",
      "[Parallel(n_jobs=-1)]: Done   2 out of   2 | elapsed:  1.6min finished\n"
     ]
    },
    {
     "name": "stdout",
     "output_type": "stream",
     "text": [
      "Fitting classifier2: lgbmclassifier (2/3)\n",
      "LGBMClassifier(bagging_fraction=0.8, bagging_freq=4, bagging_seed=8,\n",
      "               feature_fraction=0.1, feature_fraction_seed=8, lambda_l1=9,\n",
      "               lambda_l2=0.003, max_bin=20, max_depth=5, metric='multi_logloss',\n",
      "               min_data_in_leaf=19, min_gain_to_split=0.0001, n_estimators=500,\n",
      "               num_leaves=6, objective='multiclass', random_state=17,\n",
      "               verbose=-1)\n"
     ]
    },
    {
     "name": "stderr",
     "output_type": "stream",
     "text": [
      "[Parallel(n_jobs=-1)]: Using backend LokyBackend with 4 concurrent workers.\n",
      "[Parallel(n_jobs=-1)]: Done   2 out of   2 | elapsed:   22.9s finished\n"
     ]
    },
    {
     "name": "stdout",
     "output_type": "stream",
     "text": [
      "Fitting classifier3: catboostclassifier (3/3)\n",
      "<catboost.core.CatBoostClassifier object at 0x7f7722ef2810>\n"
     ]
    },
    {
     "name": "stderr",
     "output_type": "stream",
     "text": [
      "[Parallel(n_jobs=-1)]: Using backend LokyBackend with 4 concurrent workers.\n",
      "[Parallel(n_jobs=-1)]: Done   2 out of   2 | elapsed:   21.1s finished\n"
     ]
    },
    {
     "name": "stdout",
     "output_type": "stream",
     "text": [
      "[15:23:25] WARNING: ../src/learner.cc:573: \n",
      "Parameters: { \"scale_pos_weight\" } might not be used.\n",
      "\n",
      "  This may not be accurate due to some parameters are only used in language bindings but\n",
      "  passed down to XGBoost core.  Or some parameters are not used but slip through this\n",
      "  verification. Please open an issue if you find above cases.\n",
      "\n",
      "\n",
      "[LightGBM] [Warning] bagging_fraction is set=0.8, subsample=1.0 will be ignored. Current value: bagging_fraction=0.8\n",
      "[LightGBM] [Warning] feature_fraction is set=0.1, colsample_bytree=1.0 will be ignored. Current value: feature_fraction=0.1\n",
      "[LightGBM] [Warning] lambda_l1 is set=9, reg_alpha=0.0 will be ignored. Current value: lambda_l1=9\n",
      "[LightGBM] [Warning] min_data_in_leaf is set=19, min_child_samples=20 will be ignored. Current value: min_data_in_leaf=19\n",
      "[LightGBM] [Warning] bagging_freq is set=4, subsample_freq=0 will be ignored. Current value: bagging_freq=4\n",
      "[LightGBM] [Warning] min_gain_to_split is set=0.0001, min_split_gain=0.0 will be ignored. Current value: min_gain_to_split=0.0001\n",
      "[LightGBM] [Warning] lambda_l2 is set=0.003, reg_lambda=0.0 will be ignored. Current value: lambda_l2=0.003\n",
      "CPU times: user 2min 59s, sys: 1.44 s, total: 3min 1s\n",
      "Wall time: 3min 5s\n"
     ]
    }
   ],
   "source": [
    "%%time\n",
    "# Stack11\n",
    "# Stack up all the models above, optimized using lgbs11\n",
    "\n",
    "\n",
    "lgbs11 = LGBMClassifier(objective='multiclass', \n",
    "                       num_leaves=5,\n",
    "                    min_data_in_leaf=19, \n",
    "                    max_depth=4,\n",
    "                      learning_rate=0.1, \n",
    "                     n_estimators=180, \n",
    "                       max_bin=20, \n",
    "                      bagging_fraction=0.8,\n",
    "                       bagging_freq=4, \n",
    "                       bagging_seed=8,\n",
    "                      feature_fraction=0.1, \n",
    "                       feature_fraction_seed=8,\n",
    "                          lambda_l1 = 7,\n",
    "                           lambda_l2 = 0.1,\n",
    "                           min_gain_to_split = 0.01,\n",
    "                           metric = 'multi_logloss',\n",
    "                            verbose=-1,\n",
    "                       random_state=17,\n",
    "                   n_jobs=-1)\n",
    "                       \n",
    "stack_gen11 = StackingCVClassifier(classifiers = (xgb5, lgb7, cat5),\n",
    "                                meta_classifier = lgbs11,\n",
    "                                 use_probas= True,\n",
    "                                use_features_in_secondary= True, \n",
    "                                 verbose=2,\n",
    "                                 n_jobs=-1,\n",
    "                                random_state=17,\n",
    "                                   stratify = True)\n",
    "\n",
    "\n",
    "stack_gen11_model = stack_gen11.fit(np.array(train_features), np.array(train_labels))\n",
    "stack11_pred = stack_gen11_model.predict_proba(np.array(test_features))"
   ]
  },
  {
   "cell_type": "markdown",
   "id": "occupational-sense",
   "metadata": {
    "papermill": {
     "duration": 0.124244,
     "end_time": "2021-05-31T15:24:13.180506",
     "exception": false,
     "start_time": "2021-05-31T15:24:13.056262",
     "status": "completed"
    },
    "tags": []
   },
   "source": [
    "## CV result"
   ]
  },
  {
   "cell_type": "code",
   "execution_count": 49,
   "id": "automotive-anime",
   "metadata": {
    "execution": {
     "iopub.execute_input": "2021-05-31T15:24:13.441173Z",
     "iopub.status.busy": "2021-05-31T15:24:13.440488Z",
     "iopub.status.idle": "2021-05-31T15:33:41.528896Z",
     "shell.execute_reply": "2021-05-31T15:33:41.529473Z",
     "shell.execute_reply.started": "2021-05-30T01:08:44.479069Z"
    },
    "papermill": {
     "duration": 568.226356,
     "end_time": "2021-05-31T15:33:41.529770",
     "exception": false,
     "start_time": "2021-05-31T15:24:13.303414",
     "status": "completed"
    },
    "tags": []
   },
   "outputs": [
    {
     "name": "stdout",
     "output_type": "stream",
     "text": [
      "rf: 1.0436 (0.0008)\n"
     ]
    }
   ],
   "source": [
    "\n",
    "scores = {}\n",
    "\n",
    "score = cv_loss(stack_gen11)\n",
    "print(\"rf: {:.4f} ({:.4f})\".format(score.mean(), score.std()))\n",
    "scores['rf'] = (score.mean(), score.std())\n"
   ]
  },
  {
   "cell_type": "markdown",
   "id": "southern-webmaster",
   "metadata": {
    "papermill": {
     "duration": 0.127031,
     "end_time": "2021-05-31T15:33:41.784341",
     "exception": false,
     "start_time": "2021-05-31T15:33:41.657310",
     "status": "completed"
    },
    "tags": []
   },
   "source": [
    "Redefine CV function for PCA"
   ]
  },
  {
   "cell_type": "code",
   "execution_count": 50,
   "id": "sitting-carol",
   "metadata": {
    "execution": {
     "iopub.execute_input": "2021-05-31T15:33:42.048546Z",
     "iopub.status.busy": "2021-05-31T15:33:42.047844Z",
     "iopub.status.idle": "2021-05-31T15:33:42.050504Z",
     "shell.execute_reply": "2021-05-31T15:33:42.050989Z",
     "shell.execute_reply.started": "2021-05-30T01:08:44.493617Z"
    },
    "papermill": {
     "duration": 0.137018,
     "end_time": "2021-05-31T15:33:42.051165",
     "exception": false,
     "start_time": "2021-05-31T15:33:41.914147",
     "status": "completed"
    },
    "tags": []
   },
   "outputs": [
    {
     "data": {
      "text/plain": [
       "'\\ndef cvpca_loss(model, X = train_features_pca):\\n    loss = np.sqrt(-cross_val_score(model, X, train_labels, scoring=\"neg_log_loss\", cv=kf, n_jobs=-1))\\n    return (loss)\\n\\nscores = {}\\n\\nscore = cvpca_loss(cat2)\\nprint(\"rf: {:.4f} ({:.4f})\".format(score.mean(), score.std()))\\nscores[\\'rf\\'] = (score.mean(), score.std())\\n'"
      ]
     },
     "execution_count": 50,
     "metadata": {},
     "output_type": "execute_result"
    }
   ],
   "source": [
    "'''\n",
    "def cvpca_loss(model, X = train_features_pca):\n",
    "    loss = np.sqrt(-cross_val_score(model, X, train_labels, scoring=\"neg_log_loss\", cv=kf, n_jobs=-1))\n",
    "    return (loss)\n",
    "\n",
    "scores = {}\n",
    "\n",
    "score = cvpca_loss(cat2)\n",
    "print(\"rf: {:.4f} ({:.4f})\".format(score.mean(), score.std()))\n",
    "scores['rf'] = (score.mean(), score.std())\n",
    "'''"
   ]
  },
  {
   "cell_type": "markdown",
   "id": "overall-julian",
   "metadata": {
    "papermill": {
     "duration": 0.132887,
     "end_time": "2021-05-31T15:33:42.312725",
     "exception": false,
     "start_time": "2021-05-31T15:33:42.179838",
     "status": "completed"
    },
    "tags": []
   },
   "source": [
    "## Confusion Matrix\n",
    "\n",
    "The result shows that the imbalanced target data has led to prediction highly in favour of \"Class 2\", which is worth noting for insights."
   ]
  },
  {
   "cell_type": "code",
   "execution_count": 51,
   "id": "sudden-renaissance",
   "metadata": {
    "execution": {
     "iopub.execute_input": "2021-05-31T15:33:42.603179Z",
     "iopub.status.busy": "2021-05-31T15:33:42.602528Z",
     "iopub.status.idle": "2021-05-31T15:33:43.585419Z",
     "shell.execute_reply": "2021-05-31T15:33:43.586052Z",
     "shell.execute_reply.started": "2021-05-31T03:37:46.570487Z"
    },
    "papermill": {
     "duration": 1.133158,
     "end_time": "2021-05-31T15:33:43.586249",
     "exception": false,
     "start_time": "2021-05-31T15:33:42.453091",
     "status": "completed"
    },
    "tags": []
   },
   "outputs": [],
   "source": [
    "lgb_pred = lgb_model.predict(np.array(train_features))"
   ]
  },
  {
   "cell_type": "code",
   "execution_count": 52,
   "id": "vietnamese-cuisine",
   "metadata": {
    "execution": {
     "iopub.execute_input": "2021-05-31T15:33:43.931414Z",
     "iopub.status.busy": "2021-05-31T15:33:43.925825Z",
     "iopub.status.idle": "2021-05-31T15:33:43.934074Z",
     "shell.execute_reply": "2021-05-31T15:33:43.934563Z",
     "shell.execute_reply.started": "2021-05-31T03:37:47.451675Z"
    },
    "papermill": {
     "duration": 0.220066,
     "end_time": "2021-05-31T15:33:43.934734",
     "exception": false,
     "start_time": "2021-05-31T15:33:43.714668",
     "status": "completed"
    },
    "tags": []
   },
   "outputs": [
    {
     "data": {
      "text/plain": [
       "array([['Class_1', 1],\n",
       "       ['Class_2', 98053],\n",
       "       ['Class_3', 1941],\n",
       "       ['Class_4', 5]], dtype=object)"
      ]
     },
     "execution_count": 52,
     "metadata": {},
     "output_type": "execute_result"
    }
   ],
   "source": [
    "unique, counts = np.unique(lgb_pred, return_counts=True)\n",
    "np.asarray((unique, counts)).T"
   ]
  },
  {
   "cell_type": "code",
   "execution_count": 53,
   "id": "sorted-climate",
   "metadata": {
    "execution": {
     "iopub.execute_input": "2021-05-31T15:33:44.676698Z",
     "iopub.status.busy": "2021-05-31T15:33:44.194069Z",
     "iopub.status.idle": "2021-05-31T15:33:44.838635Z",
     "shell.execute_reply": "2021-05-31T15:33:44.838069Z",
     "shell.execute_reply.started": "2021-05-31T03:38:33.631099Z"
    },
    "papermill": {
     "duration": 0.777488,
     "end_time": "2021-05-31T15:33:44.838772",
     "exception": false,
     "start_time": "2021-05-31T15:33:44.061284",
     "status": "completed"
    },
    "tags": []
   },
   "outputs": [
    {
     "data": {
      "text/plain": [
       "array([[0.   , 0.978, 0.022, 0.   ],\n",
       "       [0.   , 0.993, 0.007, 0.   ],\n",
       "       [0.   , 0.948, 0.052, 0.   ],\n",
       "       [0.   , 0.983, 0.017, 0.   ]])"
      ]
     },
     "execution_count": 53,
     "metadata": {},
     "output_type": "execute_result"
    }
   ],
   "source": [
    "np.around(confusion_matrix(train_labels,lgb_pred, normalize = 'true'),3)"
   ]
  },
  {
   "cell_type": "markdown",
   "id": "ranking-cleveland",
   "metadata": {
    "papermill": {
     "duration": 0.126156,
     "end_time": "2021-05-31T15:33:45.094779",
     "exception": false,
     "start_time": "2021-05-31T15:33:44.968623",
     "status": "completed"
    },
    "tags": []
   },
   "source": [
    "# Hyperparameter Tuning"
   ]
  },
  {
   "cell_type": "markdown",
   "id": "scenic-click",
   "metadata": {
    "papermill": {
     "duration": 0.126265,
     "end_time": "2021-05-31T15:33:45.348482",
     "exception": false,
     "start_time": "2021-05-31T15:33:45.222217",
     "status": "completed"
    },
    "tags": []
   },
   "source": [
    "## Validation Curves\n",
    "\n",
    "Validation curve is most frequently used in hyperparameters tuning for its lower computation cost. Past studies have also shown that its performance is not far from the grid search if used properly."
   ]
  },
  {
   "cell_type": "code",
   "execution_count": 54,
   "id": "fatal-nirvana",
   "metadata": {
    "execution": {
     "iopub.execute_input": "2021-05-31T15:33:45.605283Z",
     "iopub.status.busy": "2021-05-31T15:33:45.604342Z",
     "iopub.status.idle": "2021-05-31T15:33:45.608517Z",
     "shell.execute_reply": "2021-05-31T15:33:45.607980Z",
     "shell.execute_reply.started": "2021-05-30T01:08:44.540925Z"
    },
    "papermill": {
     "duration": 0.135574,
     "end_time": "2021-05-31T15:33:45.608651",
     "exception": false,
     "start_time": "2021-05-31T15:33:45.473077",
     "status": "completed"
    },
    "tags": []
   },
   "outputs": [
    {
     "data": {
      "text/plain": [
       "'\\n%%time\\nnum_est = [100,200,300]\\n\\nvc_model = CatBoostClassifier(n_estimators=600,\\n                           learning_rate=0.6,\\n                           max_depth=1,\\n                           loss_function=\\'MultiClass\\',\\n                          random_state=17,\\n                          thread_count=-1,\\n                            colsample_bylevel=0.4,\\n                           # min_data_in_leaf=5,\\n                               bagging_temperature = 0.2,\\n                             sampling_frequency = \\'PerTreeLevel\\',\\n                               reg_lambda = 3,\\n                            verbose=0)\\n\\n\\n\\n# Calculate accuracy on training and test set using the\\n# parameter with 5-fold cross validation\\ntrain_score, test_score = validation_curve( vc_model,\\n                                X = train_features, y = train_labels, \\n                                param_name = \\'min_data_in_leaf\\', \\n                                param_range = num_est, cv = kf, scoring=\"neg_log_loss\", n_jobs=-1\\n                            )\\n \\n# Calculating mean and standard deviation of training score\\nmean_train_score = -np.mean(train_score, axis = 1)\\nstd_train_score = np.std(train_score, axis = 1)\\n \\n# Calculating mean and standard deviation of testing score\\nmean_test_score = -np.mean(test_score, axis = 1)\\nstd_test_score = np.std(test_score, axis = 1)\\n \\n# Plot mean accuracy scores for training and testing scores\\nplt.plot(num_est, mean_train_score,\\n     label = \"Training Score\", color = \\'b\\')\\nplt.plot(num_est, mean_test_score,\\n   label = \"Cross Validation Score\", color = \\'g\\')\\n \\n# Creating the plot\\nplt.title(\"Validation Curve\")\\nplt.xlabel(\"param\")\\nplt.ylabel(\"LogLoss\")\\nplt.tight_layout()\\nplt.legend(loc = \\'best\\')\\nplt.show()\\n'"
      ]
     },
     "execution_count": 54,
     "metadata": {},
     "output_type": "execute_result"
    }
   ],
   "source": [
    "'''\n",
    "%%time\n",
    "num_est = [100,200,300]\n",
    "\n",
    "vc_model = CatBoostClassifier(n_estimators=600,\n",
    "                           learning_rate=0.6,\n",
    "                           max_depth=1,\n",
    "                           loss_function='MultiClass',\n",
    "                          random_state=17,\n",
    "                          thread_count=-1,\n",
    "                            colsample_bylevel=0.4,\n",
    "                           # min_data_in_leaf=5,\n",
    "                               bagging_temperature = 0.2,\n",
    "                             sampling_frequency = 'PerTreeLevel',\n",
    "                               reg_lambda = 3,\n",
    "                            verbose=0)\n",
    "\n",
    "\n",
    "\n",
    "# Calculate accuracy on training and test set using the\n",
    "# parameter with 5-fold cross validation\n",
    "train_score, test_score = validation_curve( vc_model,\n",
    "                                X = train_features, y = train_labels, \n",
    "                                param_name = 'min_data_in_leaf', \n",
    "                                param_range = num_est, cv = kf, scoring=\"neg_log_loss\", n_jobs=-1\n",
    "                            )\n",
    " \n",
    "# Calculating mean and standard deviation of training score\n",
    "mean_train_score = -np.mean(train_score, axis = 1)\n",
    "std_train_score = np.std(train_score, axis = 1)\n",
    " \n",
    "# Calculating mean and standard deviation of testing score\n",
    "mean_test_score = -np.mean(test_score, axis = 1)\n",
    "std_test_score = np.std(test_score, axis = 1)\n",
    " \n",
    "# Plot mean accuracy scores for training and testing scores\n",
    "plt.plot(num_est, mean_train_score,\n",
    "     label = \"Training Score\", color = 'b')\n",
    "plt.plot(num_est, mean_test_score,\n",
    "   label = \"Cross Validation Score\", color = 'g')\n",
    " \n",
    "# Creating the plot\n",
    "plt.title(\"Validation Curve\")\n",
    "plt.xlabel(\"param\")\n",
    "plt.ylabel(\"LogLoss\")\n",
    "plt.tight_layout()\n",
    "plt.legend(loc = 'best')\n",
    "plt.show()\n",
    "'''"
   ]
  },
  {
   "cell_type": "code",
   "execution_count": 55,
   "id": "derived-european",
   "metadata": {
    "execution": {
     "iopub.execute_input": "2021-05-31T15:33:45.868166Z",
     "iopub.status.busy": "2021-05-31T15:33:45.867515Z",
     "iopub.status.idle": "2021-05-31T15:33:45.870550Z",
     "shell.execute_reply": "2021-05-31T15:33:45.871016Z",
     "shell.execute_reply.started": "2021-05-30T01:08:44.552338Z"
    },
    "papermill": {
     "duration": 0.134387,
     "end_time": "2021-05-31T15:33:45.871189",
     "exception": false,
     "start_time": "2021-05-31T15:33:45.736802",
     "status": "completed"
    },
    "tags": []
   },
   "outputs": [],
   "source": [
    "#mean_test_score"
   ]
  },
  {
   "cell_type": "markdown",
   "id": "statistical-times",
   "metadata": {
    "papermill": {
     "duration": 0.127501,
     "end_time": "2021-05-31T15:33:46.125499",
     "exception": false,
     "start_time": "2021-05-31T15:33:45.997998",
     "status": "completed"
    },
    "tags": []
   },
   "source": [
    "## Random Hyperparameter Grid\n",
    "\n",
    "The random grid is mostly used as a preliminary to narrow down the range of hyperparameters for the finer grid search."
   ]
  },
  {
   "cell_type": "code",
   "execution_count": 56,
   "id": "paperback-saturday",
   "metadata": {
    "execution": {
     "iopub.execute_input": "2021-05-31T15:33:46.382477Z",
     "iopub.status.busy": "2021-05-31T15:33:46.381804Z",
     "iopub.status.idle": "2021-05-31T15:33:46.387417Z",
     "shell.execute_reply": "2021-05-31T15:33:46.387923Z",
     "shell.execute_reply.started": "2021-05-30T01:08:44.567486Z"
    },
    "papermill": {
     "duration": 0.136511,
     "end_time": "2021-05-31T15:33:46.388124",
     "exception": false,
     "start_time": "2021-05-31T15:33:46.251613",
     "status": "completed"
    },
    "tags": []
   },
   "outputs": [
    {
     "data": {
      "text/plain": [
       "'\\n# Number of trees in random forest\\nn_estimators = [int(x) for x in np.linspace(start = 10, stop = 500, num = 10)]\\n# Number of features to consider at every split\\nmax_features = [int(x) for x in np.linspace(5, 15, num = 10)]\\nmax_features.append(\"auto\")\\n# Maximum number of levels in tree\\nmax_depth = [int(x) for x in np.linspace(2, 10, num = 5)]\\nmax_depth.append(None)\\n# Minimum number of samples required to split a node\\nmin_samples_split = 5\\n# Minimum number of samples required at each leaf node\\nmin_samples_leaf = 5\\n# Method of selecting samples for training each tree\\nbootstrap = True\\n\\n#XGB\\nlearning_rate = [0.01,0.1,0.3,0.5, 0.7,1]\\ncolsample_bytree = [0.05,0.1, 0.3, 0.5,0.7,1]\\n\\n#LGB\\nfeature_fraction = [0.1, 0.3, 0.5, 0.7, 0.9, 1]\\n\\n#CAT\\ncolsample_bylevel =[0.1, 0.3, 0.5, 0.7, 0.9, 1]\\n\\n# Create the random grid\\nrandom_grid = {\\'n_estimators\\': n_estimators,\\n               #\\'max_features\\': max_features,\\n               \\'max_depth\\': max_depth,\\n               #\\'min_samples_split\\': min_samples_split,\\n               #\\'min_samples_leaf\\': min_samples_leaf,\\n               #\\'bootstrap\\': bootstrap,\\n               \\'learning_rate\\': learning_rate,\\n               #\\'colsample_bytree\\': colsample_bytree\\n               #\\'feature_fraction\\':feature_fraction,\\n               \\'colsample_bylevel\\':colsample_bylevel\\n              }\\n'"
      ]
     },
     "execution_count": 56,
     "metadata": {},
     "output_type": "execute_result"
    }
   ],
   "source": [
    "'''\n",
    "# Number of trees in random forest\n",
    "n_estimators = [int(x) for x in np.linspace(start = 10, stop = 500, num = 10)]\n",
    "# Number of features to consider at every split\n",
    "max_features = [int(x) for x in np.linspace(5, 15, num = 10)]\n",
    "max_features.append(\"auto\")\n",
    "# Maximum number of levels in tree\n",
    "max_depth = [int(x) for x in np.linspace(2, 10, num = 5)]\n",
    "max_depth.append(None)\n",
    "# Minimum number of samples required to split a node\n",
    "min_samples_split = 5\n",
    "# Minimum number of samples required at each leaf node\n",
    "min_samples_leaf = 5\n",
    "# Method of selecting samples for training each tree\n",
    "bootstrap = True\n",
    "\n",
    "#XGB\n",
    "learning_rate = [0.01,0.1,0.3,0.5, 0.7,1]\n",
    "colsample_bytree = [0.05,0.1, 0.3, 0.5,0.7,1]\n",
    "\n",
    "#LGB\n",
    "feature_fraction = [0.1, 0.3, 0.5, 0.7, 0.9, 1]\n",
    "\n",
    "#CAT\n",
    "colsample_bylevel =[0.1, 0.3, 0.5, 0.7, 0.9, 1]\n",
    "\n",
    "# Create the random grid\n",
    "random_grid = {'n_estimators': n_estimators,\n",
    "               #'max_features': max_features,\n",
    "               'max_depth': max_depth,\n",
    "               #'min_samples_split': min_samples_split,\n",
    "               #'min_samples_leaf': min_samples_leaf,\n",
    "               #'bootstrap': bootstrap,\n",
    "               'learning_rate': learning_rate,\n",
    "               #'colsample_bytree': colsample_bytree\n",
    "               #'feature_fraction':feature_fraction,\n",
    "               'colsample_bylevel':colsample_bylevel\n",
    "              }\n",
    "'''"
   ]
  },
  {
   "cell_type": "code",
   "execution_count": 57,
   "id": "soviet-jimmy",
   "metadata": {
    "execution": {
     "iopub.execute_input": "2021-05-31T15:33:46.643622Z",
     "iopub.status.busy": "2021-05-31T15:33:46.642913Z",
     "iopub.status.idle": "2021-05-31T15:33:46.649773Z",
     "shell.execute_reply": "2021-05-31T15:33:46.649236Z",
     "shell.execute_reply.started": "2021-05-30T01:08:44.575469Z"
    },
    "papermill": {
     "duration": 0.135376,
     "end_time": "2021-05-31T15:33:46.649904",
     "exception": false,
     "start_time": "2021-05-31T15:33:46.514528",
     "status": "completed"
    },
    "tags": []
   },
   "outputs": [
    {
     "data": {
      "text/plain": [
       "\"\\n# Use the random grid to search for best hyperparameters\\n# First create the base model to tune\\nrf = CatBoostClassifier(#n_estimators=550,\\n                           #learning_rate=0.5,\\n                           #max_depth=1,\\n                           loss_function='MultiClass',\\n                          random_state=17,\\n                          thread_count=-1,\\n                            #colsample_bylevel=0.4,\\n                            min_data_in_leaf=5,\\n                            reg_lambda = 3,\\n                            subsample = 0.8,\\n                            bootstrap_type = 'Bernoulli'\\n\\n                            )\\n# Random search of parameters, using 2 fold cross validation, \\n# search across 30 different combinations, and use all available cores\\nrf_random = RandomizedSearchCV(estimator = rf, param_distributions = random_grid, n_iter = 33, cv = 3, verbose=2, random_state=42, n_jobs = -1)\\n# Fit the random search model\\nrf_random.fit(train_features, train_labels)\\n\""
      ]
     },
     "execution_count": 57,
     "metadata": {},
     "output_type": "execute_result"
    }
   ],
   "source": [
    "'''\n",
    "# Use the random grid to search for best hyperparameters\n",
    "# First create the base model to tune\n",
    "rf = CatBoostClassifier(#n_estimators=550,\n",
    "                           #learning_rate=0.5,\n",
    "                           #max_depth=1,\n",
    "                           loss_function='MultiClass',\n",
    "                          random_state=17,\n",
    "                          thread_count=-1,\n",
    "                            #colsample_bylevel=0.4,\n",
    "                            min_data_in_leaf=5,\n",
    "                            reg_lambda = 3,\n",
    "                            subsample = 0.8,\n",
    "                            bootstrap_type = 'Bernoulli'\n",
    "\n",
    "                            )\n",
    "# Random search of parameters, using 2 fold cross validation, \n",
    "# search across 30 different combinations, and use all available cores\n",
    "rf_random = RandomizedSearchCV(estimator = rf, param_distributions = random_grid, n_iter = 33, cv = 3, verbose=2, random_state=42, n_jobs = -1)\n",
    "# Fit the random search model\n",
    "rf_random.fit(train_features, train_labels)\n",
    "'''"
   ]
  },
  {
   "cell_type": "code",
   "execution_count": 58,
   "id": "allied-tokyo",
   "metadata": {
    "execution": {
     "iopub.execute_input": "2021-05-31T15:33:46.907901Z",
     "iopub.status.busy": "2021-05-31T15:33:46.907257Z",
     "iopub.status.idle": "2021-05-31T15:33:46.910109Z",
     "shell.execute_reply": "2021-05-31T15:33:46.910659Z",
     "shell.execute_reply.started": "2021-05-30T01:08:44.58713Z"
    },
    "papermill": {
     "duration": 0.133964,
     "end_time": "2021-05-31T15:33:46.910823",
     "exception": false,
     "start_time": "2021-05-31T15:33:46.776859",
     "status": "completed"
    },
    "tags": []
   },
   "outputs": [],
   "source": [
    "#rf_random.best_params_"
   ]
  },
  {
   "cell_type": "markdown",
   "id": "strong-taxation",
   "metadata": {
    "papermill": {
     "duration": 0.129371,
     "end_time": "2021-05-31T15:33:47.168354",
     "exception": false,
     "start_time": "2021-05-31T15:33:47.038983",
     "status": "completed"
    },
    "tags": []
   },
   "source": [
    "## Grid Search"
   ]
  },
  {
   "cell_type": "code",
   "execution_count": 59,
   "id": "knowing-division",
   "metadata": {
    "execution": {
     "iopub.execute_input": "2021-05-31T15:33:47.426552Z",
     "iopub.status.busy": "2021-05-31T15:33:47.425918Z",
     "iopub.status.idle": "2021-05-31T15:33:47.432037Z",
     "shell.execute_reply": "2021-05-31T15:33:47.431556Z",
     "shell.execute_reply.started": "2021-05-30T01:08:44.596615Z"
    },
    "papermill": {
     "duration": 0.136084,
     "end_time": "2021-05-31T15:33:47.432171",
     "exception": false,
     "start_time": "2021-05-31T15:33:47.296087",
     "status": "completed"
    },
    "tags": []
   },
   "outputs": [
    {
     "data": {
      "text/plain": [
       "\"\\n# Create the parameter grid based on the results of random search \\nparam_grid = {\\n    #'max_depth': [5,7],\\n    'n_estimators': [220,240,260],\\n    #'learning_rate':[0.1,0.3,0.5],\\n    #'feature_fraction':[0.1,0.3],\\n    #'num_leaves':[2,6,10],\\n    #'bagging_fraction':[0.4,0.6,0.8],\\n    #'bagging_freq':[6,8,10],\\n    #'max_bin':[10,15,25],\\n    #'colsample_bylevel':[0.05,0.1,0.3],\\n    'min_data_in_leaf':[3,5,7],\\n    'reg_lambda':[1,3,5],\\n    'subsample':[0.6,0.8,1]\\n    \\n}\\n# Create a based model\\nrf = XGBClassifier(n_estimators=100,\\n                        learning_rate = 0.5,\\n                        colsample_bytree = 0.4,\\n                       max_depth = 6,\\n                        min_child_weight=5,\\n                       gamma=0.001,\\n                       subsample=0.7,\\n                       objective='multi:softprob',\\n                       nthread=-1,\\n                       scale_pos_weight=1,\\n                       reg_alpha=0.00006,\\n                       random_state=42)\\n)\\n\\n# Instantiate the grid search model\\ngrid_search = GridSearchCV(estimator = rf, param_grid = param_grid, \\n                          cv = 3, n_jobs = -1, verbose = 2)\\n\""
      ]
     },
     "execution_count": 59,
     "metadata": {},
     "output_type": "execute_result"
    }
   ],
   "source": [
    "'''\n",
    "# Create the parameter grid based on the results of random search \n",
    "param_grid = {\n",
    "    #'max_depth': [5,7],\n",
    "    'n_estimators': [220,240,260],\n",
    "    #'learning_rate':[0.1,0.3,0.5],\n",
    "    #'feature_fraction':[0.1,0.3],\n",
    "    #'num_leaves':[2,6,10],\n",
    "    #'bagging_fraction':[0.4,0.6,0.8],\n",
    "    #'bagging_freq':[6,8,10],\n",
    "    #'max_bin':[10,15,25],\n",
    "    #'colsample_bylevel':[0.05,0.1,0.3],\n",
    "    'min_data_in_leaf':[3,5,7],\n",
    "    'reg_lambda':[1,3,5],\n",
    "    'subsample':[0.6,0.8,1]\n",
    "    \n",
    "}\n",
    "# Create a based model\n",
    "rf = XGBClassifier(n_estimators=100,\n",
    "                        learning_rate = 0.5,\n",
    "                        colsample_bytree = 0.4,\n",
    "                       max_depth = 6,\n",
    "                        min_child_weight=5,\n",
    "                       gamma=0.001,\n",
    "                       subsample=0.7,\n",
    "                       objective='multi:softprob',\n",
    "                       nthread=-1,\n",
    "                       scale_pos_weight=1,\n",
    "                       reg_alpha=0.00006,\n",
    "                       random_state=42)\n",
    ")\n",
    "\n",
    "# Instantiate the grid search model\n",
    "grid_search = GridSearchCV(estimator = rf, param_grid = param_grid, \n",
    "                          cv = 3, n_jobs = -1, verbose = 2)\n",
    "'''"
   ]
  },
  {
   "cell_type": "code",
   "execution_count": 60,
   "id": "indian-calculator",
   "metadata": {
    "execution": {
     "iopub.execute_input": "2021-05-31T15:33:47.698362Z",
     "iopub.status.busy": "2021-05-31T15:33:47.697500Z",
     "iopub.status.idle": "2021-05-31T15:33:47.701352Z",
     "shell.execute_reply": "2021-05-31T15:33:47.701829Z",
     "shell.execute_reply.started": "2021-05-30T01:08:44.607571Z"
    },
    "papermill": {
     "duration": 0.139676,
     "end_time": "2021-05-31T15:33:47.702000",
     "exception": false,
     "start_time": "2021-05-31T15:33:47.562324",
     "status": "completed"
    },
    "tags": []
   },
   "outputs": [
    {
     "data": {
      "text/plain": [
       "'\\n# Fit the grid search to the data\\ngrid_search.fit(train_features, train_labels)\\n#best_grid = \\ngrid_search.best_estimator_\\n'"
      ]
     },
     "execution_count": 60,
     "metadata": {},
     "output_type": "execute_result"
    }
   ],
   "source": [
    "'''\n",
    "# Fit the grid search to the data\n",
    "grid_search.fit(train_features, train_labels)\n",
    "#best_grid = \n",
    "grid_search.best_estimator_\n",
    "'''"
   ]
  },
  {
   "cell_type": "code",
   "execution_count": 61,
   "id": "prime-insider",
   "metadata": {
    "execution": {
     "iopub.execute_input": "2021-05-31T15:33:47.964255Z",
     "iopub.status.busy": "2021-05-31T15:33:47.963287Z",
     "iopub.status.idle": "2021-05-31T15:33:47.965846Z",
     "shell.execute_reply": "2021-05-31T15:33:47.966345Z",
     "shell.execute_reply.started": "2021-05-30T01:08:44.620198Z"
    },
    "papermill": {
     "duration": 0.136521,
     "end_time": "2021-05-31T15:33:47.966531",
     "exception": false,
     "start_time": "2021-05-31T15:33:47.830010",
     "status": "completed"
    },
    "tags": []
   },
   "outputs": [],
   "source": [
    "#grid_search.best_params_"
   ]
  },
  {
   "cell_type": "markdown",
   "id": "suited-liquid",
   "metadata": {
    "papermill": {
     "duration": 0.12837,
     "end_time": "2021-05-31T15:33:48.226680",
     "exception": false,
     "start_time": "2021-05-31T15:33:48.098310",
     "status": "completed"
    },
    "tags": []
   },
   "source": [
    "## Tuning for meta-model"
   ]
  },
  {
   "cell_type": "code",
   "execution_count": 62,
   "id": "roman-suspension",
   "metadata": {
    "execution": {
     "iopub.execute_input": "2021-05-31T15:33:48.491558Z",
     "iopub.status.busy": "2021-05-31T15:33:48.490561Z",
     "iopub.status.idle": "2021-05-31T15:33:48.493758Z",
     "shell.execute_reply": "2021-05-31T15:33:48.493139Z",
     "shell.execute_reply.started": "2021-05-30T01:08:44.627699Z"
    },
    "papermill": {
     "duration": 0.136158,
     "end_time": "2021-05-31T15:33:48.493895",
     "exception": false,
     "start_time": "2021-05-31T15:33:48.357737",
     "status": "completed"
    },
    "tags": []
   },
   "outputs": [],
   "source": [
    "#stack_gen.get_params().keys()"
   ]
  },
  {
   "cell_type": "code",
   "execution_count": 63,
   "id": "functional-ribbon",
   "metadata": {
    "execution": {
     "iopub.execute_input": "2021-05-31T15:33:48.760948Z",
     "iopub.status.busy": "2021-05-31T15:33:48.759948Z",
     "iopub.status.idle": "2021-05-31T15:33:48.764308Z",
     "shell.execute_reply": "2021-05-31T15:33:48.764829Z"
    },
    "papermill": {
     "duration": 0.141266,
     "end_time": "2021-05-31T15:33:48.765008",
     "exception": false,
     "start_time": "2021-05-31T15:33:48.623742",
     "status": "completed"
    },
    "tags": []
   },
   "outputs": [
    {
     "data": {
      "text/plain": [
       "'\\n%%time\\nnum_est = [0.08,0.1,0.12]\\n\\nvc_model = LGBMClassifier(objective=\\'multiclass\\', \\n                       num_leaves=5,\\n                    min_data_in_leaf=19, \\n                    max_depth=4,\\n                      learning_rate=0.1, \\n                     n_estimators=180, \\n                       max_bin=20, \\n                      bagging_fraction=0.8,\\n                       bagging_freq=4, \\n                       bagging_seed=8,\\n                      feature_fraction=0.1, \\n                       feature_fraction_seed=8,\\n                          lambda_l1 = 7,\\n                           lambda_l2 = 0.1,\\n                           min_gain_to_split = 0.01,\\n                           metric = \\'multi_logloss\\',\\n                            verbose=-1,\\n                       random_state=17,\\n                   n_jobs=-1)\\n                       \\nstack_gen_vc = StackingCVClassifier(classifiers = (xgb5, lgb7, cat5),\\n                                meta_classifier = vc_model,\\n                                 use_probas= True,\\n                                use_features_in_secondary= True, \\n                                 verbose=2,\\n                                 n_jobs=-1,\\n                                random_state=17,\\n                                   stratify = True)\\n\\n\\n# Calculate accuracy on training and test set using the\\n# parameter with 3-fold cross validation\\ntrain_score, test_score = validation_curve( stack_gen_vc,\\n                                X = train_features, y = train_labels, \\n                                param_name = \\'meta_classifier__learning_rate\\', \\n                                param_range = num_est, cv = kf, scoring=\"neg_log_loss\", n_jobs=-1\\n                            )\\n \\n# Calculating mean and standard deviation of training score\\nmean_train_score = -np.mean(train_score, axis = 1)\\nstd_train_score = np.std(train_score, axis = 1)\\n \\n# Calculating mean and standard deviation of testing score\\nmean_test_score = -np.mean(test_score, axis = 1)\\nstd_test_score = np.std(test_score, axis = 1)\\n \\n# Plot mean accuracy scores for training and testing scores\\nplt.plot(num_est, mean_train_score,\\n     label = \"Training Score\", color = \\'b\\')\\nplt.plot(num_est, mean_test_score,\\n   label = \"Cross Validation Score\", color = \\'g\\')\\n \\n# Creating the plot\\nplt.title(\"Validation Curve\")\\nplt.xlabel(\"param\")\\nplt.ylabel(\"LogLoss\")\\nplt.tight_layout()\\nplt.legend(loc = \\'best\\')\\nplt.show()\\n'"
      ]
     },
     "execution_count": 63,
     "metadata": {},
     "output_type": "execute_result"
    }
   ],
   "source": [
    "'''\n",
    "%%time\n",
    "num_est = [0.08,0.1,0.12]\n",
    "\n",
    "vc_model = LGBMClassifier(objective='multiclass', \n",
    "                       num_leaves=5,\n",
    "                    min_data_in_leaf=19, \n",
    "                    max_depth=4,\n",
    "                      learning_rate=0.1, \n",
    "                     n_estimators=180, \n",
    "                       max_bin=20, \n",
    "                      bagging_fraction=0.8,\n",
    "                       bagging_freq=4, \n",
    "                       bagging_seed=8,\n",
    "                      feature_fraction=0.1, \n",
    "                       feature_fraction_seed=8,\n",
    "                          lambda_l1 = 7,\n",
    "                           lambda_l2 = 0.1,\n",
    "                           min_gain_to_split = 0.01,\n",
    "                           metric = 'multi_logloss',\n",
    "                            verbose=-1,\n",
    "                       random_state=17,\n",
    "                   n_jobs=-1)\n",
    "                       \n",
    "stack_gen_vc = StackingCVClassifier(classifiers = (xgb5, lgb7, cat5),\n",
    "                                meta_classifier = vc_model,\n",
    "                                 use_probas= True,\n",
    "                                use_features_in_secondary= True, \n",
    "                                 verbose=2,\n",
    "                                 n_jobs=-1,\n",
    "                                random_state=17,\n",
    "                                   stratify = True)\n",
    "\n",
    "\n",
    "# Calculate accuracy on training and test set using the\n",
    "# parameter with 3-fold cross validation\n",
    "train_score, test_score = validation_curve( stack_gen_vc,\n",
    "                                X = train_features, y = train_labels, \n",
    "                                param_name = 'meta_classifier__learning_rate', \n",
    "                                param_range = num_est, cv = kf, scoring=\"neg_log_loss\", n_jobs=-1\n",
    "                            )\n",
    " \n",
    "# Calculating mean and standard deviation of training score\n",
    "mean_train_score = -np.mean(train_score, axis = 1)\n",
    "std_train_score = np.std(train_score, axis = 1)\n",
    " \n",
    "# Calculating mean and standard deviation of testing score\n",
    "mean_test_score = -np.mean(test_score, axis = 1)\n",
    "std_test_score = np.std(test_score, axis = 1)\n",
    " \n",
    "# Plot mean accuracy scores for training and testing scores\n",
    "plt.plot(num_est, mean_train_score,\n",
    "     label = \"Training Score\", color = 'b')\n",
    "plt.plot(num_est, mean_test_score,\n",
    "   label = \"Cross Validation Score\", color = 'g')\n",
    " \n",
    "# Creating the plot\n",
    "plt.title(\"Validation Curve\")\n",
    "plt.xlabel(\"param\")\n",
    "plt.ylabel(\"LogLoss\")\n",
    "plt.tight_layout()\n",
    "plt.legend(loc = 'best')\n",
    "plt.show()\n",
    "'''"
   ]
  },
  {
   "cell_type": "code",
   "execution_count": 64,
   "id": "unauthorized-tattoo",
   "metadata": {
    "execution": {
     "iopub.execute_input": "2021-05-31T15:33:49.029906Z",
     "iopub.status.busy": "2021-05-31T15:33:49.029245Z",
     "iopub.status.idle": "2021-05-31T15:33:49.032515Z",
     "shell.execute_reply": "2021-05-31T15:33:49.031948Z"
    },
    "papermill": {
     "duration": 0.13708,
     "end_time": "2021-05-31T15:33:49.032660",
     "exception": false,
     "start_time": "2021-05-31T15:33:48.895580",
     "status": "completed"
    },
    "tags": []
   },
   "outputs": [],
   "source": [
    "#mean_test_score"
   ]
  },
  {
   "cell_type": "markdown",
   "id": "racial-database",
   "metadata": {
    "papermill": {
     "duration": 0.131156,
     "end_time": "2021-05-31T15:33:49.302124",
     "exception": false,
     "start_time": "2021-05-31T15:33:49.170968",
     "status": "completed"
    },
    "tags": []
   },
   "source": [
    "# Submission"
   ]
  },
  {
   "cell_type": "code",
   "execution_count": 65,
   "id": "medium-porter",
   "metadata": {
    "execution": {
     "iopub.execute_input": "2021-05-31T15:33:49.569142Z",
     "iopub.status.busy": "2021-05-31T15:33:49.568510Z",
     "iopub.status.idle": "2021-05-31T15:33:49.636048Z",
     "shell.execute_reply": "2021-05-31T15:33:49.636572Z",
     "shell.execute_reply.started": "2021-05-23T06:59:03.653162Z"
    },
    "papermill": {
     "duration": 0.20521,
     "end_time": "2021-05-31T15:33:49.636738",
     "exception": false,
     "start_time": "2021-05-31T15:33:49.431528",
     "status": "completed"
    },
    "tags": []
   },
   "outputs": [
    {
     "data": {
      "text/html": [
       "<div>\n",
       "<style scoped>\n",
       "    .dataframe tbody tr th:only-of-type {\n",
       "        vertical-align: middle;\n",
       "    }\n",
       "\n",
       "    .dataframe tbody tr th {\n",
       "        vertical-align: top;\n",
       "    }\n",
       "\n",
       "    .dataframe thead th {\n",
       "        text-align: right;\n",
       "    }\n",
       "</style>\n",
       "<table border=\"1\" class=\"dataframe\">\n",
       "  <thead>\n",
       "    <tr style=\"text-align: right;\">\n",
       "      <th></th>\n",
       "      <th>id</th>\n",
       "      <th>Class_1</th>\n",
       "      <th>Class_2</th>\n",
       "      <th>Class_3</th>\n",
       "      <th>Class_4</th>\n",
       "    </tr>\n",
       "  </thead>\n",
       "  <tbody>\n",
       "    <tr>\n",
       "      <th>0</th>\n",
       "      <td>100000</td>\n",
       "      <td>0.082202</td>\n",
       "      <td>0.655201</td>\n",
       "      <td>0.145633</td>\n",
       "      <td>0.116964</td>\n",
       "    </tr>\n",
       "    <tr>\n",
       "      <th>1</th>\n",
       "      <td>100001</td>\n",
       "      <td>0.086846</td>\n",
       "      <td>0.698642</td>\n",
       "      <td>0.127814</td>\n",
       "      <td>0.086698</td>\n",
       "    </tr>\n",
       "    <tr>\n",
       "      <th>2</th>\n",
       "      <td>100002</td>\n",
       "      <td>0.089371</td>\n",
       "      <td>0.658271</td>\n",
       "      <td>0.155964</td>\n",
       "      <td>0.096394</td>\n",
       "    </tr>\n",
       "    <tr>\n",
       "      <th>3</th>\n",
       "      <td>100003</td>\n",
       "      <td>0.086888</td>\n",
       "      <td>0.538407</td>\n",
       "      <td>0.288786</td>\n",
       "      <td>0.085919</td>\n",
       "    </tr>\n",
       "    <tr>\n",
       "      <th>4</th>\n",
       "      <td>100004</td>\n",
       "      <td>0.080277</td>\n",
       "      <td>0.638500</td>\n",
       "      <td>0.157221</td>\n",
       "      <td>0.124002</td>\n",
       "    </tr>\n",
       "  </tbody>\n",
       "</table>\n",
       "</div>"
      ],
      "text/plain": [
       "       id   Class_1   Class_2   Class_3   Class_4\n",
       "0  100000  0.082202  0.655201  0.145633  0.116964\n",
       "1  100001  0.086846  0.698642  0.127814  0.086698\n",
       "2  100002  0.089371  0.658271  0.155964  0.096394\n",
       "3  100003  0.086888  0.538407  0.288786  0.085919\n",
       "4  100004  0.080277  0.638500  0.157221  0.124002"
      ]
     },
     "execution_count": 65,
     "metadata": {},
     "output_type": "execute_result"
    }
   ],
   "source": [
    "\n",
    "# Read in sample_submission dataframe\n",
    "submission[['Class_1', 'Class_2', 'Class_3', 'Class_4']] = stack11_pred\n",
    "submission.head()\n"
   ]
  },
  {
   "cell_type": "code",
   "execution_count": 66,
   "id": "angry-serial",
   "metadata": {
    "execution": {
     "iopub.execute_input": "2021-05-31T15:33:49.901515Z",
     "iopub.status.busy": "2021-05-31T15:33:49.900289Z",
     "iopub.status.idle": "2021-05-31T15:33:50.374030Z",
     "shell.execute_reply": "2021-05-31T15:33:50.373263Z",
     "shell.execute_reply.started": "2021-05-23T06:59:03.667388Z"
    },
    "papermill": {
     "duration": 0.606846,
     "end_time": "2021-05-31T15:33:50.374175",
     "exception": false,
     "start_time": "2021-05-31T15:33:49.767329",
     "status": "completed"
    },
    "tags": []
   },
   "outputs": [],
   "source": [
    "submission.to_csv(\"submission_stack11.csv\", index=False)"
   ]
  },
  {
   "cell_type": "markdown",
   "id": "sharing-electric",
   "metadata": {
    "papermill": {
     "duration": 0.127377,
     "end_time": "2021-05-31T15:33:50.630070",
     "exception": false,
     "start_time": "2021-05-31T15:33:50.502693",
     "status": "completed"
    },
    "tags": []
   },
   "source": [
    "## Performance Log"
   ]
  },
  {
   "cell_type": "code",
   "execution_count": 67,
   "id": "elegant-municipality",
   "metadata": {
    "execution": {
     "iopub.execute_input": "2021-05-31T15:33:50.906022Z",
     "iopub.status.busy": "2021-05-31T15:33:50.900193Z",
     "iopub.status.idle": "2021-05-31T15:33:50.910713Z",
     "shell.execute_reply": "2021-05-31T15:33:50.910071Z",
     "shell.execute_reply.started": "2021-05-23T06:59:03.680009Z"
    },
    "papermill": {
     "duration": 0.153268,
     "end_time": "2021-05-31T15:33:50.910849",
     "exception": false,
     "start_time": "2021-05-31T15:33:50.757581",
     "status": "completed"
    },
    "tags": []
   },
   "outputs": [
    {
     "data": {
      "text/plain": [
       "'\\nPerformance\\n# CV scores have taken square root by careless setting, but would not affect the comparison of results.\\n\\nBasic rf (n=100)\\nCV 1.0633 (0.0022)\\npublic 1.12521\\n\\nFeatured rf (n=100)\\nCV 1.0643 (0.0024)\\npublic 1.12140\\n\\nTuned rf\\nCV 1.0506 (0.0005)\\npublic 1.09957\\n\\nTuned rf with criterion = \"entropy\"\\nCV 1.0501 (0.0007)\\npublic 1.09912\\n\\nBasic xgb\\npublic 1.09495\\n\\nTuned xgb\\nCV 1.0473 (0.0007)\\npublic 1.08944\\n\\nTuned2 xgb\\nCV 1.0453 (0.0006)\\npublic 1.08896\\n\\nTuned3 xgb\\nCV 1.0455 (0.0005)\\npublic 1.08767\\n\\nTuned4 xgb\\nCV 1.0453 (0.0007)\\npublic 1.08834\\n\\nTuned5 xgb\\nCV 1.0445 (0.0007)\\npublic 1.08785\\n\\nBasic lgb\\nCV 1.0470 (0.0006)\\npublic 1.09036\\n\\nTuned lgb\\nCV 1.0454 (0.0007)\\npublic 1.08871\\n\\nTuned2 lgb\\nCV 1.0459 (0.0007)\\npublic 1.08916\\n\\nTuned3 lgb\\nCV 1.0455 (0.0007)\\npublic 1.08872\\n\\nTuned4 lgb\\nCV 1.0452 (0.0007)\\npublic 1.08789\\n\\nTuned5 lgb\\nCV 1.0447 (0.0006)\\npublic 1.08785\\n\\nTuned6 lgb\\nCV 1.0447 (0.0006)\\npublic 1.08790\\n\\nTuned7 lgb\\nCV 1.0441 (0.0008)\\npublic 1.08723\\n\\nBasic ext\\nCV 1.0643 (0.0011)\\npublic 1.12962\\n\\nTuned ext\\nCV 1.0550 (0.0004)\\npublic 1.10729\\n\\nTuned2 ext\\nCV 1.0536 (0.0005)\\npublic 1.10495\\n\\nBasic cat\\nCV 1.0516 (0.0009)\\npublic 1.10367\\n\\nTuned cat\\nCV 1.0450 (0.0008)\\npublic 1.09039\\n\\nTuned2 cat\\nCV 1.0449 (0.0007)\\npublic 1.09092\\n\\nTuned3 cat\\nCV 1.0456 (0.0006)\\npublic 1.09146\\n\\nTuned4 cat\\nCV 1.0448 (0.0009)\\npublic 1.09089\\n\\nTuned5 cat\\nCV 1.0446 (0.0007)\\npublic 1.09073\\n\\nStacking (rf, xgb, lgb, ext)>lgb\\nCV 1.0455 (0.0007)\\npublic 1.08811\\n\\nStacking1 (xgb, lgb, cat)>lgb\\nCV 1.0450 (0.0008)\\npublic 1.08605\\n\\nStacking2 (xgb2, lgb, cat)>cat\\nCV 1.0448 (0.0008)\\npublic 1.08766\\n\\nStacking3 (xgb2, lgb, cat)>xgb2\\nCV 1.0458 (0.0008)\\npublic 1.08729\\n\\nStacking4 (xgb2, lgb, cat2)>cat\\nCV 1.0447 (0.0007)\\npublic 1.08679\\n\\nStacking5 (xgb2, lgb, cat2)>cats5\\nCV 1.0443 (0.0008)\\npublic 1.08685\\n\\nStacking6 (xgb, lgb, cat)>lgbs6\\nCV 1.0443 (0.0007)\\npublic 1.08604\\n\\nStacking7 (xgb3, lgb3, cat)>lgbs7\\nCV 1.0443 (0.0008)\\npublic 1.08641\\n\\nStacking8 (xgb2, lgb, cat2)>lgbs8\\nCV 1.0444 (0.0007)\\npublic 1.08592\\n\\nStacking9 (xgb4, lgb5, cat4)>lgbs9\\nCV 1.0439 (0.0008)\\npublic 1.08613\\n\\nStacking10 (Stacking9 with no features input to meta model)\\nCV 1.0440 (0.0007)\\npublic 1.08674\\n\\nStacking11 (xgb5, lgb7, cat5)>lgbs11\\nCV 1.0436 (0.0008)\\npublic 1.08627\\n\\n\\nrf = RandomForestClassifier(min_samples_split = 5,\\n                            min_samples_leaf = 5,\\n                            max_depth = None,\\n                            bootstrap = True,\\n                            n_jobs=-1,\\n                            criterion = \"entropy\",\\n                            n_estimators=500,\\n                            max_features = 12,\\n                            random_state = 42)\\n\\nxgb1 = XGBClassifier(learning_rate = 0.1,\\n                        colsample_bytree = 0.5,\\n                        max_depth = 10,\\n                        min_child_weight=5,\\n                       gamma=0.001,\\n                       subsample=0.9,\\n                       objective=\\'multi:softprob\\',\\n                       nthread=-1,\\n                       scale_pos_weight=1,\\n                       reg_alpha=0.00006,\\n                       random_state=42)\\n                       \\nxgb2 = XGBClassifier(n_estimators=110,\\n                        learning_rate = 0.5,\\n                        colsample_bytree = 0.13,\\n                       max_depth = 2,\\n                        min_child_weight=5,\\n                       gamma=0.001,\\n                       subsample=0.7,\\n                       objective=\\'multi:softprob\\',\\n                       nthread=-1,\\n                       scale_pos_weight=1,\\n                       reg_alpha=0.00006,\\n                       random_state=42)\\n                       \\n                       \\nxgb3 = XGBClassifier(n_estimators=250,\\n                        learning_rate = 0.06,\\n                        colsample_bytree = 0.4,\\n                       max_depth = 6,\\n                        min_child_weight=5,\\n                       subsample=0.75,\\n                       objective=\\'multi:softprob\\',\\n                       nthread=-1,\\n                       random_state=42)\\n\\nxgb4 = XGBClassifier(n_estimators=130, \\n                        learning_rate = 0.5,\\n                        colsample_bytree = 0.13,\\n                        max_depth = 2,\\n                        min_child_weight=7, \\n                       gamma=0.001,\\n                       subsample=0.7,\\n                       objective=\\'multi:softprob\\',\\n                       nthread=-1,\\n                       reg_alpha=0.00006,\\n                       random_state=42)\\n\\nxgb5 = XGBClassifier( n_estimators=200,\\n                        learning_rate = 0.5,\\n                       colsample_bytree = 0.1,\\n                       max_depth = 2,\\n                        min_child_weight=5,\\n                      gamma=0.005,\\n                       subsample=0.7,\\n                       objective=\\'multi:softprob\\',\\n                       nthread=-1,\\n                       scale_pos_weight=1,\\n                       reg_alpha=5,\\n                         reg_lambda = 0.3,\\n                         eval_metric = \\'mlogloss\\',\\n                       random_state=42)\\n                       \\nlgb = LGBMClassifier(objective=\\'multiclass\\', \\n                       num_leaves=6,\\n                    max_depth=6,\\n                       learning_rate=0.1, \\n                       n_estimators=220,\\n                       max_bin=200, \\n                       bagging_fraction=0.8,\\n                       bagging_freq=4, \\n                       bagging_seed=8,\\n                       feature_fraction=0.7,\\n                       feature_fraction_seed=8,\\n                            verbose=-1,\\n                       random_state=17,\\n                   n_jobs=-1)\\n                   \\nlgb2 = LGBMClassifier(objective=\\'multiclass\\', \\n                       num_leaves=2,\\n                    max_depth=1,\\n                       learning_rate=0.5, \\n                       n_estimators=550,\\n                      max_bin=25, \\n                       bagging_fraction=0.6,\\n                       bagging_freq=8, \\n                       bagging_seed=8,\\n                      feature_fraction=0.3,\\n                       feature_fraction_seed=8,\\n                            verbose=-1,\\n                       random_state=17,\\n                   n_jobs=-1)\\n                   \\nlgb3 =  LGBMClassifier(objective=\\'multiclass\\', \\n                      min_data_in_leaf=7, \\n                    max_depth=4,\\n                       learning_rate=0.066, \\n                       n_estimators=200,\\n                       bagging_fraction=0.75,\\n                       bagging_freq=4, \\n                       bagging_seed=8,\\n                       feature_fraction=0.3,\\n                       feature_fraction_seed=8,\\n                            verbose=-1,\\n                       random_state=17,\\n                   n_jobs=-1)\\n\\nlgb4 = LGBMClassifier(objective=\\'multiclass\\', \\n                       num_leaves=6,\\n                    max_depth=6,\\n                       learning_rate=0.1, \\n                       n_estimators=250, \\n                       max_bin=200, \\n                       bagging_fraction=0.8,\\n                       bagging_freq=4, \\n                       bagging_seed=8,\\n                       feature_fraction=0.5,\\n                       feature_fraction_seed=8,\\n                            verbose=-1,\\n                       random_state=17,\\n                   n_jobs=-1)\\n\\nlgb5 = LGBMClassifier(objective=\\'multiclass\\', \\n                       num_leaves=6,\\n                    min_data_in_leaf=19, \\n                    max_depth=6,\\n                       learning_rate=0.1, \\n                      n_estimators=310, \\n                       max_bin=80, \\n                      bagging_fraction=0.8,\\n                       bagging_freq=4, \\n                       bagging_seed=8,\\n                       feature_fraction=0.1, \\n                       feature_fraction_seed=8,\\n                            verbose=-1,\\n                       random_state=17,\\n                   n_jobs=-1)\\n\\nlgb6 = LGBMClassifier(objective=\\'multiclass\\', \\n                       num_leaves=6,\\n                    min_data_in_leaf=19, \\n                    max_depth=5,\\n                      learning_rate=0.1, \\n                      n_estimators=310, \\n                       max_bin=20, \\n                      bagging_fraction=0.8,\\n                       bagging_freq=4, \\n                       bagging_seed=8,\\n                      feature_fraction=0.1, \\n                       feature_fraction_seed=8,\\n                           lambda_l2 = 0.003,\\n                           min_gain_to_split = 0.0001,\\n                           metric = \\'multi_logloss\\',\\n                            verbose=-1,\\n                       random_state=17,\\n                   n_jobs=-1)\\n\\nlgb7 = LGBMClassifier(objective=\\'multiclass\\', \\n                       num_leaves=6,\\n                    min_data_in_leaf=19, \\n                    max_depth=5,\\n                      learning_rate=0.1, \\n                     n_estimators=500, \\n                       max_bin=20, \\n                      bagging_fraction=0.8,\\n                       bagging_freq=4, \\n                       bagging_seed=8,\\n                      feature_fraction=0.1, \\n                       feature_fraction_seed=8,\\n                          lambda_l1 = 9,\\n                           lambda_l2 = 0.003,\\n                           min_gain_to_split = 0.0001,\\n                           metric = \\'multi_logloss\\',\\n                            verbose=-1,\\n                       random_state=17,\\n                   n_jobs=-1)\\n\\n                   \\next = ExtraTreesClassifier(  min_samples_split = 5,\\n                            min_samples_leaf = 5,\\n                            max_depth = 15,\\n                            bootstrap = True,\\n                            n_jobs=-1,\\n                            n_estimators=10,\\n                            max_features = 20,\\n                            random_state = 42,\\n                            criterion = \\'entropy\\')\\n                            \\n\\ncat = CatBoostClassifier(n_estimators=500,\\n                           learning_rate=0.3,\\n                           max_depth=2,\\n                           loss_function=\\'MultiClass\\',\\n                          random_state=17,\\n                          thread_count=-1,\\n                            colsample_bylevel=0.5,\\n                            min_data_in_leaf=5,\\n                            verbose=0)\\n                            \\n                            \\ncat2 = CatBoostClassifier(n_estimators=550,\\n                           learning_rate=0.5,\\n                           max_depth=1,\\n                           loss_function=\\'MultiClass\\',\\n                          random_state=17,\\n                          thread_count=-1,\\n                            colsample_bylevel=0.4,\\n                            min_data_in_leaf=5,\\n                            verbose=0)\\n                            \\n                            \\ncat3 =   CatBoostClassifier(n_estimators=250,\\n                           learning_rate=0.1,\\n                           max_depth=6,\\n                           loss_function=\\'MultiClass\\',\\n                          random_state=17,\\n                          thread_count=-1,\\n                            colsample_bylevel=0.4,\\n                            min_data_in_leaf=3,\\n                            verbose=0)\\n\\ncat4 = CatBoostClassifier(n_estimators=600,\\n                           learning_rate=0.6,\\n                           max_depth=1,\\n                           loss_function=\\'MultiClass\\',\\n                          random_state=17,\\n                          thread_count=-1,\\n                            colsample_bylevel=0.4,\\n                            min_data_in_leaf=5,\\n                            verbose=0)\\n\\ncat5 = CatBoostClassifier(n_estimators=600,\\n                           learning_rate=0.6,\\n                           max_depth=1,\\n                           loss_function=\\'MultiClass\\',\\n                          random_state=17,\\n                          thread_count=-1,\\n                            colsample_bylevel=0.4,\\n                            min_data_in_leaf=5,\\n                               bagging_temperature = 0.2,\\n                             sampling_frequency = \\'PerTreeLevel\\',\\n                               reg_lambda = 3,\\n                            verbose=0)\\n\\n\\ncats5 = CatBoostClassifier(n_estimators=450, \\n                           learning_rate=0.1, \\n                           max_depth=1,\\n                           loss_function=\\'MultiClass\\',\\n                          random_state=17,\\n                          thread_count=-1,\\n                            colsample_bylevel=0.5,\\n                            min_data_in_leaf=5,\\n                            verbose=0)\\n                            \\n                            \\nlgbs6 = LGBMClassifier(objective=\\'multiclass\\', \\n                       num_leaves=6,\\n                    max_depth=6,\\n                       learning_rate=0.03, \\n                       n_estimators=160, \\n                       max_bin=200, \\n                       bagging_fraction=0.8,\\n                       bagging_freq=4, \\n                       bagging_seed=8,\\n                       feature_fraction=0.7,\\n                       feature_fraction_seed=8,\\n                            verbose=-1,\\n                       random_state=17,\\n                   n_jobs=-1)\\n                   \\n                   \\nlgbs7 = LGBMClassifier(objective=\\'multiclass\\', \\n                      min_data_in_leaf=7, \\n                    max_depth=4,\\n                       learning_rate=0.05, \\n                       n_estimators=100,\\n                       bagging_fraction=1,\\n                       bagging_freq=4, \\n                       bagging_seed=8,\\n                       feature_fraction=0.3,\\n                       feature_fraction_seed=8,\\n                            verbose=-1,\\n                       random_state=17,\\n                   n_jobs=-1)\\n                   \\nlgbs8 = LGBMClassifier(objective=\\'multiclass\\', \\n                     min_data_in_leaf=3, \\n                    max_depth=4,\\n                       learning_rate=0.05, \\n                       n_estimators=100,\\n                       bagging_fraction=0.75,\\n                       bagging_freq=4, \\n                       bagging_seed=8,\\n                       feature_fraction=0.3,\\n                       feature_fraction_seed=8,\\n                            verbose=-1,\\n                       random_state=17,\\n                   n_jobs=-1)\\n                   \\nlgbs9 =  LGBMClassifier(objective=\\'multiclass\\', \\n                       num_leaves=6,\\n                   min_data_in_leaf=23, \\n                    max_depth=3,\\n                       learning_rate=0.05, \\n                    n_estimators=270, \\n                      max_bin=60, \\n                    bagging_fraction=0.7, \\n                       bagging_freq=4, \\n                       bagging_seed=8,\\n                       feature_fraction=0.1, \\n                       feature_fraction_seed=8,\\n                            verbose=-1,\\n                       random_state=17,\\n                   n_jobs=-1)\\n                   \\nlgbs10 = LGBMClassifier(objective=\\'multiclass\\', \\n                       num_leaves=4,\\n                  min_data_in_leaf=400, \\n                    max_depth=1, \\n                     learning_rate=0.05, \\n                   n_estimators=270, \\n                      max_bin=60, \\n                    bagging_fraction=0.5, \\n                       bagging_freq=4, \\n                       bagging_seed=8,\\n                       feature_fraction=0.15, \\n                       feature_fraction_seed=8,\\n                            verbose=-1,\\n                       random_state=17,\\n                   n_jobs=-1)\\n                   \\nlgbs11 = LGBMClassifier(objective=\\'multiclass\\', \\n                       num_leaves=5,\\n                    min_data_in_leaf=19, \\n                    max_depth=4,\\n                      learning_rate=0.1, \\n                     n_estimators=180, \\n                       max_bin=20, \\n                      bagging_fraction=0.8,\\n                       bagging_freq=4, \\n                       bagging_seed=8,\\n                      feature_fraction=0.1, \\n                       feature_fraction_seed=8,\\n                          lambda_l1 = 7,\\n                           lambda_l2 = 0.1,\\n                           min_gain_to_split = 0.01,\\n                           metric = \\'multi_logloss\\',\\n                            verbose=-1,\\n                       random_state=17,\\n                   n_jobs=-1)\\n\\n'"
      ]
     },
     "execution_count": 67,
     "metadata": {},
     "output_type": "execute_result"
    }
   ],
   "source": [
    "'''\n",
    "Performance\n",
    "# CV scores have taken square root by careless setting, but would not affect the comparison of results.\n",
    "\n",
    "Basic rf (n=100)\n",
    "CV 1.0633 (0.0022)\n",
    "public 1.12521\n",
    "\n",
    "Featured rf (n=100)\n",
    "CV 1.0643 (0.0024)\n",
    "public 1.12140\n",
    "\n",
    "Tuned rf\n",
    "CV 1.0506 (0.0005)\n",
    "public 1.09957\n",
    "\n",
    "Tuned rf with criterion = \"entropy\"\n",
    "CV 1.0501 (0.0007)\n",
    "public 1.09912\n",
    "\n",
    "Basic xgb\n",
    "public 1.09495\n",
    "\n",
    "Tuned xgb\n",
    "CV 1.0473 (0.0007)\n",
    "public 1.08944\n",
    "\n",
    "Tuned2 xgb\n",
    "CV 1.0453 (0.0006)\n",
    "public 1.08896\n",
    "\n",
    "Tuned3 xgb\n",
    "CV 1.0455 (0.0005)\n",
    "public 1.08767\n",
    "\n",
    "Tuned4 xgb\n",
    "CV 1.0453 (0.0007)\n",
    "public 1.08834\n",
    "\n",
    "Tuned5 xgb\n",
    "CV 1.0445 (0.0007)\n",
    "public 1.08785\n",
    "\n",
    "Basic lgb\n",
    "CV 1.0470 (0.0006)\n",
    "public 1.09036\n",
    "\n",
    "Tuned lgb\n",
    "CV 1.0454 (0.0007)\n",
    "public 1.08871\n",
    "\n",
    "Tuned2 lgb\n",
    "CV 1.0459 (0.0007)\n",
    "public 1.08916\n",
    "\n",
    "Tuned3 lgb\n",
    "CV 1.0455 (0.0007)\n",
    "public 1.08872\n",
    "\n",
    "Tuned4 lgb\n",
    "CV 1.0452 (0.0007)\n",
    "public 1.08789\n",
    "\n",
    "Tuned5 lgb\n",
    "CV 1.0447 (0.0006)\n",
    "public 1.08785\n",
    "\n",
    "Tuned6 lgb\n",
    "CV 1.0447 (0.0006)\n",
    "public 1.08790\n",
    "\n",
    "Tuned7 lgb\n",
    "CV 1.0441 (0.0008)\n",
    "public 1.08723\n",
    "\n",
    "Basic ext\n",
    "CV 1.0643 (0.0011)\n",
    "public 1.12962\n",
    "\n",
    "Tuned ext\n",
    "CV 1.0550 (0.0004)\n",
    "public 1.10729\n",
    "\n",
    "Tuned2 ext\n",
    "CV 1.0536 (0.0005)\n",
    "public 1.10495\n",
    "\n",
    "Basic cat\n",
    "CV 1.0516 (0.0009)\n",
    "public 1.10367\n",
    "\n",
    "Tuned cat\n",
    "CV 1.0450 (0.0008)\n",
    "public 1.09039\n",
    "\n",
    "Tuned2 cat\n",
    "CV 1.0449 (0.0007)\n",
    "public 1.09092\n",
    "\n",
    "Tuned3 cat\n",
    "CV 1.0456 (0.0006)\n",
    "public 1.09146\n",
    "\n",
    "Tuned4 cat\n",
    "CV 1.0448 (0.0009)\n",
    "public 1.09089\n",
    "\n",
    "Tuned5 cat\n",
    "CV 1.0446 (0.0007)\n",
    "public 1.09073\n",
    "\n",
    "Stacking (rf, xgb, lgb, ext)>lgb\n",
    "CV 1.0455 (0.0007)\n",
    "public 1.08811\n",
    "\n",
    "Stacking1 (xgb, lgb, cat)>lgb\n",
    "CV 1.0450 (0.0008)\n",
    "public 1.08605\n",
    "\n",
    "Stacking2 (xgb2, lgb, cat)>cat\n",
    "CV 1.0448 (0.0008)\n",
    "public 1.08766\n",
    "\n",
    "Stacking3 (xgb2, lgb, cat)>xgb2\n",
    "CV 1.0458 (0.0008)\n",
    "public 1.08729\n",
    "\n",
    "Stacking4 (xgb2, lgb, cat2)>cat\n",
    "CV 1.0447 (0.0007)\n",
    "public 1.08679\n",
    "\n",
    "Stacking5 (xgb2, lgb, cat2)>cats5\n",
    "CV 1.0443 (0.0008)\n",
    "public 1.08685\n",
    "\n",
    "Stacking6 (xgb, lgb, cat)>lgbs6\n",
    "CV 1.0443 (0.0007)\n",
    "public 1.08604\n",
    "\n",
    "Stacking7 (xgb3, lgb3, cat)>lgbs7\n",
    "CV 1.0443 (0.0008)\n",
    "public 1.08641\n",
    "\n",
    "Stacking8 (xgb2, lgb, cat2)>lgbs8\n",
    "CV 1.0444 (0.0007)\n",
    "public 1.08592\n",
    "\n",
    "Stacking9 (xgb4, lgb5, cat4)>lgbs9\n",
    "CV 1.0439 (0.0008)\n",
    "public 1.08613\n",
    "\n",
    "Stacking10 (Stacking9 with no features input to meta model)\n",
    "CV 1.0440 (0.0007)\n",
    "public 1.08674\n",
    "\n",
    "Stacking11 (xgb5, lgb7, cat5)>lgbs11\n",
    "CV 1.0436 (0.0008)\n",
    "public 1.08627\n",
    "\n",
    "\n",
    "rf = RandomForestClassifier(min_samples_split = 5,\n",
    "                            min_samples_leaf = 5,\n",
    "                            max_depth = None,\n",
    "                            bootstrap = True,\n",
    "                            n_jobs=-1,\n",
    "                            criterion = \"entropy\",\n",
    "                            n_estimators=500,\n",
    "                            max_features = 12,\n",
    "                            random_state = 42)\n",
    "\n",
    "xgb1 = XGBClassifier(learning_rate = 0.1,\n",
    "                        colsample_bytree = 0.5,\n",
    "                        max_depth = 10,\n",
    "                        min_child_weight=5,\n",
    "                       gamma=0.001,\n",
    "                       subsample=0.9,\n",
    "                       objective='multi:softprob',\n",
    "                       nthread=-1,\n",
    "                       scale_pos_weight=1,\n",
    "                       reg_alpha=0.00006,\n",
    "                       random_state=42)\n",
    "                       \n",
    "xgb2 = XGBClassifier(n_estimators=110,\n",
    "                        learning_rate = 0.5,\n",
    "                        colsample_bytree = 0.13,\n",
    "                       max_depth = 2,\n",
    "                        min_child_weight=5,\n",
    "                       gamma=0.001,\n",
    "                       subsample=0.7,\n",
    "                       objective='multi:softprob',\n",
    "                       nthread=-1,\n",
    "                       scale_pos_weight=1,\n",
    "                       reg_alpha=0.00006,\n",
    "                       random_state=42)\n",
    "                       \n",
    "                       \n",
    "xgb3 = XGBClassifier(n_estimators=250,\n",
    "                        learning_rate = 0.06,\n",
    "                        colsample_bytree = 0.4,\n",
    "                       max_depth = 6,\n",
    "                        min_child_weight=5,\n",
    "                       subsample=0.75,\n",
    "                       objective='multi:softprob',\n",
    "                       nthread=-1,\n",
    "                       random_state=42)\n",
    "\n",
    "xgb4 = XGBClassifier(n_estimators=130, \n",
    "                        learning_rate = 0.5,\n",
    "                        colsample_bytree = 0.13,\n",
    "                        max_depth = 2,\n",
    "                        min_child_weight=7, \n",
    "                       gamma=0.001,\n",
    "                       subsample=0.7,\n",
    "                       objective='multi:softprob',\n",
    "                       nthread=-1,\n",
    "                       reg_alpha=0.00006,\n",
    "                       random_state=42)\n",
    "\n",
    "xgb5 = XGBClassifier( n_estimators=200,\n",
    "                        learning_rate = 0.5,\n",
    "                       colsample_bytree = 0.1,\n",
    "                       max_depth = 2,\n",
    "                        min_child_weight=5,\n",
    "                      gamma=0.005,\n",
    "                       subsample=0.7,\n",
    "                       objective='multi:softprob',\n",
    "                       nthread=-1,\n",
    "                       scale_pos_weight=1,\n",
    "                       reg_alpha=5,\n",
    "                         reg_lambda = 0.3,\n",
    "                         eval_metric = 'mlogloss',\n",
    "                       random_state=42)\n",
    "                       \n",
    "lgb = LGBMClassifier(objective='multiclass', \n",
    "                       num_leaves=6,\n",
    "                    max_depth=6,\n",
    "                       learning_rate=0.1, \n",
    "                       n_estimators=220,\n",
    "                       max_bin=200, \n",
    "                       bagging_fraction=0.8,\n",
    "                       bagging_freq=4, \n",
    "                       bagging_seed=8,\n",
    "                       feature_fraction=0.7,\n",
    "                       feature_fraction_seed=8,\n",
    "                            verbose=-1,\n",
    "                       random_state=17,\n",
    "                   n_jobs=-1)\n",
    "                   \n",
    "lgb2 = LGBMClassifier(objective='multiclass', \n",
    "                       num_leaves=2,\n",
    "                    max_depth=1,\n",
    "                       learning_rate=0.5, \n",
    "                       n_estimators=550,\n",
    "                      max_bin=25, \n",
    "                       bagging_fraction=0.6,\n",
    "                       bagging_freq=8, \n",
    "                       bagging_seed=8,\n",
    "                      feature_fraction=0.3,\n",
    "                       feature_fraction_seed=8,\n",
    "                            verbose=-1,\n",
    "                       random_state=17,\n",
    "                   n_jobs=-1)\n",
    "                   \n",
    "lgb3 =  LGBMClassifier(objective='multiclass', \n",
    "                      min_data_in_leaf=7, \n",
    "                    max_depth=4,\n",
    "                       learning_rate=0.066, \n",
    "                       n_estimators=200,\n",
    "                       bagging_fraction=0.75,\n",
    "                       bagging_freq=4, \n",
    "                       bagging_seed=8,\n",
    "                       feature_fraction=0.3,\n",
    "                       feature_fraction_seed=8,\n",
    "                            verbose=-1,\n",
    "                       random_state=17,\n",
    "                   n_jobs=-1)\n",
    "\n",
    "lgb4 = LGBMClassifier(objective='multiclass', \n",
    "                       num_leaves=6,\n",
    "                    max_depth=6,\n",
    "                       learning_rate=0.1, \n",
    "                       n_estimators=250, \n",
    "                       max_bin=200, \n",
    "                       bagging_fraction=0.8,\n",
    "                       bagging_freq=4, \n",
    "                       bagging_seed=8,\n",
    "                       feature_fraction=0.5,\n",
    "                       feature_fraction_seed=8,\n",
    "                            verbose=-1,\n",
    "                       random_state=17,\n",
    "                   n_jobs=-1)\n",
    "\n",
    "lgb5 = LGBMClassifier(objective='multiclass', \n",
    "                       num_leaves=6,\n",
    "                    min_data_in_leaf=19, \n",
    "                    max_depth=6,\n",
    "                       learning_rate=0.1, \n",
    "                      n_estimators=310, \n",
    "                       max_bin=80, \n",
    "                      bagging_fraction=0.8,\n",
    "                       bagging_freq=4, \n",
    "                       bagging_seed=8,\n",
    "                       feature_fraction=0.1, \n",
    "                       feature_fraction_seed=8,\n",
    "                            verbose=-1,\n",
    "                       random_state=17,\n",
    "                   n_jobs=-1)\n",
    "\n",
    "lgb6 = LGBMClassifier(objective='multiclass', \n",
    "                       num_leaves=6,\n",
    "                    min_data_in_leaf=19, \n",
    "                    max_depth=5,\n",
    "                      learning_rate=0.1, \n",
    "                      n_estimators=310, \n",
    "                       max_bin=20, \n",
    "                      bagging_fraction=0.8,\n",
    "                       bagging_freq=4, \n",
    "                       bagging_seed=8,\n",
    "                      feature_fraction=0.1, \n",
    "                       feature_fraction_seed=8,\n",
    "                           lambda_l2 = 0.003,\n",
    "                           min_gain_to_split = 0.0001,\n",
    "                           metric = 'multi_logloss',\n",
    "                            verbose=-1,\n",
    "                       random_state=17,\n",
    "                   n_jobs=-1)\n",
    "\n",
    "lgb7 = LGBMClassifier(objective='multiclass', \n",
    "                       num_leaves=6,\n",
    "                    min_data_in_leaf=19, \n",
    "                    max_depth=5,\n",
    "                      learning_rate=0.1, \n",
    "                     n_estimators=500, \n",
    "                       max_bin=20, \n",
    "                      bagging_fraction=0.8,\n",
    "                       bagging_freq=4, \n",
    "                       bagging_seed=8,\n",
    "                      feature_fraction=0.1, \n",
    "                       feature_fraction_seed=8,\n",
    "                          lambda_l1 = 9,\n",
    "                           lambda_l2 = 0.003,\n",
    "                           min_gain_to_split = 0.0001,\n",
    "                           metric = 'multi_logloss',\n",
    "                            verbose=-1,\n",
    "                       random_state=17,\n",
    "                   n_jobs=-1)\n",
    "\n",
    "                   \n",
    "ext = ExtraTreesClassifier(  min_samples_split = 5,\n",
    "                            min_samples_leaf = 5,\n",
    "                            max_depth = 15,\n",
    "                            bootstrap = True,\n",
    "                            n_jobs=-1,\n",
    "                            n_estimators=10,\n",
    "                            max_features = 20,\n",
    "                            random_state = 42,\n",
    "                            criterion = 'entropy')\n",
    "                            \n",
    "\n",
    "cat = CatBoostClassifier(n_estimators=500,\n",
    "                           learning_rate=0.3,\n",
    "                           max_depth=2,\n",
    "                           loss_function='MultiClass',\n",
    "                          random_state=17,\n",
    "                          thread_count=-1,\n",
    "                            colsample_bylevel=0.5,\n",
    "                            min_data_in_leaf=5,\n",
    "                            verbose=0)\n",
    "                            \n",
    "                            \n",
    "cat2 = CatBoostClassifier(n_estimators=550,\n",
    "                           learning_rate=0.5,\n",
    "                           max_depth=1,\n",
    "                           loss_function='MultiClass',\n",
    "                          random_state=17,\n",
    "                          thread_count=-1,\n",
    "                            colsample_bylevel=0.4,\n",
    "                            min_data_in_leaf=5,\n",
    "                            verbose=0)\n",
    "                            \n",
    "                            \n",
    "cat3 =   CatBoostClassifier(n_estimators=250,\n",
    "                           learning_rate=0.1,\n",
    "                           max_depth=6,\n",
    "                           loss_function='MultiClass',\n",
    "                          random_state=17,\n",
    "                          thread_count=-1,\n",
    "                            colsample_bylevel=0.4,\n",
    "                            min_data_in_leaf=3,\n",
    "                            verbose=0)\n",
    "\n",
    "cat4 = CatBoostClassifier(n_estimators=600,\n",
    "                           learning_rate=0.6,\n",
    "                           max_depth=1,\n",
    "                           loss_function='MultiClass',\n",
    "                          random_state=17,\n",
    "                          thread_count=-1,\n",
    "                            colsample_bylevel=0.4,\n",
    "                            min_data_in_leaf=5,\n",
    "                            verbose=0)\n",
    "\n",
    "cat5 = CatBoostClassifier(n_estimators=600,\n",
    "                           learning_rate=0.6,\n",
    "                           max_depth=1,\n",
    "                           loss_function='MultiClass',\n",
    "                          random_state=17,\n",
    "                          thread_count=-1,\n",
    "                            colsample_bylevel=0.4,\n",
    "                            min_data_in_leaf=5,\n",
    "                               bagging_temperature = 0.2,\n",
    "                             sampling_frequency = 'PerTreeLevel',\n",
    "                               reg_lambda = 3,\n",
    "                            verbose=0)\n",
    "\n",
    "\n",
    "cats5 = CatBoostClassifier(n_estimators=450, \n",
    "                           learning_rate=0.1, \n",
    "                           max_depth=1,\n",
    "                           loss_function='MultiClass',\n",
    "                          random_state=17,\n",
    "                          thread_count=-1,\n",
    "                            colsample_bylevel=0.5,\n",
    "                            min_data_in_leaf=5,\n",
    "                            verbose=0)\n",
    "                            \n",
    "                            \n",
    "lgbs6 = LGBMClassifier(objective='multiclass', \n",
    "                       num_leaves=6,\n",
    "                    max_depth=6,\n",
    "                       learning_rate=0.03, \n",
    "                       n_estimators=160, \n",
    "                       max_bin=200, \n",
    "                       bagging_fraction=0.8,\n",
    "                       bagging_freq=4, \n",
    "                       bagging_seed=8,\n",
    "                       feature_fraction=0.7,\n",
    "                       feature_fraction_seed=8,\n",
    "                            verbose=-1,\n",
    "                       random_state=17,\n",
    "                   n_jobs=-1)\n",
    "                   \n",
    "                   \n",
    "lgbs7 = LGBMClassifier(objective='multiclass', \n",
    "                      min_data_in_leaf=7, \n",
    "                    max_depth=4,\n",
    "                       learning_rate=0.05, \n",
    "                       n_estimators=100,\n",
    "                       bagging_fraction=1,\n",
    "                       bagging_freq=4, \n",
    "                       bagging_seed=8,\n",
    "                       feature_fraction=0.3,\n",
    "                       feature_fraction_seed=8,\n",
    "                            verbose=-1,\n",
    "                       random_state=17,\n",
    "                   n_jobs=-1)\n",
    "                   \n",
    "lgbs8 = LGBMClassifier(objective='multiclass', \n",
    "                     min_data_in_leaf=3, \n",
    "                    max_depth=4,\n",
    "                       learning_rate=0.05, \n",
    "                       n_estimators=100,\n",
    "                       bagging_fraction=0.75,\n",
    "                       bagging_freq=4, \n",
    "                       bagging_seed=8,\n",
    "                       feature_fraction=0.3,\n",
    "                       feature_fraction_seed=8,\n",
    "                            verbose=-1,\n",
    "                       random_state=17,\n",
    "                   n_jobs=-1)\n",
    "                   \n",
    "lgbs9 =  LGBMClassifier(objective='multiclass', \n",
    "                       num_leaves=6,\n",
    "                   min_data_in_leaf=23, \n",
    "                    max_depth=3,\n",
    "                       learning_rate=0.05, \n",
    "                    n_estimators=270, \n",
    "                      max_bin=60, \n",
    "                    bagging_fraction=0.7, \n",
    "                       bagging_freq=4, \n",
    "                       bagging_seed=8,\n",
    "                       feature_fraction=0.1, \n",
    "                       feature_fraction_seed=8,\n",
    "                            verbose=-1,\n",
    "                       random_state=17,\n",
    "                   n_jobs=-1)\n",
    "                   \n",
    "lgbs10 = LGBMClassifier(objective='multiclass', \n",
    "                       num_leaves=4,\n",
    "                  min_data_in_leaf=400, \n",
    "                    max_depth=1, \n",
    "                     learning_rate=0.05, \n",
    "                   n_estimators=270, \n",
    "                      max_bin=60, \n",
    "                    bagging_fraction=0.5, \n",
    "                       bagging_freq=4, \n",
    "                       bagging_seed=8,\n",
    "                       feature_fraction=0.15, \n",
    "                       feature_fraction_seed=8,\n",
    "                            verbose=-1,\n",
    "                       random_state=17,\n",
    "                   n_jobs=-1)\n",
    "                   \n",
    "lgbs11 = LGBMClassifier(objective='multiclass', \n",
    "                       num_leaves=5,\n",
    "                    min_data_in_leaf=19, \n",
    "                    max_depth=4,\n",
    "                      learning_rate=0.1, \n",
    "                     n_estimators=180, \n",
    "                       max_bin=20, \n",
    "                      bagging_fraction=0.8,\n",
    "                       bagging_freq=4, \n",
    "                       bagging_seed=8,\n",
    "                      feature_fraction=0.1, \n",
    "                       feature_fraction_seed=8,\n",
    "                          lambda_l1 = 7,\n",
    "                           lambda_l2 = 0.1,\n",
    "                           min_gain_to_split = 0.01,\n",
    "                           metric = 'multi_logloss',\n",
    "                            verbose=-1,\n",
    "                       random_state=17,\n",
    "                   n_jobs=-1)\n",
    "\n",
    "'''"
   ]
  },
  {
   "cell_type": "markdown",
   "id": "accessible-monster",
   "metadata": {
    "papermill": {
     "duration": 0.131234,
     "end_time": "2021-05-31T15:33:51.172803",
     "exception": false,
     "start_time": "2021-05-31T15:33:51.041569",
     "status": "completed"
    },
    "tags": []
   },
   "source": [
    "# Additional: Class 2 pre-modelling"
   ]
  },
  {
   "cell_type": "markdown",
   "id": "anticipated-silicon",
   "metadata": {
    "papermill": {
     "duration": 0.130184,
     "end_time": "2021-05-31T15:33:51.436903",
     "exception": false,
     "start_time": "2021-05-31T15:33:51.306719",
     "status": "completed"
    },
    "tags": []
   },
   "source": [
    "Try to do modelling in sequence that first trained on separating \"Class 2\" from others, and then classify Class 1, 3, 4 in the remaining block. Result not satisfactory."
   ]
  },
  {
   "cell_type": "code",
   "execution_count": 68,
   "id": "senior-building",
   "metadata": {
    "execution": {
     "iopub.execute_input": "2021-05-31T15:33:51.699661Z",
     "iopub.status.busy": "2021-05-31T15:33:51.698406Z",
     "iopub.status.idle": "2021-05-31T15:33:51.704019Z",
     "shell.execute_reply": "2021-05-31T15:33:51.704553Z",
     "shell.execute_reply.started": "2021-05-23T06:59:03.700177Z"
    },
    "papermill": {
     "duration": 0.139352,
     "end_time": "2021-05-31T15:33:51.704739",
     "exception": false,
     "start_time": "2021-05-31T15:33:51.565387",
     "status": "completed"
    },
    "tags": []
   },
   "outputs": [
    {
     "data": {
      "text/plain": [
       "\"\\n# Split features and labels\\ntrain2_labels = train_labels.apply(lambda x: 'Class_2'  if x == 'Class_2' else 'Others')\\ntrain2_features = train_features\\ntrain2_labels.unique()\\n\""
      ]
     },
     "execution_count": 68,
     "metadata": {},
     "output_type": "execute_result"
    }
   ],
   "source": [
    "'''\n",
    "# Split features and labels\n",
    "train2_labels = train_labels.apply(lambda x: 'Class_2'  if x == 'Class_2' else 'Others')\n",
    "train2_features = train_features\n",
    "train2_labels.unique()\n",
    "'''"
   ]
  },
  {
   "cell_type": "code",
   "execution_count": 69,
   "id": "addressed-modification",
   "metadata": {
    "execution": {
     "iopub.execute_input": "2021-05-31T15:33:51.980644Z",
     "iopub.status.busy": "2021-05-31T15:33:51.979960Z",
     "iopub.status.idle": "2021-05-31T15:33:51.984782Z",
     "shell.execute_reply": "2021-05-31T15:33:51.985360Z",
     "shell.execute_reply.started": "2021-05-23T06:59:03.717061Z"
    },
    "papermill": {
     "duration": 0.139747,
     "end_time": "2021-05-31T15:33:51.985546",
     "exception": false,
     "start_time": "2021-05-31T15:33:51.845799",
     "status": "completed"
    },
    "tags": []
   },
   "outputs": [
    {
     "data": {
      "text/plain": [
       "\"\\ntrain134_labels = train.loc[train['target']!='Class_2']['target'].reset_index(drop=True)\\ntrain134_features = train.loc[train['target']!='Class_2'].drop(['id','target'], axis=1).reset_index(drop=True)\\ntrain134_labels.unique()\\n\""
      ]
     },
     "execution_count": 69,
     "metadata": {},
     "output_type": "execute_result"
    }
   ],
   "source": [
    "'''\n",
    "train134_labels = train.loc[train['target']!='Class_2']['target'].reset_index(drop=True)\n",
    "train134_features = train.loc[train['target']!='Class_2'].drop(['id','target'], axis=1).reset_index(drop=True)\n",
    "train134_labels.unique()\n",
    "'''"
   ]
  },
  {
   "cell_type": "code",
   "execution_count": 70,
   "id": "driven-danger",
   "metadata": {
    "execution": {
     "iopub.execute_input": "2021-05-31T15:33:52.247535Z",
     "iopub.status.busy": "2021-05-31T15:33:52.246859Z",
     "iopub.status.idle": "2021-05-31T15:33:52.251618Z",
     "shell.execute_reply": "2021-05-31T15:33:52.252171Z",
     "shell.execute_reply.started": "2021-05-23T06:59:03.729054Z"
    },
    "papermill": {
     "duration": 0.136279,
     "end_time": "2021-05-31T15:33:52.252334",
     "exception": false,
     "start_time": "2021-05-31T15:33:52.116055",
     "status": "completed"
    },
    "tags": []
   },
   "outputs": [
    {
     "data": {
      "text/plain": [
       "\"\\n# Light Gradient Boosting Regressor\\nlgbp2 =  LGBMClassifier(objective='binary', \\n                      min_data_in_leaf=3, \\n                    max_depth=4,\\n                      learning_rate=0.066, \\n                       n_estimators=250,\\n                       bagging_fraction=0.75,\\n                       bagging_freq=4, \\n                       bagging_seed=8,\\n                       feature_fraction=0.3,\\n                       feature_fraction_seed=8,\\n                            verbose=-1,\\n                       random_state=17,\\n                   n_jobs=-1)\\n\\n#lgbp2_model = lgbp2.fit(train2_features, train2_labels)\\n#lgbp2_pred = lgbp2_model.predict_proba(test_features)\\n\\n\""
      ]
     },
     "execution_count": 70,
     "metadata": {},
     "output_type": "execute_result"
    }
   ],
   "source": [
    "'''\n",
    "# Light Gradient Boosting Regressor\n",
    "lgbp2 =  LGBMClassifier(objective='binary', \n",
    "                      min_data_in_leaf=3, \n",
    "                    max_depth=4,\n",
    "                      learning_rate=0.066, \n",
    "                       n_estimators=250,\n",
    "                       bagging_fraction=0.75,\n",
    "                       bagging_freq=4, \n",
    "                       bagging_seed=8,\n",
    "                       feature_fraction=0.3,\n",
    "                       feature_fraction_seed=8,\n",
    "                            verbose=-1,\n",
    "                       random_state=17,\n",
    "                   n_jobs=-1)\n",
    "\n",
    "#lgbp2_model = lgbp2.fit(train2_features, train2_labels)\n",
    "#lgbp2_pred = lgbp2_model.predict_proba(test_features)\n",
    "\n",
    "'''"
   ]
  },
  {
   "cell_type": "code",
   "execution_count": 71,
   "id": "crucial-multimedia",
   "metadata": {
    "execution": {
     "iopub.execute_input": "2021-05-31T15:33:52.521108Z",
     "iopub.status.busy": "2021-05-31T15:33:52.520172Z",
     "iopub.status.idle": "2021-05-31T15:33:52.526832Z",
     "shell.execute_reply": "2021-05-31T15:33:52.527503Z",
     "shell.execute_reply.started": "2021-05-23T06:59:03.747946Z"
    },
    "papermill": {
     "duration": 0.143407,
     "end_time": "2021-05-31T15:33:52.527701",
     "exception": false,
     "start_time": "2021-05-31T15:33:52.384294",
     "status": "completed"
    },
    "tags": []
   },
   "outputs": [
    {
     "data": {
      "text/plain": [
       "\"\\n# Light Gradient Boosting Regressor\\nlgbp134 =  LGBMClassifier(objective='multiclass', \\n                      min_data_in_leaf=3, \\n                    max_depth=4,\\n                      learning_rate=0.1, \\n                       n_estimators=100,\\n                       bagging_fraction=0.75,\\n                       bagging_freq=4, \\n                       bagging_seed=8,\\n                      feature_fraction=0.4,\\n                       feature_fraction_seed=8,\\n                            verbose=-1,\\n                       random_state=17,\\n                   n_jobs=-1)\\n\\n\\n#lgbp134_model = lgbp134.fit(train134_features, train134_labels)\\n#lgbp134_pred = lgbp134_model.predict_proba(test_features)\\n\""
      ]
     },
     "execution_count": 71,
     "metadata": {},
     "output_type": "execute_result"
    }
   ],
   "source": [
    "'''\n",
    "# Light Gradient Boosting Regressor\n",
    "lgbp134 =  LGBMClassifier(objective='multiclass', \n",
    "                      min_data_in_leaf=3, \n",
    "                    max_depth=4,\n",
    "                      learning_rate=0.1, \n",
    "                       n_estimators=100,\n",
    "                       bagging_fraction=0.75,\n",
    "                       bagging_freq=4, \n",
    "                       bagging_seed=8,\n",
    "                      feature_fraction=0.4,\n",
    "                       feature_fraction_seed=8,\n",
    "                            verbose=-1,\n",
    "                       random_state=17,\n",
    "                   n_jobs=-1)\n",
    "\n",
    "\n",
    "#lgbp134_model = lgbp134.fit(train134_features, train134_labels)\n",
    "#lgbp134_pred = lgbp134_model.predict_proba(test_features)\n",
    "'''"
   ]
  },
  {
   "cell_type": "code",
   "execution_count": 72,
   "id": "junior-waterproof",
   "metadata": {
    "execution": {
     "iopub.execute_input": "2021-05-31T15:33:52.793954Z",
     "iopub.status.busy": "2021-05-31T15:33:52.793284Z",
     "iopub.status.idle": "2021-05-31T15:33:52.798923Z",
     "shell.execute_reply": "2021-05-31T15:33:52.799491Z",
     "shell.execute_reply.started": "2021-05-23T06:59:03.761237Z"
    },
    "papermill": {
     "duration": 0.13919,
     "end_time": "2021-05-31T15:33:52.799657",
     "exception": false,
     "start_time": "2021-05-31T15:33:52.660467",
     "status": "completed"
    },
    "tags": []
   },
   "outputs": [
    {
     "data": {
      "text/plain": [
       "'\\n%%time\\nnum_est = [0.3,0.4,0.5]\\n\\nvc_model = LGBMClassifier(objective=\\'multiclass\\', \\n                      min_data_in_leaf=3, \\n                    max_depth=4,\\n                      learning_rate=0.1, \\n                       n_estimators=100,\\n                       bagging_fraction=0.75,\\n                       bagging_freq=4, \\n                       bagging_seed=8,\\n                      feature_fraction=0.4,\\n                       feature_fraction_seed=8,\\n                            verbose=-1,\\n                       random_state=17,\\n                   n_jobs=-1)\\n\\n\\n# Calculate accuracy on training and test set using the\\n# parameter with 3-fold cross validation\\ntrain_score, test_score = validation_curve( vc_model,\\n                                X = train134_features, y = train134_labels, \\n                                param_name = \\'feature_fraction\\', \\n                                param_range = num_est, cv = 2, scoring=\"neg_log_loss\", n_jobs=-1\\n                            )\\n \\n# Calculating mean and standard deviation of training score\\nmean_train_score = -np.mean(train_score, axis = 1)\\nstd_train_score = np.std(train_score, axis = 1)\\n \\n# Calculating mean and standard deviation of testing score\\nmean_test_score = -np.mean(test_score, axis = 1)\\nstd_test_score = np.std(test_score, axis = 1)\\n \\n# Plot mean accuracy scores for training and testing scores\\nplt.plot(num_est, mean_train_score,\\n     label = \"Training Score\", color = \\'b\\')\\nplt.plot(num_est, mean_test_score,\\n   label = \"Cross Validation Score\", color = \\'g\\')\\n \\n# Creating the plot\\nplt.title(\"Validation Curve\")\\nplt.xlabel(\"param\")\\nplt.ylabel(\"LogLoss\")\\nplt.tight_layout()\\nplt.legend(loc = \\'best\\')\\nplt.show()\\n'"
      ]
     },
     "execution_count": 72,
     "metadata": {},
     "output_type": "execute_result"
    }
   ],
   "source": [
    "'''\n",
    "%%time\n",
    "num_est = [0.3,0.4,0.5]\n",
    "\n",
    "vc_model = LGBMClassifier(objective='multiclass', \n",
    "                      min_data_in_leaf=3, \n",
    "                    max_depth=4,\n",
    "                      learning_rate=0.1, \n",
    "                       n_estimators=100,\n",
    "                       bagging_fraction=0.75,\n",
    "                       bagging_freq=4, \n",
    "                       bagging_seed=8,\n",
    "                      feature_fraction=0.4,\n",
    "                       feature_fraction_seed=8,\n",
    "                            verbose=-1,\n",
    "                       random_state=17,\n",
    "                   n_jobs=-1)\n",
    "\n",
    "\n",
    "# Calculate accuracy on training and test set using the\n",
    "# parameter with 3-fold cross validation\n",
    "train_score, test_score = validation_curve( vc_model,\n",
    "                                X = train134_features, y = train134_labels, \n",
    "                                param_name = 'feature_fraction', \n",
    "                                param_range = num_est, cv = 2, scoring=\"neg_log_loss\", n_jobs=-1\n",
    "                            )\n",
    " \n",
    "# Calculating mean and standard deviation of training score\n",
    "mean_train_score = -np.mean(train_score, axis = 1)\n",
    "std_train_score = np.std(train_score, axis = 1)\n",
    " \n",
    "# Calculating mean and standard deviation of testing score\n",
    "mean_test_score = -np.mean(test_score, axis = 1)\n",
    "std_test_score = np.std(test_score, axis = 1)\n",
    " \n",
    "# Plot mean accuracy scores for training and testing scores\n",
    "plt.plot(num_est, mean_train_score,\n",
    "     label = \"Training Score\", color = 'b')\n",
    "plt.plot(num_est, mean_test_score,\n",
    "   label = \"Cross Validation Score\", color = 'g')\n",
    " \n",
    "# Creating the plot\n",
    "plt.title(\"Validation Curve\")\n",
    "plt.xlabel(\"param\")\n",
    "plt.ylabel(\"LogLoss\")\n",
    "plt.tight_layout()\n",
    "plt.legend(loc = 'best')\n",
    "plt.show()\n",
    "'''"
   ]
  },
  {
   "cell_type": "code",
   "execution_count": 73,
   "id": "potential-illness",
   "metadata": {
    "execution": {
     "iopub.execute_input": "2021-05-31T15:33:53.061904Z",
     "iopub.status.busy": "2021-05-31T15:33:53.061293Z",
     "iopub.status.idle": "2021-05-31T15:33:53.065490Z",
     "shell.execute_reply": "2021-05-31T15:33:53.064991Z",
     "shell.execute_reply.started": "2021-05-23T06:59:03.776185Z"
    },
    "papermill": {
     "duration": 0.136975,
     "end_time": "2021-05-31T15:33:53.065627",
     "exception": false,
     "start_time": "2021-05-31T15:33:52.928652",
     "status": "completed"
    },
    "tags": []
   },
   "outputs": [],
   "source": [
    "#mean_test_score"
   ]
  },
  {
   "cell_type": "code",
   "execution_count": 74,
   "id": "editorial-receptor",
   "metadata": {
    "execution": {
     "iopub.execute_input": "2021-05-31T15:33:53.333163Z",
     "iopub.status.busy": "2021-05-31T15:33:53.332526Z",
     "iopub.status.idle": "2021-05-31T15:33:53.337636Z",
     "shell.execute_reply": "2021-05-31T15:33:53.338125Z",
     "shell.execute_reply.started": "2021-05-23T06:59:03.792691Z"
    },
    "papermill": {
     "duration": 0.142741,
     "end_time": "2021-05-31T15:33:53.338396",
     "exception": false,
     "start_time": "2021-05-31T15:33:53.195655",
     "status": "completed"
    },
    "tags": []
   },
   "outputs": [
    {
     "data": {
      "text/plain": [
       "\"\\n# Read in sample_submission dataframe\\nsubmission[['Class_1']] = lgbp2_pred[:,1]*lgbp134_pred[:,0]\\nsubmission[['Class_2']] =lgbp2_pred[:,0]\\nsubmission[['Class_3']] = lgbp2_pred[:,1]*lgbp134_pred[:,1]\\nsubmission[['Class_4']] = lgbp2_pred[:,1]*lgbp134_pred[:,2]\\n\\nsubmission.head()\\n\""
      ]
     },
     "execution_count": 74,
     "metadata": {},
     "output_type": "execute_result"
    }
   ],
   "source": [
    "'''\n",
    "# Read in sample_submission dataframe\n",
    "submission[['Class_1']] = lgbp2_pred[:,1]*lgbp134_pred[:,0]\n",
    "submission[['Class_2']] =lgbp2_pred[:,0]\n",
    "submission[['Class_3']] = lgbp2_pred[:,1]*lgbp134_pred[:,1]\n",
    "submission[['Class_4']] = lgbp2_pred[:,1]*lgbp134_pred[:,2]\n",
    "\n",
    "submission.head()\n",
    "'''"
   ]
  },
  {
   "cell_type": "code",
   "execution_count": 75,
   "id": "solid-hawaiian",
   "metadata": {
    "execution": {
     "iopub.execute_input": "2021-05-31T15:33:53.631069Z",
     "iopub.status.busy": "2021-05-31T15:33:53.630419Z",
     "iopub.status.idle": "2021-05-31T15:33:53.634823Z",
     "shell.execute_reply": "2021-05-31T15:33:53.635308Z",
     "shell.execute_reply.started": "2021-05-23T06:59:03.80829Z"
    },
    "papermill": {
     "duration": 0.141351,
     "end_time": "2021-05-31T15:33:53.635489",
     "exception": false,
     "start_time": "2021-05-31T15:33:53.494138",
     "status": "completed"
    },
    "tags": []
   },
   "outputs": [],
   "source": [
    "#submission[['Class_1','Class_2','Class_3','Class_4']].sum(axis=1).unique()"
   ]
  },
  {
   "cell_type": "code",
   "execution_count": 76,
   "id": "handmade-activity",
   "metadata": {
    "execution": {
     "iopub.execute_input": "2021-05-31T15:33:53.903999Z",
     "iopub.status.busy": "2021-05-31T15:33:53.903264Z",
     "iopub.status.idle": "2021-05-31T15:33:53.906451Z",
     "shell.execute_reply": "2021-05-31T15:33:53.906963Z",
     "shell.execute_reply.started": "2021-05-23T06:59:03.821095Z"
    },
    "papermill": {
     "duration": 0.138611,
     "end_time": "2021-05-31T15:33:53.907126",
     "exception": false,
     "start_time": "2021-05-31T15:33:53.768515",
     "status": "completed"
    },
    "tags": []
   },
   "outputs": [],
   "source": [
    "#submission.to_csv(\"submission_p2model.csv\", index=False)"
   ]
  },
  {
   "cell_type": "code",
   "execution_count": 77,
   "id": "upper-dancing",
   "metadata": {
    "execution": {
     "iopub.execute_input": "2021-05-31T15:33:54.178527Z",
     "iopub.status.busy": "2021-05-31T15:33:54.177876Z",
     "iopub.status.idle": "2021-05-31T15:33:54.181362Z",
     "shell.execute_reply": "2021-05-31T15:33:54.181876Z",
     "shell.execute_reply.started": "2021-05-23T06:59:03.838272Z"
    },
    "papermill": {
     "duration": 0.143994,
     "end_time": "2021-05-31T15:33:54.182050",
     "exception": false,
     "start_time": "2021-05-31T15:33:54.038056",
     "status": "completed"
    },
    "tags": []
   },
   "outputs": [
    {
     "data": {
      "text/plain": [
       "\"\\nBasic lgb\\npublic 1.09213\\n\\nTuned lgbp2>lgbp134\\npublic 1.08981\\n\\nlgbp2 = LGBMClassifier(objective='binary', \\n                      min_data_in_leaf=3, \\n                    max_depth=4,\\n                      learning_rate=0.066, \\n                       n_estimators=250,\\n                       bagging_fraction=0.75,\\n                       bagging_freq=4, \\n                       bagging_seed=8,\\n                       feature_fraction=0.3,\\n                       feature_fraction_seed=8,\\n                            verbose=-1,\\n                       random_state=17,\\n                   n_jobs=-1)\\n                   \\n                   \\n lgbp134 =   LGBMClassifier(objective='multiclass', \\n                      min_data_in_leaf=3, \\n                    max_depth=4,\\n                      learning_rate=0.1, \\n                       n_estimators=100,\\n                       bagging_fraction=0.75,\\n                       bagging_freq=4, \\n                       bagging_seed=8,\\n                      feature_fraction=0.4,\\n                       feature_fraction_seed=8,\\n                            verbose=-1,\\n                       random_state=17,\\n                   n_jobs=-1)                \\n\\n\""
      ]
     },
     "execution_count": 77,
     "metadata": {},
     "output_type": "execute_result"
    }
   ],
   "source": [
    "'''\n",
    "Basic lgb\n",
    "public 1.09213\n",
    "\n",
    "Tuned lgbp2>lgbp134\n",
    "public 1.08981\n",
    "\n",
    "lgbp2 = LGBMClassifier(objective='binary', \n",
    "                      min_data_in_leaf=3, \n",
    "                    max_depth=4,\n",
    "                      learning_rate=0.066, \n",
    "                       n_estimators=250,\n",
    "                       bagging_fraction=0.75,\n",
    "                       bagging_freq=4, \n",
    "                       bagging_seed=8,\n",
    "                       feature_fraction=0.3,\n",
    "                       feature_fraction_seed=8,\n",
    "                            verbose=-1,\n",
    "                       random_state=17,\n",
    "                   n_jobs=-1)\n",
    "                   \n",
    "                   \n",
    " lgbp134 =   LGBMClassifier(objective='multiclass', \n",
    "                      min_data_in_leaf=3, \n",
    "                    max_depth=4,\n",
    "                      learning_rate=0.1, \n",
    "                       n_estimators=100,\n",
    "                       bagging_fraction=0.75,\n",
    "                       bagging_freq=4, \n",
    "                       bagging_seed=8,\n",
    "                      feature_fraction=0.4,\n",
    "                       feature_fraction_seed=8,\n",
    "                            verbose=-1,\n",
    "                       random_state=17,\n",
    "                   n_jobs=-1)                \n",
    "\n",
    "'''"
   ]
  },
  {
   "cell_type": "markdown",
   "id": "operating-muscle",
   "metadata": {
    "papermill": {
     "duration": 0.132308,
     "end_time": "2021-05-31T15:33:54.445414",
     "exception": false,
     "start_time": "2021-05-31T15:33:54.313106",
     "status": "completed"
    },
    "tags": []
   },
   "source": [
    "# Additional2: Summation of features"
   ]
  },
  {
   "cell_type": "markdown",
   "id": "vocational-baptist",
   "metadata": {
    "papermill": {
     "duration": 0.131221,
     "end_time": "2021-05-31T15:33:54.707472",
     "exception": false,
     "start_time": "2021-05-31T15:33:54.576251",
     "status": "completed"
    },
    "tags": []
   },
   "source": [
    "Combinatorial summation of the 50 features as new features. The features dimension is exploding with high computation cost. Result is not satisfactory, and not good enough to justify the higher complexity."
   ]
  },
  {
   "cell_type": "code",
   "execution_count": 78,
   "id": "revised-impact",
   "metadata": {
    "execution": {
     "iopub.execute_input": "2021-05-31T15:33:54.971625Z",
     "iopub.status.busy": "2021-05-31T15:33:54.970619Z",
     "iopub.status.idle": "2021-05-31T15:33:54.975658Z",
     "shell.execute_reply": "2021-05-31T15:33:54.976147Z",
     "shell.execute_reply.started": "2021-05-23T06:59:03.852945Z"
    },
    "papermill": {
     "duration": 0.138421,
     "end_time": "2021-05-31T15:33:54.976309",
     "exception": false,
     "start_time": "2021-05-31T15:33:54.837888",
     "status": "completed"
    },
    "tags": []
   },
   "outputs": [
    {
     "data": {
      "text/plain": [
       "'\\ntrainsum_features = train_features\\ntestsum_features = test_features\\n'"
      ]
     },
     "execution_count": 78,
     "metadata": {},
     "output_type": "execute_result"
    }
   ],
   "source": [
    "'''\n",
    "trainsum_features = train_features\n",
    "testsum_features = test_features\n",
    "'''"
   ]
  },
  {
   "cell_type": "code",
   "execution_count": 79,
   "id": "joined-affect",
   "metadata": {
    "execution": {
     "iopub.execute_input": "2021-05-31T15:33:55.242925Z",
     "iopub.status.busy": "2021-05-31T15:33:55.241885Z",
     "iopub.status.idle": "2021-05-31T15:33:55.249941Z",
     "shell.execute_reply": "2021-05-31T15:33:55.249397Z",
     "shell.execute_reply.started": "2021-05-23T06:59:03.865885Z"
    },
    "papermill": {
     "duration": 0.141883,
     "end_time": "2021-05-31T15:33:55.250097",
     "exception": false,
     "start_time": "2021-05-31T15:33:55.108214",
     "status": "completed"
    },
    "tags": []
   },
   "outputs": [
    {
     "data": {
      "text/plain": [
       "'\\n%%time\\nfor i in range(0,49):\\n    a=\\'feature_\\'+str(i)\\n    \\n    for j in range(i+1,50): \\n        b=\\'feature_\\'+str(j)\\n        trainsum_features[str(i)+\"_\"+str(j)+\"_sum\"] = train_features[[a,b]].sum(axis=1)\\n        '"
      ]
     },
     "execution_count": 79,
     "metadata": {},
     "output_type": "execute_result"
    }
   ],
   "source": [
    "'''\n",
    "%%time\n",
    "for i in range(0,49):\n",
    "    a='feature_'+str(i)\n",
    "    \n",
    "    for j in range(i+1,50): \n",
    "        b='feature_'+str(j)\n",
    "        trainsum_features[str(i)+\"_\"+str(j)+\"_sum\"] = train_features[[a,b]].sum(axis=1)\n",
    "        '''"
   ]
  },
  {
   "cell_type": "code",
   "execution_count": 80,
   "id": "nuclear-standing",
   "metadata": {
    "execution": {
     "iopub.execute_input": "2021-05-31T15:33:55.526831Z",
     "iopub.status.busy": "2021-05-31T15:33:55.525964Z",
     "iopub.status.idle": "2021-05-31T15:33:55.529025Z",
     "shell.execute_reply": "2021-05-31T15:33:55.529547Z",
     "shell.execute_reply.started": "2021-05-23T06:59:03.879518Z"
    },
    "papermill": {
     "duration": 0.14372,
     "end_time": "2021-05-31T15:33:55.529724",
     "exception": false,
     "start_time": "2021-05-31T15:33:55.386004",
     "status": "completed"
    },
    "tags": []
   },
   "outputs": [
    {
     "data": {
      "text/plain": [
       "'\\n%%time\\nfor i in range(0,49):\\n    a=\\'feature_\\'+str(i)\\n    \\n    for j in range(i+1,50): \\n        b=\\'feature_\\'+str(j)\\n        testsum_features[str(i)+\"_\"+str(j)+\"_sum\"] = test_features[[a,b]].sum(axis=1)\\n        '"
      ]
     },
     "execution_count": 80,
     "metadata": {},
     "output_type": "execute_result"
    }
   ],
   "source": [
    "'''\n",
    "%%time\n",
    "for i in range(0,49):\n",
    "    a='feature_'+str(i)\n",
    "    \n",
    "    for j in range(i+1,50): \n",
    "        b='feature_'+str(j)\n",
    "        testsum_features[str(i)+\"_\"+str(j)+\"_sum\"] = test_features[[a,b]].sum(axis=1)\n",
    "        '''"
   ]
  },
  {
   "cell_type": "code",
   "execution_count": 81,
   "id": "legislative-surgery",
   "metadata": {
    "execution": {
     "iopub.execute_input": "2021-05-31T15:33:55.803138Z",
     "iopub.status.busy": "2021-05-31T15:33:55.802424Z",
     "iopub.status.idle": "2021-05-31T15:33:55.805507Z",
     "shell.execute_reply": "2021-05-31T15:33:55.806009Z",
     "shell.execute_reply.started": "2021-05-23T06:59:03.894988Z"
    },
    "papermill": {
     "duration": 0.141811,
     "end_time": "2021-05-31T15:33:55.806176",
     "exception": false,
     "start_time": "2021-05-31T15:33:55.664365",
     "status": "completed"
    },
    "tags": []
   },
   "outputs": [
    {
     "data": {
      "text/plain": [
       "\"\\n%%time\\n# Light Gradient Boosting Regressor\\nlgb =  LGBMClassifier(objective='multiclass',                     \\n                            verbose=-1,\\n                       random_state=17,\\n                      importance_type='gain',\\n                   n_jobs=-1)\\n\\nlgb_model = lgb.fit(trainsum_features, train_labels)\\nlgb_pred = lgb_model.predict_proba(testsum_features)\\n\""
      ]
     },
     "execution_count": 81,
     "metadata": {},
     "output_type": "execute_result"
    }
   ],
   "source": [
    "'''\n",
    "%%time\n",
    "# Light Gradient Boosting Regressor\n",
    "lgb =  LGBMClassifier(objective='multiclass',                     \n",
    "                            verbose=-1,\n",
    "                       random_state=17,\n",
    "                      importance_type='gain',\n",
    "                   n_jobs=-1)\n",
    "\n",
    "lgb_model = lgb.fit(trainsum_features, train_labels)\n",
    "lgb_pred = lgb_model.predict_proba(testsum_features)\n",
    "'''"
   ]
  },
  {
   "cell_type": "code",
   "execution_count": 82,
   "id": "apparent-price",
   "metadata": {
    "execution": {
     "iopub.execute_input": "2021-05-31T15:33:56.087810Z",
     "iopub.status.busy": "2021-05-31T15:33:56.086416Z",
     "iopub.status.idle": "2021-05-31T15:33:56.092272Z",
     "shell.execute_reply": "2021-05-31T15:33:56.092836Z",
     "shell.execute_reply.started": "2021-05-23T06:59:03.911937Z"
    },
    "papermill": {
     "duration": 0.149043,
     "end_time": "2021-05-31T15:33:56.093017",
     "exception": false,
     "start_time": "2021-05-31T15:33:55.943974",
     "status": "completed"
    },
    "tags": []
   },
   "outputs": [
    {
     "data": {
      "text/plain": [
       "'\\narr = np.stack((lgb.feature_name_, lgb.feature_importances_) ,axis=1)\\nm = [row[0] for row in arr if row[1] != \"0.0\"]\\n'"
      ]
     },
     "execution_count": 82,
     "metadata": {},
     "output_type": "execute_result"
    }
   ],
   "source": [
    "'''\n",
    "arr = np.stack((lgb.feature_name_, lgb.feature_importances_) ,axis=1)\n",
    "m = [row[0] for row in arr if row[1] != \"0.0\"]\n",
    "'''"
   ]
  },
  {
   "cell_type": "code",
   "execution_count": 83,
   "id": "harmful-weight",
   "metadata": {
    "execution": {
     "iopub.execute_input": "2021-05-31T15:33:56.366583Z",
     "iopub.status.busy": "2021-05-31T15:33:56.365896Z",
     "iopub.status.idle": "2021-05-31T15:33:56.370162Z",
     "shell.execute_reply": "2021-05-31T15:33:56.370726Z",
     "shell.execute_reply.started": "2021-05-23T06:59:03.927457Z"
    },
    "papermill": {
     "duration": 0.141923,
     "end_time": "2021-05-31T15:33:56.370899",
     "exception": false,
     "start_time": "2021-05-31T15:33:56.228976",
     "status": "completed"
    },
    "tags": []
   },
   "outputs": [
    {
     "data": {
      "text/plain": [
       "'\\ntrainsum_features = trainsum_features[m]\\ntestsum_features = testsum_features[m]\\n'"
      ]
     },
     "execution_count": 83,
     "metadata": {},
     "output_type": "execute_result"
    }
   ],
   "source": [
    "'''\n",
    "trainsum_features = trainsum_features[m]\n",
    "testsum_features = testsum_features[m]\n",
    "'''"
   ]
  },
  {
   "cell_type": "code",
   "execution_count": 84,
   "id": "aging-unemployment",
   "metadata": {
    "execution": {
     "iopub.execute_input": "2021-05-31T15:33:56.650524Z",
     "iopub.status.busy": "2021-05-31T15:33:56.649849Z",
     "iopub.status.idle": "2021-05-31T15:33:56.655611Z",
     "shell.execute_reply": "2021-05-31T15:33:56.656137Z",
     "shell.execute_reply.started": "2021-05-23T06:59:03.93787Z"
    },
    "papermill": {
     "duration": 0.146375,
     "end_time": "2021-05-31T15:33:56.656314",
     "exception": false,
     "start_time": "2021-05-31T15:33:56.509939",
     "status": "completed"
    },
    "tags": []
   },
   "outputs": [
    {
     "data": {
      "text/plain": [
       "'\\n# Read in the dataset as a dataframe\\ntrainsum_features = pd.read_csv(\"../input/tps-may-2021/trainsum_features.csv\")\\ntestsum_features = pd.read_csv(\"../input/tps-may-2021/testsum_features.csv\")\\n'"
      ]
     },
     "execution_count": 84,
     "metadata": {},
     "output_type": "execute_result"
    }
   ],
   "source": [
    "'''\n",
    "# Read in the dataset as a dataframe\n",
    "trainsum_features = pd.read_csv(\"../input/tps-may-2021/trainsum_features.csv\")\n",
    "testsum_features = pd.read_csv(\"../input/tps-may-2021/testsum_features.csv\")\n",
    "'''"
   ]
  },
  {
   "cell_type": "code",
   "execution_count": 85,
   "id": "contemporary-liver",
   "metadata": {
    "execution": {
     "iopub.execute_input": "2021-05-31T15:33:56.967389Z",
     "iopub.status.busy": "2021-05-31T15:33:56.966732Z",
     "iopub.status.idle": "2021-05-31T15:33:56.969334Z",
     "shell.execute_reply": "2021-05-31T15:33:56.969823Z",
     "shell.execute_reply.started": "2021-05-23T06:59:28.070172Z"
    },
    "papermill": {
     "duration": 0.162401,
     "end_time": "2021-05-31T15:33:56.969992",
     "exception": false,
     "start_time": "2021-05-31T15:33:56.807591",
     "status": "completed"
    },
    "tags": []
   },
   "outputs": [
    {
     "data": {
      "text/plain": [
       "'\\ntrainsum_features.to_csv(\"trainsum_features.csv\", index=False)\\ntestsum_features.to_csv(\"testsum_features.csv\", index=False)\\n'"
      ]
     },
     "execution_count": 85,
     "metadata": {},
     "output_type": "execute_result"
    }
   ],
   "source": [
    "'''\n",
    "trainsum_features.to_csv(\"trainsum_features.csv\", index=False)\n",
    "testsum_features.to_csv(\"testsum_features.csv\", index=False)\n",
    "'''"
   ]
  },
  {
   "cell_type": "code",
   "execution_count": 86,
   "id": "affected-lesbian",
   "metadata": {
    "execution": {
     "iopub.execute_input": "2021-05-31T15:33:57.308271Z",
     "iopub.status.busy": "2021-05-31T15:33:57.307606Z",
     "iopub.status.idle": "2021-05-31T15:33:57.313073Z",
     "shell.execute_reply": "2021-05-31T15:33:57.313548Z",
     "shell.execute_reply.started": "2021-05-23T07:00:06.705327Z"
    },
    "papermill": {
     "duration": 0.197602,
     "end_time": "2021-05-31T15:33:57.313729",
     "exception": false,
     "start_time": "2021-05-31T15:33:57.116127",
     "status": "completed"
    },
    "tags": []
   },
   "outputs": [
    {
     "data": {
      "text/plain": [
       "\"\\n# Light Gradient Boosting Regressor\\nlgbsum =  LGBMClassifier(objective='multiclass', \\n                     min_data_in_leaf=1, \\n                    max_depth=4,\\n                      learning_rate=0.07, \\n                       n_estimators=100,\\n                       bagging_fraction=0.75,\\n                       bagging_freq=4, \\n                       bagging_seed=8,\\n                     feature_fraction=0.3,\\n                       feature_fraction_seed=8,\\n                            verbose=-1,\\n                       random_state=17,\\n                   n_jobs=-1)\\n\\nlgbsum_model = lgbsum.fit(trainsum_features, train_labels)\\nlgbsum_pred = lgbsum_model.predict_proba(testsum_features)\\n\""
      ]
     },
     "execution_count": 86,
     "metadata": {},
     "output_type": "execute_result"
    }
   ],
   "source": [
    "'''\n",
    "# Light Gradient Boosting Regressor\n",
    "lgbsum =  LGBMClassifier(objective='multiclass', \n",
    "                     min_data_in_leaf=1, \n",
    "                    max_depth=4,\n",
    "                      learning_rate=0.07, \n",
    "                       n_estimators=100,\n",
    "                       bagging_fraction=0.75,\n",
    "                       bagging_freq=4, \n",
    "                       bagging_seed=8,\n",
    "                     feature_fraction=0.3,\n",
    "                       feature_fraction_seed=8,\n",
    "                            verbose=-1,\n",
    "                       random_state=17,\n",
    "                   n_jobs=-1)\n",
    "\n",
    "lgbsum_model = lgbsum.fit(trainsum_features, train_labels)\n",
    "lgbsum_pred = lgbsum_model.predict_proba(testsum_features)\n",
    "'''"
   ]
  },
  {
   "cell_type": "code",
   "execution_count": 87,
   "id": "toxic-client",
   "metadata": {
    "execution": {
     "iopub.execute_input": "2021-05-31T15:33:57.589931Z",
     "iopub.status.busy": "2021-05-31T15:33:57.589006Z",
     "iopub.status.idle": "2021-05-31T15:33:57.594564Z",
     "shell.execute_reply": "2021-05-31T15:33:57.593965Z",
     "shell.execute_reply.started": "2021-05-23T07:00:06.713085Z"
    },
    "papermill": {
     "duration": 0.145323,
     "end_time": "2021-05-31T15:33:57.594703",
     "exception": false,
     "start_time": "2021-05-31T15:33:57.449380",
     "status": "completed"
    },
    "tags": []
   },
   "outputs": [
    {
     "data": {
      "text/plain": [
       "'\\n# Setup cross validation folds\\nkf = StratifiedKFold(n_splits=5, random_state=42, shuffle=True)\\n\\n# Define error metrics\\ndef loss(y, y_pred):\\n    return np.sqrt(log_loss(y, y_pred))\\n\\ndef cvsum_loss(model, X = trainsum_features):\\n    loss = np.sqrt(-cross_val_score(model, X, train_labels, scoring=\"neg_log_loss\", cv=kf, n_jobs=-1))\\n    return (loss)\\n    '"
      ]
     },
     "execution_count": 87,
     "metadata": {},
     "output_type": "execute_result"
    }
   ],
   "source": [
    "'''\n",
    "# Setup cross validation folds\n",
    "kf = StratifiedKFold(n_splits=5, random_state=42, shuffle=True)\n",
    "\n",
    "# Define error metrics\n",
    "def loss(y, y_pred):\n",
    "    return np.sqrt(log_loss(y, y_pred))\n",
    "\n",
    "def cvsum_loss(model, X = trainsum_features):\n",
    "    loss = np.sqrt(-cross_val_score(model, X, train_labels, scoring=\"neg_log_loss\", cv=kf, n_jobs=-1))\n",
    "    return (loss)\n",
    "    '''"
   ]
  },
  {
   "cell_type": "code",
   "execution_count": 88,
   "id": "interim-grain",
   "metadata": {
    "execution": {
     "iopub.execute_input": "2021-05-31T15:33:57.873003Z",
     "iopub.status.busy": "2021-05-31T15:33:57.872329Z",
     "iopub.status.idle": "2021-05-31T15:33:57.875838Z",
     "shell.execute_reply": "2021-05-31T15:33:57.876319Z",
     "shell.execute_reply.started": "2021-05-23T07:00:06.733946Z"
    },
    "papermill": {
     "duration": 0.145195,
     "end_time": "2021-05-31T15:33:57.876507",
     "exception": false,
     "start_time": "2021-05-31T15:33:57.731312",
     "status": "completed"
    },
    "tags": []
   },
   "outputs": [
    {
     "data": {
      "text/plain": [
       "'\\nscores = {}\\n\\nscore = cvsum_loss(lgbsum)\\nprint(\"rf: {:.4f} ({:.4f})\".format(score.mean(), score.std()))\\nscores[\\'rf\\'] = (score.mean(), score.std())\\n'"
      ]
     },
     "execution_count": 88,
     "metadata": {},
     "output_type": "execute_result"
    }
   ],
   "source": [
    "'''\n",
    "scores = {}\n",
    "\n",
    "score = cvsum_loss(lgbsum)\n",
    "print(\"rf: {:.4f} ({:.4f})\".format(score.mean(), score.std()))\n",
    "scores['rf'] = (score.mean(), score.std())\n",
    "'''"
   ]
  },
  {
   "cell_type": "code",
   "execution_count": 89,
   "id": "colored-threshold",
   "metadata": {
    "execution": {
     "iopub.execute_input": "2021-05-31T15:33:58.166267Z",
     "iopub.status.busy": "2021-05-31T15:33:58.165349Z",
     "iopub.status.idle": "2021-05-31T15:33:58.169902Z",
     "shell.execute_reply": "2021-05-31T15:33:58.169265Z",
     "shell.execute_reply.started": "2021-05-23T07:30:28.21728Z"
    },
    "papermill": {
     "duration": 0.152781,
     "end_time": "2021-05-31T15:33:58.170038",
     "exception": false,
     "start_time": "2021-05-31T15:33:58.017257",
     "status": "completed"
    },
    "tags": []
   },
   "outputs": [
    {
     "data": {
      "text/plain": [
       "'\\n%%time\\nnum_est = [0.05,0.07,0.1]\\n\\nvc_model = LGBMClassifier(objective=\\'multiclass\\', \\n                     min_data_in_leaf=1, \\n                    max_depth=4,\\n                      learning_rate=0.07, \\n                       n_estimators=100,\\n                       bagging_fraction=0.75,\\n                       bagging_freq=4, \\n                       bagging_seed=8,\\n                     feature_fraction=0.3,\\n                       feature_fraction_seed=8,\\n                            verbose=-1,\\n                       random_state=17,\\n                   n_jobs=-1)\\n\\n\\n# Calculate accuracy on training and test set using the\\n# parameter with 3-fold cross validation\\ntrain_score, test_score = validation_curve( vc_model,\\n                                X = trainsum_features, y = train_labels, \\n                                param_name = \\'learning_rate\\', \\n                                param_range = num_est, cv = 2, scoring=\"neg_log_loss\", n_jobs=-1\\n                            )\\n \\n# Calculating mean and standard deviation of training score\\nmean_train_score = -np.mean(train_score, axis = 1)\\nstd_train_score = np.std(train_score, axis = 1)\\n \\n# Calculating mean and standard deviation of testing score\\nmean_test_score = -np.mean(test_score, axis = 1)\\nstd_test_score = np.std(test_score, axis = 1)\\n \\n# Plot mean accuracy scores for training and testing scores\\nplt.plot(num_est, mean_train_score,\\n     label = \"Training Score\", color = \\'b\\')\\nplt.plot(num_est, mean_test_score,\\n   label = \"Cross Validation Score\", color = \\'g\\')\\n \\n# Creating the plot\\nplt.title(\"Validation Curve\")\\nplt.xlabel(\"param\")\\nplt.ylabel(\"LogLoss\")\\nplt.tight_layout()\\nplt.legend(loc = \\'best\\')\\nplt.show()\\n'"
      ]
     },
     "execution_count": 89,
     "metadata": {},
     "output_type": "execute_result"
    }
   ],
   "source": [
    "'''\n",
    "%%time\n",
    "num_est = [0.05,0.07,0.1]\n",
    "\n",
    "vc_model = LGBMClassifier(objective='multiclass', \n",
    "                     min_data_in_leaf=1, \n",
    "                    max_depth=4,\n",
    "                      learning_rate=0.07, \n",
    "                       n_estimators=100,\n",
    "                       bagging_fraction=0.75,\n",
    "                       bagging_freq=4, \n",
    "                       bagging_seed=8,\n",
    "                     feature_fraction=0.3,\n",
    "                       feature_fraction_seed=8,\n",
    "                            verbose=-1,\n",
    "                       random_state=17,\n",
    "                   n_jobs=-1)\n",
    "\n",
    "\n",
    "# Calculate accuracy on training and test set using the\n",
    "# parameter with 3-fold cross validation\n",
    "train_score, test_score = validation_curve( vc_model,\n",
    "                                X = trainsum_features, y = train_labels, \n",
    "                                param_name = 'learning_rate', \n",
    "                                param_range = num_est, cv = 2, scoring=\"neg_log_loss\", n_jobs=-1\n",
    "                            )\n",
    " \n",
    "# Calculating mean and standard deviation of training score\n",
    "mean_train_score = -np.mean(train_score, axis = 1)\n",
    "std_train_score = np.std(train_score, axis = 1)\n",
    " \n",
    "# Calculating mean and standard deviation of testing score\n",
    "mean_test_score = -np.mean(test_score, axis = 1)\n",
    "std_test_score = np.std(test_score, axis = 1)\n",
    " \n",
    "# Plot mean accuracy scores for training and testing scores\n",
    "plt.plot(num_est, mean_train_score,\n",
    "     label = \"Training Score\", color = 'b')\n",
    "plt.plot(num_est, mean_test_score,\n",
    "   label = \"Cross Validation Score\", color = 'g')\n",
    " \n",
    "# Creating the plot\n",
    "plt.title(\"Validation Curve\")\n",
    "plt.xlabel(\"param\")\n",
    "plt.ylabel(\"LogLoss\")\n",
    "plt.tight_layout()\n",
    "plt.legend(loc = 'best')\n",
    "plt.show()\n",
    "'''"
   ]
  },
  {
   "cell_type": "code",
   "execution_count": 90,
   "id": "willing-documentation",
   "metadata": {
    "execution": {
     "iopub.execute_input": "2021-05-31T15:33:58.448119Z",
     "iopub.status.busy": "2021-05-31T15:33:58.447480Z",
     "iopub.status.idle": "2021-05-31T15:33:58.450946Z",
     "shell.execute_reply": "2021-05-31T15:33:58.450365Z",
     "shell.execute_reply.started": "2021-05-23T07:35:04.928187Z"
    },
    "papermill": {
     "duration": 0.143777,
     "end_time": "2021-05-31T15:33:58.451094",
     "exception": false,
     "start_time": "2021-05-31T15:33:58.307317",
     "status": "completed"
    },
    "tags": []
   },
   "outputs": [],
   "source": [
    "#mean_test_score"
   ]
  },
  {
   "cell_type": "code",
   "execution_count": 91,
   "id": "tough-darkness",
   "metadata": {
    "execution": {
     "iopub.execute_input": "2021-05-31T15:33:58.730763Z",
     "iopub.status.busy": "2021-05-31T15:33:58.730126Z",
     "iopub.status.idle": "2021-05-31T15:33:58.736065Z",
     "shell.execute_reply": "2021-05-31T15:33:58.735569Z"
    },
    "papermill": {
     "duration": 0.146418,
     "end_time": "2021-05-31T15:33:58.736204",
     "exception": false,
     "start_time": "2021-05-31T15:33:58.589786",
     "status": "completed"
    },
    "tags": []
   },
   "outputs": [
    {
     "data": {
      "text/plain": [
       "\"\\n# Read in sample_submission dataframe\\nsubmission[['Class_1', 'Class_2', 'Class_3', 'Class_4']] = lgbsum_pred\\nsubmission.head()\\n\""
      ]
     },
     "execution_count": 91,
     "metadata": {},
     "output_type": "execute_result"
    }
   ],
   "source": [
    "'''\n",
    "# Read in sample_submission dataframe\n",
    "submission[['Class_1', 'Class_2', 'Class_3', 'Class_4']] = lgbsum_pred\n",
    "submission.head()\n",
    "'''"
   ]
  },
  {
   "cell_type": "code",
   "execution_count": 92,
   "id": "intense-toolbox",
   "metadata": {
    "execution": {
     "iopub.execute_input": "2021-05-31T15:33:59.022125Z",
     "iopub.status.busy": "2021-05-31T15:33:59.021453Z",
     "iopub.status.idle": "2021-05-31T15:33:59.024769Z",
     "shell.execute_reply": "2021-05-31T15:33:59.025230Z"
    },
    "papermill": {
     "duration": 0.150178,
     "end_time": "2021-05-31T15:33:59.025411",
     "exception": false,
     "start_time": "2021-05-31T15:33:58.875233",
     "status": "completed"
    },
    "tags": []
   },
   "outputs": [],
   "source": [
    "#submission.to_csv(\"submission_sumlgb.csv\", index=False)"
   ]
  },
  {
   "cell_type": "code",
   "execution_count": 93,
   "id": "guilty-jungle",
   "metadata": {
    "execution": {
     "iopub.execute_input": "2021-05-31T15:33:59.323495Z",
     "iopub.status.busy": "2021-05-31T15:33:59.322859Z",
     "iopub.status.idle": "2021-05-31T15:33:59.327660Z",
     "shell.execute_reply": "2021-05-31T15:33:59.328173Z"
    },
    "papermill": {
     "duration": 0.15039,
     "end_time": "2021-05-31T15:33:59.328350",
     "exception": false,
     "start_time": "2021-05-31T15:33:59.177960",
     "status": "completed"
    },
    "tags": []
   },
   "outputs": [
    {
     "data": {
      "text/plain": [
       "\"\\nBasic lgb\\nCV 1.0478 (0.0006)\\npublic 1.09072\\n\\nTuned lgbsum\\nCV 1.0462 (0.0007)\\npublic 1.09009\\n\\nlgbsum = LGBMClassifier(objective='multiclass', \\n                     min_data_in_leaf=1, \\n                    max_depth=4,\\n                      learning_rate=0.07, \\n                       n_estimators=100,\\n                       bagging_fraction=0.75,\\n                       bagging_freq=4, \\n                       bagging_seed=8,\\n                     feature_fraction=0.3,\\n                       feature_fraction_seed=8,\\n                            verbose=-1,\\n                       random_state=17,\\n                   n_jobs=-1)\\n\""
      ]
     },
     "execution_count": 93,
     "metadata": {},
     "output_type": "execute_result"
    }
   ],
   "source": [
    "'''\n",
    "Basic lgb\n",
    "CV 1.0478 (0.0006)\n",
    "public 1.09072\n",
    "\n",
    "Tuned lgbsum\n",
    "CV 1.0462 (0.0007)\n",
    "public 1.09009\n",
    "\n",
    "lgbsum = LGBMClassifier(objective='multiclass', \n",
    "                     min_data_in_leaf=1, \n",
    "                    max_depth=4,\n",
    "                      learning_rate=0.07, \n",
    "                       n_estimators=100,\n",
    "                       bagging_fraction=0.75,\n",
    "                       bagging_freq=4, \n",
    "                       bagging_seed=8,\n",
    "                     feature_fraction=0.3,\n",
    "                       feature_fraction_seed=8,\n",
    "                            verbose=-1,\n",
    "                       random_state=17,\n",
    "                   n_jobs=-1)\n",
    "'''"
   ]
  }
 ],
 "metadata": {
  "kernelspec": {
   "display_name": "Python 3",
   "language": "python",
   "name": "python3"
  },
  "language_info": {
   "codemirror_mode": {
    "name": "ipython",
    "version": 3
   },
   "file_extension": ".py",
   "mimetype": "text/x-python",
   "name": "python",
   "nbconvert_exporter": "python",
   "pygments_lexer": "ipython3",
   "version": "3.7.10"
  },
  "papermill": {
   "default_parameters": {},
   "duration": 875.546516,
   "end_time": "2021-05-31T15:34:01.368052",
   "environment_variables": {},
   "exception": null,
   "input_path": "__notebook__.ipynb",
   "output_path": "__notebook__.ipynb",
   "parameters": {},
   "start_time": "2021-05-31T15:19:25.821536",
   "version": "2.3.3"
  }
 },
 "nbformat": 4,
 "nbformat_minor": 5
}
